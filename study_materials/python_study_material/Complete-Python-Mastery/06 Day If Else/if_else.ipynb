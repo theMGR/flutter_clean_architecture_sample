{
 "cells": [
  {
   "cell_type": "code",
   "execution_count": 1,
   "metadata": {},
   "outputs": [],
   "source": [
    "# if...else statement\n",
    "\n",
    "#if condition:\n",
    "    # code block if the condition is true \n",
    "#else:\n",
    "    #code block if the condition is false    "
   ]
  },
  {
   "cell_type": "code",
   "execution_count": 2,
   "metadata": {},
   "outputs": [],
   "source": [
    "num1 = 100\n",
    "if num1 < 50:\n",
    "    print(\"true...\")"
   ]
  },
  {
   "cell_type": "code",
   "execution_count": 4,
   "metadata": {},
   "outputs": [
    {
     "name": "stdout",
     "output_type": "stream",
     "text": [
      "number 1 is smallest ...\n"
     ]
    }
   ],
   "source": [
    "num1 = int(input('Enter Number 1'))\n",
    "num2 = int(input('Enter Number 2'))\n",
    "if num1 < num2:\n",
    "    print('number 1 is smallest ...') # True section\n",
    "else:\n",
    "    print('number 1 is not smallest ...')  #false section"
   ]
  },
  {
   "cell_type": "code",
   "execution_count": 2,
   "metadata": {},
   "outputs": [
    {
     "name": "stdout",
     "output_type": "stream",
     "text": [
      "the number is negative ...\n"
     ]
    }
   ],
   "source": [
    "# Example checking if number is positive or negative \n",
    "\n",
    "num = -5\n",
    "\n",
    "if num >= 0:\n",
    "    print(\"the number is positive ....\")\n",
    "else:\n",
    "    print(\"the number is negative ...\")"
   ]
  },
  {
   "cell_type": "markdown",
   "metadata": {},
   "source": [
    "logic 1\n",
    "1. if number1 < number2 \n",
    "2. if number1 < number3\n",
    "3. if number2 < number1\n",
    "4. if number2 < number3\n",
    "5. if number3 < number1\n",
    "6. if number3 < number2\n",
    "\n",
    "logic 2\n",
    "1. if number1 < number2 and number1 < number3\n",
    "2. if number2 < number1 and number2 < number3\n",
    "3. if number3 < number1 and number3 < number2"
   ]
  },
  {
   "cell_type": "code",
   "execution_count": 5,
   "metadata": {},
   "outputs": [
    {
     "name": "stdout",
     "output_type": "stream",
     "text": [
      "Number 2 is smallest....  55\n"
     ]
    }
   ],
   "source": [
    "number1 = int(input('enter number 1 '));\n",
    "number2 = int(input('enter number 2 '));\n",
    "number3 = int(input('enter number 3 '));\n",
    "\n",
    "if number1 < number2 and number1 < number3:\n",
    "    print('Number 1 is smallest.... ',number1)\n",
    "elif number2 < number1 and number2 < number3:\n",
    "    print('Number 2 is smallest.... ',number2)\n",
    "else:\n",
    "    print('Number 3 is smallest.... ',number3)"
   ]
  },
  {
   "cell_type": "code",
   "execution_count": 5,
   "metadata": {},
   "outputs": [
    {
     "name": "stdout",
     "output_type": "stream",
     "text": [
      "Grade : Fail\n"
     ]
    }
   ],
   "source": [
    "# Example : Grading System \n",
    "# logic =  Greater 90 = Grade A\n",
    "# logic =  Greater 80 = Grade B\n",
    "# logic =  Greater 70 = Grade C\n",
    "# logic =  Greater 60 = Grade D\n",
    "# logic =  Less  60 = Grade F\n",
    "\n",
    "score = 30\n",
    "if score >= 90:\n",
    "    print(\"Grade : A\")\n",
    "elif score >= 80:\n",
    "    print(\"Grade : B\") \n",
    "elif score >= 70:\n",
    "    print(\"Grade : C\")\n",
    "elif score >= 60:\n",
    "    print(\"Grade : D\") \n",
    "else:\n",
    "    print(\"Grade : Fail\")        \n"
   ]
  },
  {
   "cell_type": "code",
   "execution_count": 3,
   "metadata": {},
   "outputs": [
    {
     "name": "stdout",
     "output_type": "stream",
     "text": [
      "your number  41  = is odd -- \n"
     ]
    }
   ],
   "source": [
    "# Write a Program to Check Whether a Number is Even or Odd.?\n",
    "\n",
    "number1 = int(input('Enter Number ... '))\n",
    "\n",
    "if number1%2==0:\n",
    "    print('your number ',number1,' = is even -- ')\n",
    "else:\n",
    "    print('your number ',number1,' = is odd -- ')  "
   ]
  },
  {
   "cell_type": "code",
   "execution_count": 4,
   "metadata": {},
   "outputs": [
    {
     "name": "stdout",
     "output_type": "stream",
     "text": [
      "Number 1 is smallest ...\n"
     ]
    }
   ],
   "source": [
    "# Example:\n",
    "\n",
    "number1 = 1\n",
    "number2 = 20\n",
    "number3 = 10\n",
    "\n",
    "if number1 < number2 and number1 < number3:\n",
    "    print('Number 1 is smallest ...')\n",
    "elif number2 < number1 and number2 < number3:\n",
    "    print('Number 2 is smallest....') \n",
    "else:\n",
    "    print('Number 3 is smallest...')     "
   ]
  },
  {
   "cell_type": "code",
   "execution_count": null,
   "metadata": {},
   "outputs": [],
   "source": []
  }
 ],
 "metadata": {
  "kernelspec": {
   "display_name": "Python 3",
   "language": "python",
   "name": "python3"
  },
  "language_info": {
   "codemirror_mode": {
    "name": "ipython",
    "version": 3
   },
   "file_extension": ".py",
   "mimetype": "text/x-python",
   "name": "python",
   "nbconvert_exporter": "python",
   "pygments_lexer": "ipython3",
   "version": "3.10.8"
  },
  "orig_nbformat": 4
 },
 "nbformat": 4,
 "nbformat_minor": 2
}
