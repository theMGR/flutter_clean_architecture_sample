{
 "cells": [
  {
   "cell_type": "code",
   "execution_count": 3,
   "metadata": {},
   "outputs": [
    {
     "name": "stdout",
     "output_type": "stream",
     "text": [
      "      Name  Age Country\n",
      "0    Alice   28     USA\n",
      "1      Bob   35  Canada\n",
      "2  Charlie   22      UK\n"
     ]
    }
   ],
   "source": [
    "# reading csv files \n",
    "# use panda to read csv\n",
    "\n",
    "import pandas as pd\n",
    "\n",
    "df = pd.read_csv(\"data.csv\")\n",
    "\n",
    "# display the content\n",
    "print(df)"
   ]
  },
  {
   "cell_type": "code",
   "execution_count": 7,
   "metadata": {},
   "outputs": [
    {
     "name": "stdout",
     "output_type": "stream",
     "text": [
      "[['Name', 'Age', 'Country'], ['Alice', '28', 'USA'], ['Bob', '35', 'Canada'], ['Charlie', '22', 'UK']]\n",
      "{'Name': ['Age', 'Country'], 'Alice': ['28', 'USA'], 'Bob': ['35', 'Canada'], 'Charlie': ['22', 'UK']}\n",
      "['Name', 'Age', 'Country']\n",
      "['Alice', '28', 'USA']\n",
      "['Bob', '35', 'Canada']\n",
      "['Charlie', '22', 'UK']\n"
     ]
    }
   ],
   "source": [
    "# using csv modules for read csv files\n",
    "\n",
    "import csv\n",
    "\n",
    "# open and read the file \n",
    "\n",
    "with open('data.csv', 'r') as file:\n",
    "    reader = csv.reader(file)\n",
    "    # show data into list format\n",
    "    data = list(reader)\n",
    "    print(data)\n",
    "    \n",
    "    # show data into dictionary format\n",
    "    data_dict = {row[0]: row[1:] for row in data}\n",
    "    print(data_dict)\n",
    "    \n",
    "    # using loop \n",
    "    for row in data:\n",
    "        print(row)"
   ]
  },
  {
   "cell_type": "code",
   "execution_count": null,
   "metadata": {},
   "outputs": [],
   "source": []
  }
 ],
 "metadata": {
  "kernelspec": {
   "display_name": "Python 3",
   "language": "python",
   "name": "python3"
  },
  "language_info": {
   "codemirror_mode": {
    "name": "ipython",
    "version": 3
   },
   "file_extension": ".py",
   "mimetype": "text/x-python",
   "name": "python",
   "nbconvert_exporter": "python",
   "pygments_lexer": "ipython3",
   "version": "3.12.1"
  }
 },
 "nbformat": 4,
 "nbformat_minor": 2
}
