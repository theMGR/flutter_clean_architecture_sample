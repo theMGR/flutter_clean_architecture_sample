{
 "cells": [
  {
   "cell_type": "code",
   "execution_count": 8,
   "metadata": {},
   "outputs": [
    {
     "name": "stdout",
     "output_type": "stream",
     "text": [
      "Content has been written to the file.\n"
     ]
    }
   ],
   "source": [
    "# Writing to a File \n",
    "# Open the file in write mode\n",
    "with open(\"p4n.txt\",\"w\") as file:\n",
    "    # Write content to the file\n",
    "    file.write(\"www.codeswithpankaj.com\\n\")\n",
    "    file.write(\"learning python with @p4n.\\n\")\n",
    "    file.write(\"www.p4n.in.\\n\")\n",
    "\n",
    "print(\"Content has been written to the file.\")"
   ]
  },
  {
   "cell_type": "code",
   "execution_count": 9,
   "metadata": {},
   "outputs": [
    {
     "name": "stdout",
     "output_type": "stream",
     "text": [
      "www.codeswithpankaj.com\n",
      "learning python with @p4n.\n",
      "www.p4n.in.\n",
      "\n"
     ]
    }
   ],
   "source": [
    "# File Operation\n",
    "# Read File From System\n",
    "# Open the file in read mode\n",
    "with open(\"p4n.txt\",\"r\") as file:\n",
    "    # Read the entire content of the file\n",
    "    content = file.read()\n",
    "# print the content of file \n",
    "print(content)    "
   ]
  },
  {
   "cell_type": "code",
   "execution_count": 10,
   "metadata": {},
   "outputs": [
    {
     "name": "stdout",
     "output_type": "stream",
     "text": [
      "Content has been appended to the file.\n"
     ]
    }
   ],
   "source": [
    "# Appending to a File\n",
    "# Open the file in append mode\n",
    "with open(\"p4n.txt\",\"a\") as file:\n",
    "    # Append content to the file\n",
    "    file.write(\"python is best programming...\")\n",
    "print(\"Content has been appended to the file.\")    "
   ]
  },
  {
   "cell_type": "code",
   "execution_count": 1,
   "metadata": {},
   "outputs": [
    {
     "name": "stdout",
     "output_type": "stream",
     "text": [
      "Name: Alice, Age: 28, Country: USA\n",
      "Name: Bob, Age: 35, Country: Canada\n",
      "Name: Charlie, Age: 22, Country: UK\n"
     ]
    }
   ],
   "source": [
    "# Read csv file \n",
    "import csv\n",
    "# Open the CSV file for reading\n",
    "with open(\"data.csv\",\"r\") as file:\n",
    "    # create a csv reader \n",
    "    csv_reader = csv.reader(file)\n",
    "    # Skip the header row (if it exists)\n",
    "    next(csv_reader)\n",
    "    # Iterate over each row in the CSV file\n",
    "    for row in csv_reader:\n",
    "        name, age, country = row\n",
    "        print(f\"Name: {name}, Age: {age}, Country: {country}\")\n"
   ]
  },
  {
   "cell_type": "code",
   "execution_count": 2,
   "metadata": {},
   "outputs": [
    {
     "name": "stdout",
     "output_type": "stream",
     "text": [
      "/workspaces/Complete-Python-Mastery/Day_14\n"
     ]
    }
   ],
   "source": [
    "import os\n",
    "current_directory = os.getcwd();\n",
    "print(current_directory)"
   ]
  },
  {
   "cell_type": "code",
   "execution_count": 4,
   "metadata": {},
   "outputs": [
    {
     "name": "stdout",
     "output_type": "stream",
     "text": [
      "Pandas-Python\n",
      "Assignments\n",
      "Day_07\n",
      "Day_12\n",
      "Day_03\n",
      ".git\n",
      "Day_13\n",
      "Day_04\n",
      "README.md\n",
      "Day_14\n",
      "Day_15\n",
      "Day_10\n",
      "Day_01\n",
      "Day_08\n",
      ".DS_Store\n",
      "NumPy-Python\n",
      "Day_06\n",
      "Day_02\n",
      "Day_11\n",
      "Exercise - Question\n",
      "Day_09\n",
      "Day_05\n"
     ]
    }
   ],
   "source": [
    "path = \"/workspaces/Complete-Python-Mastery\"\n",
    "\n",
    "result = os.listdir(path)\n",
    "\n",
    "#print(result)\n",
    "for i in result:\n",
    "    print(i)"
   ]
  },
  {
   "cell_type": "code",
   "execution_count": 5,
   "metadata": {},
   "outputs": [],
   "source": [
    "os.mkdir('p4n')"
   ]
  },
  {
   "cell_type": "code",
   "execution_count": 6,
   "metadata": {},
   "outputs": [],
   "source": [
    "# rename \n",
    "os.rename('p4n','cwp')"
   ]
  },
  {
   "cell_type": "code",
   "execution_count": 8,
   "metadata": {},
   "outputs": [],
   "source": [
    "os.rmdir('cwp')"
   ]
  },
  {
   "cell_type": "code",
   "execution_count": 17,
   "metadata": {},
   "outputs": [
    {
     "name": "stdout",
     "output_type": "stream",
     "text": [
      "Don't Enter zero ...\n"
     ]
    }
   ],
   "source": [
    "# Python Exception\n",
    "try:\n",
    "    name = str(input('Enter your name'))\n",
    "    age = int(input('Enter your age'))\n",
    "    height = int(input('Enter your Height '))\n",
    "    bmi = age/height\n",
    "    print(f\"my name {name} and age {age}\")\n",
    "    print(f\"BMI = {bmi}\")\n",
    "except ValueError :\n",
    "    print(\"Plz Enter only number ... \")\n",
    "except ZeroDivisionError:\n",
    "    print(\"Don't Enter zero ...\")    "
   ]
  }
 ],
 "metadata": {
  "kernelspec": {
   "display_name": "Python 3",
   "language": "python",
   "name": "python3"
  },
  "language_info": {
   "codemirror_mode": {
    "name": "ipython",
    "version": 3
   },
   "file_extension": ".py",
   "mimetype": "text/x-python",
   "name": "python",
   "nbconvert_exporter": "python",
   "pygments_lexer": "ipython3",
   "version": "3.10.8"
  },
  "orig_nbformat": 4
 },
 "nbformat": 4,
 "nbformat_minor": 2
}
