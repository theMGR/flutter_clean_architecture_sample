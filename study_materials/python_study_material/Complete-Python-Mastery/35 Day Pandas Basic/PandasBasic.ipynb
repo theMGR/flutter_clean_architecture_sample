{
 "cells": [
  {
   "cell_type": "code",
   "execution_count": 1,
   "metadata": {},
   "outputs": [
    {
     "name": "stdout",
     "output_type": "stream",
     "text": [
      "Defaulting to user installation because normal site-packages is not writeable\n",
      "Requirement already satisfied: pandas in c:\\users\\comp\\appdata\\roaming\\python\\python312\\site-packages (2.2.3)\n",
      "Requirement already satisfied: numpy>=1.26.0 in c:\\users\\comp\\appdata\\roaming\\python\\python312\\site-packages (from pandas) (2.2.0)\n",
      "Requirement already satisfied: python-dateutil>=2.8.2 in c:\\users\\comp\\appdata\\roaming\\python\\python312\\site-packages (from pandas) (2.9.0.post0)\n",
      "Requirement already satisfied: pytz>=2020.1 in c:\\users\\comp\\appdata\\roaming\\python\\python312\\site-packages (from pandas) (2024.2)\n",
      "Requirement already satisfied: tzdata>=2022.7 in c:\\users\\comp\\appdata\\roaming\\python\\python312\\site-packages (from pandas) (2024.2)\n",
      "Requirement already satisfied: six>=1.5 in c:\\users\\comp\\appdata\\roaming\\python\\python312\\site-packages (from python-dateutil>=2.8.2->pandas) (1.16.0)\n"
     ]
    }
   ],
   "source": [
    "# install pandas\n",
    "!pip install pandas"
   ]
  },
  {
   "cell_type": "code",
   "execution_count": null,
   "metadata": {},
   "outputs": [
    {
     "name": "stderr",
     "output_type": "stream",
     "text": [
      "  WARNING: The scripts f2py.exe and numpy-config.exe are installed in 'c:\\Users\\comp\\AppData\\Local\\Programs\\Python\\Python313\\Scripts' which is not on PATH.\n",
      "  Consider adding this directory to PATH or, if you prefer to suppress this warning, use --no-warn-script-location.\n",
      "\n",
      "[notice] A new release of pip is available: 24.2 -> 24.3.1\n",
      "[notice] To update, run: python.exe -m pip install --upgrade pip\n"
     ]
    },
    {
     "name": "stdout",
     "output_type": "stream",
     "text": [
      "Collecting pandas\n",
      "  Using cached pandas-2.2.3-cp313-cp313-win_amd64.whl.metadata (19 kB)\n",
      "Collecting numpy>=1.26.0 (from pandas)\n",
      "  Using cached numpy-2.2.1-cp313-cp313-win_amd64.whl.metadata (60 kB)\n",
      "Requirement already satisfied: python-dateutil>=2.8.2 in c:\\users\\comp\\appdata\\roaming\\python\\python313\\site-packages (from pandas) (2.9.0.post0)\n",
      "Collecting pytz>=2020.1 (from pandas)\n",
      "  Using cached pytz-2024.2-py2.py3-none-any.whl.metadata (22 kB)\n",
      "Collecting tzdata>=2022.7 (from pandas)\n",
      "  Using cached tzdata-2024.2-py2.py3-none-any.whl.metadata (1.4 kB)\n",
      "Requirement already satisfied: six>=1.5 in c:\\users\\comp\\appdata\\roaming\\python\\python313\\site-packages (from python-dateutil>=2.8.2->pandas) (1.17.0)\n",
      "Using cached pandas-2.2.3-cp313-cp313-win_amd64.whl (11.5 MB)\n",
      "Using cached numpy-2.2.1-cp313-cp313-win_amd64.whl (12.6 MB)\n",
      "Using cached pytz-2024.2-py2.py3-none-any.whl (508 kB)\n",
      "Using cached tzdata-2024.2-py2.py3-none-any.whl (346 kB)\n",
      "Installing collected packages: pytz, tzdata, numpy, pandas\n",
      "Successfully installed numpy-2.2.1 pandas-2.2.3 pytz-2024.2 tzdata-2024.2\n",
      "Note: you may need to restart the kernel to use updated packages.\n"
     ]
    }
   ],
   "source": [
    "# pandas is a data manipulation library\n",
    "# it is used to read and write data in different formats\n",
    "# it is used to manipulate data in different ways\n",
    "# it is used to visualize data in different ways\n",
    "# it is used to clean data\n",
    "# it is used to handle missing data\n",
    "# it is used to handle time series data\n",
    "# it is used to handle data from different sources\n",
    "# it is used to handle data from different formats\n",
    "\n",
    "# install pandas\n",
    "%pip install pandas\n",
    "\n",
    "\n"
   ]
  },
  {
   "cell_type": "code",
   "execution_count": 6,
   "metadata": {},
   "outputs": [
    {
     "name": "stdout",
     "output_type": "stream",
     "text": [
      "0        Python\n",
      "1          Java\n",
      "2           C++\n",
      "3    JavaScript\n",
      "4            C#\n",
      "5           PHP\n",
      "6          Ruby\n",
      "7            Go\n",
      "8         Swift\n",
      "9          Rust\n",
      "dtype: object\n"
     ]
    }
   ],
   "source": [
    "# import pandas\n",
    "import pandas as pd\n",
    "\n",
    "# create a pandas series\n",
    "# a pandas series is a one-dimensional array\n",
    "# a pandas series is a one-dimensional array with labels\n",
    "# a pandas series is a one-dimensional array with labels that can hold any data type\n",
    "\n",
    "# create a pandas series from a list\n",
    "\n",
    "# create a list\n",
    "\n",
    "programming = ['Python', 'Java', 'C++', 'JavaScript', 'C#', 'PHP', 'Ruby', 'Go', 'Swift', 'Rust']\n",
    "\n",
    "# create a pandas series from a list\n",
    "\n",
    "programming_series = pd.Series(programming)\n",
    "\n",
    "print(programming_series)"
   ]
  },
  {
   "cell_type": "code",
   "execution_count": 7,
   "metadata": {},
   "outputs": [
    {
     "name": "stdout",
     "output_type": "stream",
     "text": [
      "A        Python\n",
      "B          Java\n",
      "C           C++\n",
      "D    JavaScript\n",
      "E            C#\n",
      "F           PHP\n",
      "G          Ruby\n",
      "H            Go\n",
      "I         Swift\n",
      "J          Rust\n",
      "dtype: object\n"
     ]
    }
   ],
   "source": [
    "# use custom index\n",
    "\n",
    "programming_series = pd.Series(programming, index = ['A', 'B', 'C', 'D', 'E', 'F', 'G', 'H', 'I', 'J'])\n",
    "print(programming_series)"
   ]
  },
  {
   "cell_type": "code",
   "execution_count": 8,
   "metadata": {},
   "outputs": [
    {
     "name": "stdout",
     "output_type": "stream",
     "text": [
      "John     1000\n",
      "Jane     2000\n",
      "Doe      3000\n",
      "Smith    4000\n",
      "Brown    5000\n",
      "dtype: int64\n"
     ]
    }
   ],
   "source": [
    "# create a pandas series from a dictionary\n",
    "\n",
    "# create a dictionary\n",
    "\n",
    "employees = {'John': 1000, 'Jane': 2000, 'Doe': 3000, 'Smith': 4000, 'Brown': 5000}\n",
    "\n",
    "# create a pandas series from a dictionary\n",
    "employees_series = pd.Series(employees)\n",
    "print(employees_series)"
   ]
  },
  {
   "cell_type": "code",
   "execution_count": 16,
   "metadata": {},
   "outputs": [
    {
     "name": "stdout",
     "output_type": "stream",
     "text": [
      "0        Python\n",
      "1          Java\n",
      "2           C++\n",
      "3    JavaScript\n",
      "4            C#\n",
      "5           PHP\n",
      "6          Ruby\n",
      "7            Go\n",
      "8         Swift\n",
      "9          Rust\n",
      "dtype: object\n",
      "A        Python\n",
      "B          Java\n",
      "C           C++\n",
      "D    JavaScript\n",
      "E            C#\n",
      "F           PHP\n",
      "G          Ruby\n",
      "H            Go\n",
      "I         Swift\n",
      "J          Rust\n",
      "dtype: object\n",
      "Python\n",
      "Java\n"
     ]
    },
    {
     "name": "stderr",
     "output_type": "stream",
     "text": [
      "C:\\Users\\comp\\AppData\\Local\\Temp\\ipykernel_10948\\1342454856.py:17: FutureWarning: Series.__getitem__ treating keys as positions is deprecated. In a future version, integer keys will always be treated as labels (consistent with DataFrame behavior). To access a value by position, use `ser.iloc[pos]`\n",
      "  print(programming_series[0])\n"
     ]
    }
   ],
   "source": [
    "# change index of a pandas series\n",
    "\n",
    "# create a pandas series from a list\n",
    "# use default index\n",
    "\n",
    "programming_series = pd.Series(programming)\n",
    "print(programming_series)\n",
    "\n",
    "# change index of a pandas series\n",
    "\n",
    "programming_series.index = ['A', 'B', 'C', 'D', 'E', 'F', 'G', 'H', 'I', 'J']\n",
    "print(programming_series)\n",
    "\n",
    "\n",
    "# access elements of a pandas series\n",
    "\n",
    "print(programming_series[0])\n",
    "print(programming_series['B'])\n",
    "\n",
    "\n"
   ]
  },
  {
   "cell_type": "code",
   "execution_count": 20,
   "metadata": {},
   "outputs": [
    {
     "name": "stdout",
     "output_type": "stream",
     "text": [
      "A    Python\n",
      "B      Java\n",
      "C       C++\n",
      "dtype: object\n",
      "C       C++\n",
      "A    Python\n",
      "E        C#\n",
      "dtype: object\n"
     ]
    },
    {
     "name": "stderr",
     "output_type": "stream",
     "text": [
      "C:\\Users\\comp\\AppData\\Local\\Temp\\ipykernel_10948\\3953112276.py:3: FutureWarning: Series.__getitem__ treating keys as positions is deprecated. In a future version, integer keys will always be treated as labels (consistent with DataFrame behavior). To access a value by position, use `ser.iloc[pos]`\n",
      "  print(programming_series[[0, 1, 2]])\n"
     ]
    }
   ],
   "source": [
    "#  Retrieve multiple elements using a list of index label values.\n",
    "\n",
    "print(programming_series[[0, 1, 2]])\n",
    "\n",
    "print(programming_series[['C','A', 'E']])"
   ]
  },
  {
   "cell_type": "code",
   "execution_count": 21,
   "metadata": {},
   "outputs": [
    {
     "name": "stdout",
     "output_type": "stream",
     "text": [
      "A    Python\n",
      "B      Java\n",
      "C       C++\n",
      "dtype: object\n"
     ]
    }
   ],
   "source": [
    "# Retrieve multiple elements using a range of index label values.\n",
    "\n",
    "print(programming_series['A':'C'])"
   ]
  },
  {
   "cell_type": "code",
   "execution_count": 22,
   "metadata": {},
   "outputs": [
    {
     "name": "stdout",
     "output_type": "stream",
     "text": [
      "A    Python\n",
      "B      Java\n",
      "C       C++\n",
      "dtype: object\n"
     ]
    }
   ],
   "source": [
    "# Retrieve multiple elements using a range of index label values.\n",
    "\n",
    "print(programming_series[0:3])"
   ]
  }
 ],
 "metadata": {
  "kernelspec": {
   "display_name": "Python 3",
   "language": "python",
   "name": "python3"
  },
  "language_info": {
   "codemirror_mode": {
    "name": "ipython",
    "version": 3
   },
   "file_extension": ".py",
   "mimetype": "text/x-python",
   "name": "python",
   "nbconvert_exporter": "python",
   "pygments_lexer": "ipython3",
   "version": "3.13.0"
  }
 },
 "nbformat": 4,
 "nbformat_minor": 2
}
