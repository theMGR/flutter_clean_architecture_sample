{
 "cells": [
  {
   "cell_type": "code",
   "execution_count": 4,
   "metadata": {},
   "outputs": [
    {
     "ename": "TypeError",
     "evalue": "can only concatenate str (not \"int\") to str",
     "output_type": "error",
     "traceback": [
      "\u001b[0;31m---------------------------------------------------------------------------\u001b[0m",
      "\u001b[0;31mTypeError\u001b[0m                                 Traceback (most recent call last)",
      "\u001b[1;32m/workspaces/Complete-Python-Mastery/27 Day Python Exception Handling/ExceptionHandling.ipynb Cell 1\u001b[0m line \u001b[0;36m1\n\u001b[1;32m     <a href='vscode-notebook-cell://codespaces%2Beffective-journey-g4qprv7q7xrxfw545/workspaces/Complete-Python-Mastery/27%20Day%20Python%20Exception%20Handling/ExceptionHandling.ipynb#W1sdnNjb2RlLXJlbW90ZQ%3D%3D?line=11'>12</a>\u001b[0m name \u001b[39m=\u001b[39m \u001b[39minput\u001b[39m(\u001b[39m\"\u001b[39m\u001b[39mEnter your name: \u001b[39m\u001b[39m\"\u001b[39m)\n\u001b[1;32m     <a href='vscode-notebook-cell://codespaces%2Beffective-journey-g4qprv7q7xrxfw545/workspaces/Complete-Python-Mastery/27%20Day%20Python%20Exception%20Handling/ExceptionHandling.ipynb#W1sdnNjb2RlLXJlbW90ZQ%3D%3D?line=12'>13</a>\u001b[0m age \u001b[39m=\u001b[39m \u001b[39minput\u001b[39m(\u001b[39m\"\u001b[39m\u001b[39mEnter your age: \u001b[39m\u001b[39m\"\u001b[39m)\n\u001b[0;32m---> <a href='vscode-notebook-cell://codespaces%2Beffective-journey-g4qprv7q7xrxfw545/workspaces/Complete-Python-Mastery/27%20Day%20Python%20Exception%20Handling/ExceptionHandling.ipynb#W1sdnNjb2RlLXJlbW90ZQ%3D%3D?line=14'>15</a>\u001b[0m Final_age \u001b[39m=\u001b[39m age \u001b[39m+\u001b[39;49m \u001b[39m2\u001b[39;49m\n\u001b[1;32m     <a href='vscode-notebook-cell://codespaces%2Beffective-journey-g4qprv7q7xrxfw545/workspaces/Complete-Python-Mastery/27%20Day%20Python%20Exception%20Handling/ExceptionHandling.ipynb#W1sdnNjb2RlLXJlbW90ZQ%3D%3D?line=16'>17</a>\u001b[0m \u001b[39mprint\u001b[39m(\u001b[39mf\u001b[39m\u001b[39m\"\u001b[39m\u001b[39mHello \u001b[39m\u001b[39m{\u001b[39;00mname\u001b[39m}\u001b[39;00m\u001b[39m, you are \u001b[39m\u001b[39m{\u001b[39;00mFinal_age\u001b[39m}\u001b[39;00m\u001b[39m years old.\u001b[39m\u001b[39m\"\u001b[39m)\n",
      "\u001b[0;31mTypeError\u001b[0m: can only concatenate str (not \"int\") to str"
     ]
    }
   ],
   "source": [
    "# Exception handling\n",
    "\n",
    "# What is an exception?\n",
    "# An exception is an error that happens during the execution of a program.\n",
    "# When that error occurs, Python generates an exception that can be handled,\n",
    "# which avoids your program to crash.\n",
    "\n",
    "\n",
    "# Example 1\n",
    "\n",
    "\n",
    "name = input(\"Enter your name: \")\n",
    "age = input(\"Enter your age: \")\n",
    "\n",
    "Final_age = age + 2\n",
    "\n",
    "print(f\"Hello {name}, you are {Final_age} years old.\")"
   ]
  },
  {
   "cell_type": "code",
   "execution_count": 7,
   "metadata": {},
   "outputs": [
    {
     "name": "stdout",
     "output_type": "stream",
     "text": [
      "Please enter a valid number for age.\n"
     ]
    }
   ],
   "source": [
    "# handeling the exception : type error\n",
    "\n",
    "\n",
    "\n",
    "try:\n",
    "    name = input(\"Enter your name: \")\n",
    "    age = input(\"Enter your age: \") \n",
    "    Final_age = age + 2\n",
    "    print(f\"Hello {name}, you are {Final_age} years old.\")\n",
    "\n",
    "except TypeError: \n",
    "    print(\"Please enter a valid number for age.\")    \n",
    "    "
   ]
  },
  {
   "cell_type": "code",
   "execution_count": 9,
   "metadata": {},
   "outputs": [
    {
     "ename": "ValueError",
     "evalue": "invalid literal for int() with base 10: 'hello'",
     "output_type": "error",
     "traceback": [
      "\u001b[0;31m---------------------------------------------------------------------------\u001b[0m",
      "\u001b[0;31mValueError\u001b[0m                                Traceback (most recent call last)",
      "\u001b[1;32m/workspaces/Complete-Python-Mastery/27 Day Python Exception Handling/ExceptionHandling.ipynb Cell 3\u001b[0m line \u001b[0;36m3\n\u001b[1;32m      <a href='vscode-notebook-cell://codespaces%2Beffective-journey-g4qprv7q7xrxfw545/workspaces/Complete-Python-Mastery/27%20Day%20Python%20Exception%20Handling/ExceptionHandling.ipynb#W2sdnNjb2RlLXJlbW90ZQ%3D%3D?line=0'>1</a>\u001b[0m \u001b[39m# handling the exception\u001b[39;00m\n\u001b[1;32m      <a href='vscode-notebook-cell://codespaces%2Beffective-journey-g4qprv7q7xrxfw545/workspaces/Complete-Python-Mastery/27%20Day%20Python%20Exception%20Handling/ExceptionHandling.ipynb#W2sdnNjb2RlLXJlbW90ZQ%3D%3D?line=1'>2</a>\u001b[0m name \u001b[39m=\u001b[39m \u001b[39minput\u001b[39m(\u001b[39m\"\u001b[39m\u001b[39mEnter your name: \u001b[39m\u001b[39m\"\u001b[39m)\n\u001b[0;32m----> <a href='vscode-notebook-cell://codespaces%2Beffective-journey-g4qprv7q7xrxfw545/workspaces/Complete-Python-Mastery/27%20Day%20Python%20Exception%20Handling/ExceptionHandling.ipynb#W2sdnNjb2RlLXJlbW90ZQ%3D%3D?line=2'>3</a>\u001b[0m age \u001b[39m=\u001b[39m \u001b[39mint\u001b[39;49m(\u001b[39minput\u001b[39;49m(\u001b[39m\"\u001b[39;49m\u001b[39mEnter your age: \u001b[39;49m\u001b[39m\"\u001b[39;49m))\n\u001b[1;32m      <a href='vscode-notebook-cell://codespaces%2Beffective-journey-g4qprv7q7xrxfw545/workspaces/Complete-Python-Mastery/27%20Day%20Python%20Exception%20Handling/ExceptionHandling.ipynb#W2sdnNjb2RlLXJlbW90ZQ%3D%3D?line=4'>5</a>\u001b[0m \u001b[39mprint\u001b[39m(\u001b[39mf\u001b[39m\u001b[39m\"\u001b[39m\u001b[39mHello \u001b[39m\u001b[39m{\u001b[39;00mname\u001b[39m}\u001b[39;00m\u001b[39m, you are \u001b[39m\u001b[39m{\u001b[39;00mage\u001b[39m}\u001b[39;00m\u001b[39m years old.\u001b[39m\u001b[39m\"\u001b[39m)\n",
      "\u001b[0;31mValueError\u001b[0m: invalid literal for int() with base 10: 'hello'"
     ]
    }
   ],
   "source": [
    "# handling the exception\n",
    "name = input(\"Enter your name: \")\n",
    "age = int(input(\"Enter your age: \"))\n",
    "\n",
    "print(f\"Hello {name}, you are {age} years old.\")"
   ]
  },
  {
   "cell_type": "code",
   "execution_count": 10,
   "metadata": {},
   "outputs": [
    {
     "name": "stdout",
     "output_type": "stream",
     "text": [
      "Please enter a only number.\n"
     ]
    }
   ],
   "source": [
    "try:\n",
    "    name = input(\"Enter your name: \")\n",
    "    age = int(input(\"Enter your age: \")) \n",
    "    print(f\"Hello {name}, you are {Final_age} years old.\")\n",
    "except ValueError:\n",
    "    print(\"Please enter a only number.\")    "
   ]
  },
  {
   "cell_type": "code",
   "execution_count": 16,
   "metadata": {},
   "outputs": [
    {
     "name": "stdout",
     "output_type": "stream",
     "text": [
      "Working days cannot be zero.\n"
     ]
    }
   ],
   "source": [
    "# example 2\n",
    "try:\n",
    "    employee_name = input(\"Enter employee name: \")\n",
    "    employee_salary = int(input(\"Enter employee salary: \"))\n",
    "    working_days = int(input(\"Enter employee working days: \"))\n",
    "    salary_per_day = employee_salary / working_days\n",
    "\n",
    "    print(f\"{employee_name} earns {salary_per_day} per day.\")\n",
    "except ValueError:\n",
    "    print(\"Please enter a valid number for salary and working days.\")  \n",
    "except ZeroDivisionError:\n",
    "    print(\"Working days cannot be zero.\")      "
   ]
  },
  {
   "cell_type": "code",
   "execution_count": 17,
   "metadata": {},
   "outputs": [
    {
     "name": "stdout",
     "output_type": "stream",
     "text": [
      "Invalid input. Please enter a valid number.\n"
     ]
    }
   ],
   "source": [
    "# example 3\n",
    "\n",
    "try:\n",
    "    # code that might raise an exception\n",
    "    employee_name = input(\"Enter employee name: \")\n",
    "    employee_salary = int(input(\"Enter employee salary: \"))\n",
    "    working_days = int(input(\"Enter employee working days: \"))\n",
    "    salary_per_day = employee_salary / working_days\n",
    "    print(f\"Salary per day: {salary_per_day}\")\n",
    "except ValueError:\n",
    "    print(\"Invalid input. Please enter a valid number.\")\n",
    "except ZeroDivisionError:\n",
    "    print(\"Working days cannot be zero.\")"
   ]
  }
 ],
 "metadata": {
  "kernelspec": {
   "display_name": "Python 3",
   "language": "python",
   "name": "python3"
  },
  "language_info": {
   "codemirror_mode": {
    "name": "ipython",
    "version": 3
   },
   "file_extension": ".py",
   "mimetype": "text/x-python",
   "name": "python",
   "nbconvert_exporter": "python",
   "pygments_lexer": "ipython3",
   "version": "3.10.8"
  },
  "orig_nbformat": 4
 },
 "nbformat": 4,
 "nbformat_minor": 2
}
