{
 "cells": [
  {
   "cell_type": "code",
   "execution_count": 3,
   "metadata": {},
   "outputs": [
    {
     "name": "stdout",
     "output_type": "stream",
     "text": [
      "10\n",
      "<class 'int'>\n",
      "<class 'str'>\n"
     ]
    }
   ],
   "source": [
    "# print(\"Addition of the provided Number: \", Result)\n",
    "\n",
    "num_str = \"10\"\n",
    "num_int = int(num_str)\n",
    "print(num_int)  # Output: 10\n",
    "print(type(num_int))\n",
    "print(type(num_str))"
   ]
  },
  {
   "cell_type": "code",
   "execution_count": 5,
   "metadata": {},
   "outputs": [
    {
     "name": "stdout",
     "output_type": "stream",
     "text": [
      "3.14\n",
      "3\n"
     ]
    }
   ],
   "source": [
    "# float(): Converts a value into a floating-point number. For example:\n",
    "num_str = \"3.14\"\n",
    "num_float = float(num_str)\n",
    "print(num_float)  # Output: 3.14\n",
    "num_int = int(num_float)\n",
    "print(num_int)"
   ]
  },
  {
   "cell_type": "code",
   "execution_count": 7,
   "metadata": {},
   "outputs": [
    {
     "name": "stdout",
     "output_type": "stream",
     "text": [
      "42\n",
      "<class 'str'>\n"
     ]
    }
   ],
   "source": [
    "# str(): Converts a value into a string. For example:\n",
    "num_int = 42\n",
    "num_str = str(num_int)\n",
    "print(num_str)  # Output: \"42\"\n",
    "print(type(num_str))"
   ]
  },
  {
   "cell_type": "code",
   "execution_count": 15,
   "metadata": {},
   "outputs": [
    {
     "name": "stdout",
     "output_type": "stream",
     "text": [
      "<class 'str'>\n",
      "['1', '2', '3', '4', '5', '6', '7', '8', '9', '1', '0']\n",
      "('1', '2', '3', '4', '5', '6', '7', '8', '9', '1', '0')\n",
      "{'4', '8', '3', '6', '0', '5', '2', '7', '1', '9'}\n"
     ]
    }
   ],
   "source": [
    "# list(), tuple(), set(): Convert a value into a list, tuple, or set, respectively. For example:\n",
    "\n",
    "data = \"12345678910\"\n",
    "print(type(data))\n",
    "# using list()\n",
    "data_list = list(data)\n",
    "print(data_list)\n",
    "\n",
    "# using tuple()\n",
    "data_tuple = tuple(data)\n",
    "print(data_tuple)\n",
    "\n",
    "# using set() \n",
    "data_set = set(data)\n",
    "print(data_set)\n"
   ]
  },
  {
   "cell_type": "code",
   "execution_count": 18,
   "metadata": {},
   "outputs": [
    {
     "name": "stdout",
     "output_type": "stream",
     "text": [
      "True\n"
     ]
    }
   ],
   "source": [
    "# bool(): Converts a value into a boolean. For example:\n",
    "num = 42\n",
    "bool_val = bool(num)\n",
    "print(bool_val)  # Output: True"
   ]
  },
  {
   "cell_type": "code",
   "execution_count": null,
   "metadata": {
    "vscode": {
     "languageId": "julia"
    }
   },
   "outputs": [],
   "source": [
    "# Example of type conversion for each datatype\n",
    "\n",
    "# Integer to float\n",
    "num_int = 10\n",
    "num_float = float(num_int)\n",
    "print(f\"Integer to float: {num_float} (type: {type(num_float)})\")\n",
    "\n",
    "# Float to integer\n",
    "num_float = 3.14\n",
    "num_int = int(num_float)\n",
    "print(f\"Float to integer: {num_int} (type: {type(num_int)})\")\n",
    "\n",
    "# Integer to string\n",
    "num_int = 42\n",
    "num_str = str(num_int)\n",
    "print(f\"Integer to string: {num_str} (type: {type(num_str)})\")\n",
    "\n",
    "# String to integer\n",
    "num_str = \"123\"\n",
    "num_int = int(num_str)\n",
    "print(f\"String to integer: {num_int} (type: {type(num_int)})\")\n",
    "\n",
    "# String to float\n",
    "num_str = \"3.14\"\n",
    "num_float = float(num_str)\n",
    "print(f\"String to float: {num_float} (type: {type(num_float)})\")\n",
    "\n",
    "# List to tuple\n",
    "data_list = [1, 2, 3]\n",
    "data_tuple = tuple(data_list)\n",
    "print(f\"List to tuple: {data_tuple} (type: {type(data_tuple)})\")\n",
    "\n",
    "# Tuple to list\n",
    "data_tuple = (1, 2, 3)\n",
    "data_list = list(data_tuple)\n",
    "print(f\"Tuple to list: {data_list} (type: {type(data_list)})\")\n",
    "\n",
    "# List to set\n",
    "data_list = [1, 2, 2, 3]\n",
    "data_set = set(data_list)\n",
    "print(f\"List to set: {data_set} (type: {type(data_set)})\")\n",
    "\n",
    "# Set to list\n",
    "data_set = {1, 2, 3}\n",
    "data_list = list(data_set)\n",
    "print(f\"Set to list: {data_list} (type: {type(data_list)})\")\n",
    "\n",
    "# Integer to boolean\n",
    "num_int = 0\n",
    "bool_val = bool(num_int)\n",
    "print(f\"Integer to boolean: {bool_val} (type: {type(bool_val)})\")\n",
    "\n",
    "# String to boolean\n",
    "str_val = \"\"\n",
    "bool_val = bool(str_val)\n",
    "print(f\"String to boolean: {bool_val} (type: {type(bool_val)})\")"
   ]
  }
 ],
 "metadata": {
  "kernelspec": {
   "display_name": "Python 3",
   "language": "python",
   "name": "python3"
  },
  "language_info": {
   "codemirror_mode": {
    "name": "ipython",
    "version": 3
   },
   "file_extension": ".py",
   "mimetype": "text/x-python",
   "name": "python",
   "nbconvert_exporter": "python",
   "pygments_lexer": "ipython3",
   "version": "3.10.8"
  },
  "orig_nbformat": 4
 },
 "nbformat": 4,
 "nbformat_minor": 2
}
