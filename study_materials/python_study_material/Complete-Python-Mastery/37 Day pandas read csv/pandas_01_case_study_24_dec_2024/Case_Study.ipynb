{
 "cells": [
  {
   "cell_type": "code",
   "execution_count": 2,
   "metadata": {},
   "outputs": [
    {
     "name": "stdout",
     "output_type": "stream",
     "text": [
      "                        name  age     sex  \\\n",
      "0             Aaron, Dayan M   38    Male   \n",
      "1           Aaron, Freddie L   52    Male   \n",
      "2            Aaron, Tyrone M   44    Male   \n",
      "3            Abazenab, Kokeb   42  Female   \n",
      "4      Abbott, Christopher D   32    Male   \n",
      "...                      ...  ...     ...   \n",
      "8241  Zewu Attipoe, Joshua W   32    Male   \n",
      "8242         Zhang, Jianrong   53    Male   \n",
      "8243       Zimbrick, Brett A   54    Male   \n",
      "8244           Zorn, Aaron A   36    Male   \n",
      "8245        Zygaj, Stephen M   53    Male   \n",
      "\n",
      "                                          ethnic.origin  \\\n",
      "0     Black or African American (Not Hispanic or Lat...   \n",
      "1     Black or African American (Not Hispanic or Lat...   \n",
      "2     Black or African American (Not Hispanic or Lat...   \n",
      "3     Black or African American (Not Hispanic or Lat...   \n",
      "4                        White (Not Hispanic or Latino)   \n",
      "...                                                 ...   \n",
      "8241  Black or African American (Not Hispanic or Lat...   \n",
      "8242                     Asian (Not Hispanic or Latino)   \n",
      "8243                     White (Not Hispanic or Latino)   \n",
      "8244                     White (Not Hispanic or Latino)   \n",
      "8245                     White (Not Hispanic or Latino)   \n",
      "\n",
      "                                  job.title  \\\n",
      "0                          ATL311 Team Lead   \n",
      "1        Environmental Service Worker I (D)   \n",
      "2             Watershed Crew Supervisor (D)   \n",
      "3               Benefits Representative, Sr   \n",
      "4           Recreation Operations Assistant   \n",
      "...                                     ...   \n",
      "8241              Pollution Control Monitor   \n",
      "8242                         IT Manager, Sr   \n",
      "8243        Police Investigator (E) (F) (O)   \n",
      "8244        Police Investigator (E) (F) (O)   \n",
      "8245  Police Lieutenant (E) (F) (O) (B) (S)   \n",
      "\n",
      "                                   organization  annual.salary  \n",
      "0                         EXE Executive Offices       45999.99  \n",
      "1                DPW Department of Public Works       26700.10  \n",
      "2        DWM Department of Watershed Management       46575.01  \n",
      "3              DHR Department of Human Reources       42866.89  \n",
      "4     PRC Parks, Recreation, & Cultural Affairs       28035.05  \n",
      "...                                         ...            ...  \n",
      "8241     DWM Department of Watershed Management       42849.05  \n",
      "8242     DWM Department of Watershed Management      101744.51  \n",
      "8243              APD Atlanta Police Department       62582.62  \n",
      "8244              APD Atlanta Police Department       46377.97  \n",
      "8245              APD Atlanta Police Department       75950.01  \n",
      "\n",
      "[8246 rows x 7 columns]\n"
     ]
    }
   ],
   "source": [
    "import pandas as pd\n",
    "\n",
    "# read csv file\n",
    "\n",
    "df = pd.read_csv('https://raw.githubusercontent.com/Pankaj-Str/Complete-Python-Mastery/refs/heads/main/35%20Day%20pandas%20read%20csv/DataSet/p4n_emp.csv')\n",
    "\n",
    "print(df)"
   ]
  },
  {
   "cell_type": "code",
   "execution_count": 3,
   "metadata": {},
   "outputs": [
    {
     "name": "stdout",
     "output_type": "stream",
     "text": [
      "               name  age   sex  \\\n",
      "0    Aaron, Dayan M   38  Male   \n",
      "1  Aaron, Freddie L   52  Male   \n",
      "2   Aaron, Tyrone M   44  Male   \n",
      "\n",
      "                                       ethnic.origin  \\\n",
      "0  Black or African American (Not Hispanic or Lat...   \n",
      "1  Black or African American (Not Hispanic or Lat...   \n",
      "2  Black or African American (Not Hispanic or Lat...   \n",
      "\n",
      "                            job.title                            organization  \\\n",
      "0                    ATL311 Team Lead                   EXE Executive Offices   \n",
      "1  Environmental Service Worker I (D)          DPW Department of Public Works   \n",
      "2       Watershed Crew Supervisor (D)  DWM Department of Watershed Management   \n",
      "\n",
      "   annual.salary  \n",
      "0       45999.99  \n",
      "1       26700.10  \n",
      "2       46575.01  \n"
     ]
    }
   ],
   "source": [
    "print(df.head(3))"
   ]
  },
  {
   "cell_type": "code",
   "execution_count": 4,
   "metadata": {},
   "outputs": [
    {
     "name": "stdout",
     "output_type": "stream",
     "text": [
      "                   name  age   sex                   ethnic.origin  \\\n",
      "8243  Zimbrick, Brett A   54  Male  White (Not Hispanic or Latino)   \n",
      "8244      Zorn, Aaron A   36  Male  White (Not Hispanic or Latino)   \n",
      "8245   Zygaj, Stephen M   53  Male  White (Not Hispanic or Latino)   \n",
      "\n",
      "                                  job.title                   organization  \\\n",
      "8243        Police Investigator (E) (F) (O)  APD Atlanta Police Department   \n",
      "8244        Police Investigator (E) (F) (O)  APD Atlanta Police Department   \n",
      "8245  Police Lieutenant (E) (F) (O) (B) (S)  APD Atlanta Police Department   \n",
      "\n",
      "      annual.salary  \n",
      "8243       62582.62  \n",
      "8244       46377.97  \n",
      "8245       75950.01  \n"
     ]
    }
   ],
   "source": [
    "print(df.tail(3))"
   ]
  },
  {
   "cell_type": "code",
   "execution_count": 5,
   "metadata": {},
   "outputs": [
    {
     "name": "stdout",
     "output_type": "stream",
     "text": [
      "Index(['name', 'age', 'sex', 'ethnic.origin', 'job.title', 'organization',\n",
      "       'annual.salary'],\n",
      "      dtype='object')\n"
     ]
    }
   ],
   "source": [
    "print(df.columns)"
   ]
  },
  {
   "cell_type": "code",
   "execution_count": 7,
   "metadata": {},
   "outputs": [
    {
     "name": "stdout",
     "output_type": "stream",
     "text": [
      "name              object\n",
      "age                int64\n",
      "sex               object\n",
      "ethnic.origin     object\n",
      "job.title         object\n",
      "organization      object\n",
      "annual.salary    float64\n",
      "dtype: object\n"
     ]
    }
   ],
   "source": [
    "print(df.dtypes)"
   ]
  },
  {
   "cell_type": "code",
   "execution_count": 8,
   "metadata": {},
   "outputs": [
    {
     "name": "stdout",
     "output_type": "stream",
     "text": [
      "               age  annual.salary\n",
      "count  8246.000000    8246.000000\n",
      "mean     43.186636   49040.302659\n",
      "std      11.236170   20042.032049\n",
      "min      19.000000   20800.000000\n",
      "25%      34.000000   36916.860000\n",
      "50%      44.000000   43983.430000\n",
      "75%      52.000000   55279.300000\n",
      "max      89.000000  240697.600000\n"
     ]
    }
   ],
   "source": [
    "print(df.describe())"
   ]
  },
  {
   "cell_type": "code",
   "execution_count": 9,
   "metadata": {},
   "outputs": [
    {
     "name": "stdout",
     "output_type": "stream",
     "text": [
      "<class 'pandas.core.frame.DataFrame'>\n",
      "RangeIndex: 8246 entries, 0 to 8245\n",
      "Data columns (total 7 columns):\n",
      " #   Column         Non-Null Count  Dtype  \n",
      "---  ------         --------------  -----  \n",
      " 0   name           8246 non-null   object \n",
      " 1   age            8246 non-null   int64  \n",
      " 2   sex            8246 non-null   object \n",
      " 3   ethnic.origin  8246 non-null   object \n",
      " 4   job.title      8246 non-null   object \n",
      " 5   organization   8246 non-null   object \n",
      " 6   annual.salary  8246 non-null   float64\n",
      "dtypes: float64(1), int64(1), object(5)\n",
      "memory usage: 451.1+ KB\n",
      "None\n"
     ]
    }
   ],
   "source": [
    "print(df.info())"
   ]
  },
  {
   "cell_type": "code",
   "execution_count": 10,
   "metadata": {},
   "outputs": [
    {
     "name": "stdout",
     "output_type": "stream",
     "text": [
      "(8246, 7)\n"
     ]
    }
   ],
   "source": [
    "print(df.shape)"
   ]
  },
  {
   "cell_type": "code",
   "execution_count": 12,
   "metadata": {},
   "outputs": [
    {
     "name": "stdout",
     "output_type": "stream",
     "text": [
      "0               Aaron, Dayan M\n",
      "1             Aaron, Freddie L\n",
      "2              Aaron, Tyrone M\n",
      "3              Abazenab, Kokeb\n",
      "4        Abbott, Christopher D\n",
      "                 ...          \n",
      "8241    Zewu Attipoe, Joshua W\n",
      "8242           Zhang, Jianrong\n",
      "8243         Zimbrick, Brett A\n",
      "8244             Zorn, Aaron A\n",
      "8245          Zygaj, Stephen M\n",
      "Name: name, Length: 8246, dtype: object\n"
     ]
    }
   ],
   "source": [
    "print(df['name'])"
   ]
  },
  {
   "cell_type": "code",
   "execution_count": 15,
   "metadata": {},
   "outputs": [
    {
     "name": "stdout",
     "output_type": "stream",
     "text": [
      "['Aaron, Dayan M' 'Aaron, Freddie L' 'Aaron, Tyrone M' ...\n",
      " 'Zimbrick, Brett A' 'Zorn, Aaron A' 'Zygaj, Stephen M']\n"
     ]
    }
   ],
   "source": [
    "# find the unique values in the column\n",
    "print(df['name'].unique())\n",
    "\n",
    "# for i in range(len(df['name'].unique())):\n",
    "#     print(df['name'].unique()[i])"
   ]
  },
  {
   "cell_type": "code",
   "execution_count": 16,
   "metadata": {},
   "outputs": [
    {
     "name": "stdout",
     "output_type": "stream",
     "text": [
      "name\n",
      "Jones, Sharon R         2\n",
      "Smith, Gregory          2\n",
      "Johnson, Christopher    2\n",
      "Jones, Jeffery D        2\n",
      "Aaron, Dayan M          1\n",
      "                       ..\n",
      "Goens, Michael S        1\n",
      "Godwin, Robert C        1\n",
      "Godfrey, Valerie A      1\n",
      "Godfrey, Robert N       1\n",
      "Zygaj, Stephen M        1\n",
      "Name: count, Length: 8242, dtype: int64\n"
     ]
    }
   ],
   "source": [
    "print(df['name'].value_counts())"
   ]
  },
  {
   "cell_type": "code",
   "execution_count": 32,
   "metadata": {},
   "outputs": [
    {
     "name": "stdout",
     "output_type": "stream",
     "text": [
      "Index([3997, 3998], dtype='int64')\n",
      "name                                               Jones, Sharon R\n",
      "age                                                             52\n",
      "sex                                                         Female\n",
      "ethnic.origin    Black or African American (Not Hispanic or Lat...\n",
      "job.title                             Administrative Assistant, Sr\n",
      "organization                DWM Department of Watershed Management\n",
      "annual.salary                                              35886.1\n",
      "Name: 3997, dtype: object\n"
     ]
    }
   ],
   "source": [
    "# find the specific value in the column and print the whole row\n",
    "#print(df[df['name'] == 'Jones, Sharon R'])\n",
    "print(df[df['name'] == 'Jones, Sharon R'].index)\n",
    "\n",
    "# print row specific index\n",
    "print(df.iloc[3997])\n",
    "\n"
   ]
  },
  {
   "cell_type": "code",
   "execution_count": 35,
   "metadata": {},
   "outputs": [
    {
     "name": "stdout",
     "output_type": "stream",
     "text": [
      "20800.0\n",
      "240697.6\n"
     ]
    }
   ],
   "source": [
    "# print min and max value of the column\n",
    "print(df['annual.salary'].min())\n",
    "print(df['annual.salary'].max())"
   ]
  },
  {
   "cell_type": "code",
   "execution_count": 36,
   "metadata": {},
   "outputs": [
    {
     "name": "stdout",
     "output_type": "stream",
     "text": [
      "216\n"
     ]
    }
   ],
   "source": [
    "# print the index of the min and max value\n",
    "print(df['annual.salary'].idxmin())\n",
    "\n"
   ]
  },
  {
   "cell_type": "code",
   "execution_count": 37,
   "metadata": {},
   "outputs": [
    {
     "name": "stdout",
     "output_type": "stream",
     "text": [
      "name                                          Archie, Megan Nicole\n",
      "age                                                             24\n",
      "sex                                                         Female\n",
      "ethnic.origin    Black or African American (Not Hispanic or Lat...\n",
      "job.title                                 Summer Program Counselor\n",
      "organization             PRC Parks, Recreation, & Cultural Affairs\n",
      "annual.salary                                              20800.0\n",
      "Name: 216, dtype: object\n"
     ]
    }
   ],
   "source": [
    "# print row specific index\n",
    "print(df.iloc[216])"
   ]
  },
  {
   "cell_type": "code",
   "execution_count": 40,
   "metadata": {},
   "outputs": [
    {
     "name": "stdout",
     "output_type": "stream",
     "text": [
      "                             name  age     sex  \\\n",
      "216          Archie, Megan Nicole   24  Female   \n",
      "251    Askew, Aquecsayieah Kashun   26  Female   \n",
      "904               Brown, Joshua W   25    Male   \n",
      "934            Brown, Tyshawnda N   23  Female   \n",
      "1220             Carter, Dollie J   20  Female   \n",
      "1223            Carter, Jamilah N   24  Female   \n",
      "1296              Chase, Rashad L   29    Male   \n",
      "1497           Concepcion, Angela   29  Female   \n",
      "2032           Dowery, Tyra Ayana   20  Female   \n",
      "2671               Giles, Keyon M   24    Male   \n",
      "3177              Hassen, Aisha H   26  Female   \n",
      "3700      Jackson, Tearre Denesse   23  Female   \n",
      "5947          Rankin, Bria Simone   23  Female   \n",
      "7012      Strozier, Marquavious A   20    Male   \n",
      "7097          Taylor, Christina M   29  Female   \n",
      "7219  Thompson, Chandrekia Denise   30  Female   \n",
      "8174             Wynn, Timothy Jr   24    Male   \n",
      "\n",
      "                                          ethnic.origin  \\\n",
      "216   Black or African American (Not Hispanic or Lat...   \n",
      "251   Black or African American (Not Hispanic or Lat...   \n",
      "904   Black or African American (Not Hispanic or Lat...   \n",
      "934   Black or African American (Not Hispanic or Lat...   \n",
      "1220  Black or African American (Not Hispanic or Lat...   \n",
      "1223  Black or African American (Not Hispanic or Lat...   \n",
      "1296  Black or African American (Not Hispanic or Lat...   \n",
      "1497  Black or African American (Not Hispanic or Lat...   \n",
      "2032  Black or African American (Not Hispanic or Lat...   \n",
      "2671  Black or African American (Not Hispanic or Lat...   \n",
      "3177  Black or African American (Not Hispanic or Lat...   \n",
      "3700  Black or African American (Not Hispanic or Lat...   \n",
      "5947  Black or African American (Not Hispanic or Lat...   \n",
      "7012  Black or African American (Not Hispanic or Lat...   \n",
      "7097  Black or African American (Not Hispanic or Lat...   \n",
      "7219  Black or African American (Not Hispanic or Lat...   \n",
      "8174  Black or African American (Not Hispanic or Lat...   \n",
      "\n",
      "                     job.title                               organization  \\\n",
      "216   Summer Program Counselor  PRC Parks, Recreation, & Cultural Affairs   \n",
      "251   Summer Program Counselor  PRC Parks, Recreation, & Cultural Affairs   \n",
      "904   Summer Program Counselor  PRC Parks, Recreation, & Cultural Affairs   \n",
      "934   Summer Program Counselor  PRC Parks, Recreation, & Cultural Affairs   \n",
      "1220  Summer Program Counselor  PRC Parks, Recreation, & Cultural Affairs   \n",
      "1223  Summer Program Counselor  PRC Parks, Recreation, & Cultural Affairs   \n",
      "1296  Summer Program Counselor  PRC Parks, Recreation, & Cultural Affairs   \n",
      "1497  Summer Program Counselor  PRC Parks, Recreation, & Cultural Affairs   \n",
      "2032  Summer Program Counselor  PRC Parks, Recreation, & Cultural Affairs   \n",
      "2671  Summer Program Counselor  PRC Parks, Recreation, & Cultural Affairs   \n",
      "3177  Summer Program Counselor  PRC Parks, Recreation, & Cultural Affairs   \n",
      "3700  Summer Program Counselor  PRC Parks, Recreation, & Cultural Affairs   \n",
      "5947  Summer Program Counselor  PRC Parks, Recreation, & Cultural Affairs   \n",
      "7012  Summer Program Counselor  PRC Parks, Recreation, & Cultural Affairs   \n",
      "7097  Summer Program Counselor  PRC Parks, Recreation, & Cultural Affairs   \n",
      "7219  Summer Program Counselor  PRC Parks, Recreation, & Cultural Affairs   \n",
      "8174  Summer Program Counselor  PRC Parks, Recreation, & Cultural Affairs   \n",
      "\n",
      "      annual.salary  \n",
      "216         20800.0  \n",
      "251         20800.0  \n",
      "904         20800.0  \n",
      "934         20800.0  \n",
      "1220        21320.0  \n",
      "1223        31200.0  \n",
      "1296        20800.0  \n",
      "1497        20800.0  \n",
      "2032        20800.0  \n",
      "2671        20800.0  \n",
      "3177        23400.0  \n",
      "3700        20800.0  \n",
      "5947        20800.0  \n",
      "7012        20800.0  \n",
      "7097        23400.0  \n",
      "7219        20800.0  \n",
      "8174        20800.0  \n"
     ]
    }
   ],
   "source": [
    "# fliter the data for job.title\n",
    "print(df[df['job.title'] == 'Summer Program Counselor'])\n"
   ]
  },
  {
   "cell_type": "code",
   "execution_count": 43,
   "metadata": {},
   "outputs": [],
   "source": [
    "# export the data to csv file\n",
    "data = df[df['job.title'] == 'Summer Program Counselor']\n",
    "data.to_csv('p4n_emp.csv', index=False)"
   ]
  }
 ],
 "metadata": {
  "kernelspec": {
   "display_name": "Python 3",
   "language": "python",
   "name": "python3"
  },
  "language_info": {
   "codemirror_mode": {
    "name": "ipython",
    "version": 3
   },
   "file_extension": ".py",
   "mimetype": "text/x-python",
   "name": "python",
   "nbconvert_exporter": "python",
   "pygments_lexer": "ipython3",
   "version": "3.12.6"
  }
 },
 "nbformat": 4,
 "nbformat_minor": 2
}
