{
 "cells": [
  {
   "cell_type": "code",
   "execution_count": 3,
   "metadata": {},
   "outputs": [],
   "source": [
    "import numpy as np"
   ]
  },
  {
   "cell_type": "code",
   "execution_count": 4,
   "metadata": {},
   "outputs": [
    {
     "name": "stdout",
     "output_type": "stream",
     "text": [
      "1.26.0\n"
     ]
    }
   ],
   "source": [
    "# Checking NumPy Version \n",
    "print(np.__version__)"
   ]
  },
  {
   "cell_type": "code",
   "execution_count": 5,
   "metadata": {},
   "outputs": [
    {
     "name": "stdout",
     "output_type": "stream",
     "text": [
      "<class 'numpy.ndarray'>\n",
      "42\n"
     ]
    }
   ],
   "source": [
    "# Creating NumPy Arrays \n",
    "arr = np.array(42)\n",
    "# check type\n",
    "print(type(arr))\n",
    "print(arr)"
   ]
  },
  {
   "cell_type": "code",
   "execution_count": 6,
   "metadata": {},
   "outputs": [
    {
     "name": "stdout",
     "output_type": "stream",
     "text": [
      "[23 33 44 55]\n",
      "1\n"
     ]
    }
   ],
   "source": [
    "# 1-D Arrays:\n",
    "arr = np.array([23,33,44,55])\n",
    "print(arr)\n",
    "# Check Number of Dimensions\n",
    "print(arr.ndim)"
   ]
  },
  {
   "cell_type": "code",
   "execution_count": 7,
   "metadata": {},
   "outputs": [
    {
     "name": "stdout",
     "output_type": "stream",
     "text": [
      "[[3 4 5 6]\n",
      " [6 7 8 9]]\n",
      "2\n"
     ]
    }
   ],
   "source": [
    "# 2-D Arrays\n",
    "arr = np.array([[3,4,5,6],[6,7,8,9]])\n",
    "print(arr)\n",
    "# Check Number of Dimensions\n",
    "print(arr.ndim)"
   ]
  },
  {
   "cell_type": "code",
   "execution_count": 8,
   "metadata": {},
   "outputs": [
    {
     "name": "stdout",
     "output_type": "stream",
     "text": [
      "[[[3 4 5 6]\n",
      "  [6 7 8 9]]\n",
      "\n",
      " [[5 6 7 8]\n",
      "  [5 6 7 8]]]\n"
     ]
    }
   ],
   "source": [
    "# 3-D Arrays:\n",
    "arr = np.array([[[3,4,5,6],[6,7,8,9]],[[5,6,7,8],[5,6,7,8]]])\n",
    "print(arr)"
   ]
  },
  {
   "cell_type": "code",
   "execution_count": 9,
   "metadata": {},
   "outputs": [
    {
     "name": "stdout",
     "output_type": "stream",
     "text": [
      "3\n"
     ]
    }
   ],
   "source": [
    "# Check Number of Dimensions\n",
    "print(arr.ndim)"
   ]
  },
  {
   "cell_type": "code",
   "execution_count": 10,
   "metadata": {},
   "outputs": [
    {
     "name": "stdout",
     "output_type": "stream",
     "text": [
      "[[[[ 1  2]\n",
      "   [ 3  4]]\n",
      "\n",
      "  [[ 5  6]\n",
      "   [ 7  8]]]\n",
      "\n",
      "\n",
      " [[[ 9 10]\n",
      "   [11 12]]\n",
      "\n",
      "  [[13 14]\n",
      "   [15 16]]]]\n",
      "4\n"
     ]
    }
   ],
   "source": [
    "# Higher-Dimensional Arrays :\n",
    "arr_nd = np.array([[[[1, 2], [3, 4]], [[5, 6], [7, 8]]], [[[9, 10], [11, 12]], [[13, 14], [15, 16]]]])\n",
    "print(arr_nd)\n",
    "# Check Number of Dimensions\n",
    "print(arr_nd.ndim)"
   ]
  },
  {
   "cell_type": "code",
   "execution_count": 11,
   "metadata": {},
   "outputs": [
    {
     "name": "stdout",
     "output_type": "stream",
     "text": [
      "1\n",
      "3\n",
      "5\n",
      "4\n"
     ]
    }
   ],
   "source": [
    "# Basic Indexing\n",
    "# index                    0  1  2  3  4\n",
    "arr =            np.array([1, 2, 3, 4, 5])\n",
    "# Negative Index          -5 -4 -3 -2 -1\n",
    "print(arr[0])  # Access the first element (1)\n",
    "print(arr[2])  # Access the third element (3)\n",
    "# Negative Index \n",
    "print(arr[-1])  # Access the last element (5)\n",
    "print(arr[-2])  # Access the second-to-last element (4)"
   ]
  },
  {
   "cell_type": "code",
   "execution_count": 12,
   "metadata": {},
   "outputs": [
    {
     "name": "stdout",
     "output_type": "stream",
     "text": [
      "2\n",
      "6\n"
     ]
    }
   ],
   "source": [
    "# Multidimensional Array Indexing \n",
    "arr_2d = np.array([[1, 2, 3], [4, 5, 6],[7,8,9]])\n",
    "\n",
    "print(arr_2d[0, 1]) # Access element at row 1, column 2 (6)\n",
    "\n",
    "# Using a single tuple of indices\n",
    "indices = (1, 2)\n",
    "print(arr_2d[indices])  # Access the same element (6)"
   ]
  },
  {
   "cell_type": "code",
   "execution_count": 13,
   "metadata": {},
   "outputs": [
    {
     "name": "stdout",
     "output_type": "stream",
     "text": [
      "[2 5 8]\n",
      "[1 2 3]\n"
     ]
    }
   ],
   "source": [
    "# Slicing in Multidimensional Arrays :\n",
    "print(arr_2d[:,1]) # # Access the second column ([2, 5])\n",
    "print(arr_2d[0, :])  # Access the first row ([1, 2, 3])"
   ]
  },
  {
   "cell_type": "code",
   "execution_count": 14,
   "metadata": {},
   "outputs": [
    {
     "name": "stdout",
     "output_type": "stream",
     "text": [
      "[2 2]\n"
     ]
    }
   ],
   "source": [
    "# Fancy Indexing :\n",
    "row_indices = np.array([0, 0])\n",
    "col_indices = np.array([1, 1])\n",
    "selected_elements = arr_2d[row_indices, col_indices]\n",
    "print(selected_elements)"
   ]
  },
  {
   "cell_type": "code",
   "execution_count": 15,
   "metadata": {},
   "outputs": [
    {
     "name": "stdout",
     "output_type": "stream",
     "text": [
      "[[1 3]\n",
      " [5 7]]\n"
     ]
    }
   ],
   "source": [
    "# Ellipsis (…) Indexing :\n",
    "arr_3d = np.array([[[1, 2,11], [3, 4,12]], [[5, 6,13], [7, 8,14]]])\n",
    "print(arr_3d[...,0])  # Access the first element along the third dimension ([[1, 3], [5, 7]])"
   ]
  },
  {
   "cell_type": "code",
   "execution_count": 16,
   "metadata": {},
   "outputs": [
    {
     "name": "stdout",
     "output_type": "stream",
     "text": [
      "[1. 2. 3. 4. 5.]\n",
      "['1' '2' '3' '4' '5']\n"
     ]
    }
   ],
   "source": [
    "# Creating Arrays With a Defined Data Type\n",
    "arr = np.array([1, 2, 3, 4, 5], dtype='float')\n",
    "print(arr)\n",
    "arr = np.array([1, 2, 3, 4, 5], dtype='str')\n",
    "print(arr)"
   ]
  },
  {
   "cell_type": "code",
   "execution_count": 17,
   "metadata": {},
   "outputs": [
    {
     "name": "stdout",
     "output_type": "stream",
     "text": [
      "[1 2 3 4 5]\n"
     ]
    }
   ],
   "source": [
    "# Converting Data Type on Existing Arrays \n",
    "arr = arr.astype('int')\n",
    "print(arr)"
   ]
  },
  {
   "cell_type": "code",
   "execution_count": 18,
   "metadata": {},
   "outputs": [
    {
     "name": "stdout",
     "output_type": "stream",
     "text": [
      "(2, 3)\n"
     ]
    }
   ],
   "source": [
    "# NumPy Array Shape :\n",
    "arr = np.array([[1, 2, 3], [4, 5, 6]])\n",
    "print(arr.shape)  # (2, 3), indicating a 2x3 array"
   ]
  },
  {
   "cell_type": "code",
   "execution_count": 19,
   "metadata": {},
   "outputs": [
    {
     "name": "stdout",
     "output_type": "stream",
     "text": [
      "[[1]\n",
      " [2]\n",
      " [3]\n",
      " [4]\n",
      " [5]\n",
      " [6]]\n"
     ]
    }
   ],
   "source": [
    "# NumPy Array Reshaping :\n",
    "arr = np.array([1, 2, 3, 4, 5, 6])\n",
    "reshaped = arr.reshape(6,1)  # Reshape into a 2x3 array\n",
    "print(reshaped)"
   ]
  },
  {
   "cell_type": "code",
   "execution_count": 20,
   "metadata": {},
   "outputs": [
    {
     "name": "stdout",
     "output_type": "stream",
     "text": [
      "1\n",
      "2\n",
      "3\n",
      "4\n",
      "5\n",
      "6\n",
      "7\n"
     ]
    }
   ],
   "source": [
    "arr = np.array([1, 2, 3, 4, 5, 6, 7])\n",
    "for item in arr:\n",
    "    print(item)"
   ]
  },
  {
   "cell_type": "code",
   "execution_count": 23,
   "metadata": {},
   "outputs": [
    {
     "name": "stdout",
     "output_type": "stream",
     "text": [
      "[1 2 3 4 5 6]\n"
     ]
    }
   ],
   "source": [
    "# NumPy Joining Arrays\n",
    "arr11 = np.array([1, 2, 3])\n",
    "arr22 = np.array([4, 5, 6])\n",
    "result = np.concatenate((arr11, arr22))  # Concatenate along the first axis (axis 0)\n",
    "print(result)"
   ]
  },
  {
   "cell_type": "code",
   "execution_count": 29,
   "metadata": {},
   "outputs": [
    {
     "name": "stdout",
     "output_type": "stream",
     "text": [
      "[array([1, 2]), array([3, 4]), array([5, 6])]\n"
     ]
    }
   ],
   "source": [
    "# NumPy Splitting Arrays\n",
    "arr = np.array([1, 2, 3, 4, 5, 6])\n",
    "sub_arrays = np.array_split(arr, 3)  # Split into 3 equal-sized sub-arrays\n",
    "print(sub_arrays)"
   ]
  },
  {
   "cell_type": "code",
   "execution_count": 32,
   "metadata": {},
   "outputs": [
    {
     "name": "stdout",
     "output_type": "stream",
     "text": [
      "(array([2]),)\n"
     ]
    }
   ],
   "source": [
    "# NumPy Searching Arrays\n",
    "arr = np.array([1, 2, 3, 4, 5])\n",
    "indexes = np.where(arr == 3)  # Find the index where value is 3\n",
    "print(indexes)"
   ]
  },
  {
   "cell_type": "code",
   "execution_count": 34,
   "metadata": {},
   "outputs": [
    {
     "name": "stdout",
     "output_type": "stream",
     "text": [
      "[1 2 3 4 5]\n"
     ]
    }
   ],
   "source": [
    "# NumPy Sorting Arrays\n",
    "arr = np.array([3, 1, 2, 4, 5])\n",
    "arr.sort()  # Sort in ascending order\n",
    "print(arr)"
   ]
  },
  {
   "cell_type": "code",
   "execution_count": 37,
   "metadata": {},
   "outputs": [
    {
     "name": "stdout",
     "output_type": "stream",
     "text": [
      "[3 4 5]\n"
     ]
    }
   ],
   "source": [
    "arr = np.array([1, 2, 3, 4, 5])\n",
    "condition = arr > 2\n",
    "filtered = arr[condition]  # Select elements greater than 2\n",
    "print(filtered)"
   ]
  },
  {
   "cell_type": "code",
   "execution_count": 38,
   "metadata": {},
   "outputs": [
    {
     "name": "stdout",
     "output_type": "stream",
     "text": [
      "      Name Age           City\n",
      "0    Alice  25       New York\n",
      "1      Bob  30  San Francisco\n",
      "2  Charlie  35    Los Angeles\n"
     ]
    }
   ],
   "source": [
    "# Creating a DataFrame from a NumPy Array:\n",
    "import pandas as pd\n",
    "# Create a NumPy array\n",
    "data = np.array([\n",
    "    ['Alice', 25, 'New York'],\n",
    "    ['Bob', 30, 'San Francisco'],\n",
    "    ['Charlie', 35, 'Los Angeles']\n",
    "])\n",
    "# Create a DataFrame from the NumPy array\n",
    "df = pd.DataFrame(data, columns=['Name', 'Age', 'City'])\n",
    "# Display the DataFrame\n",
    "print(df)"
   ]
  }
 ],
 "metadata": {
  "kernelspec": {
   "display_name": "venv",
   "language": "python",
   "name": "python3"
  },
  "language_info": {
   "codemirror_mode": {
    "name": "ipython",
    "version": 3
   },
   "file_extension": ".py",
   "mimetype": "text/x-python",
   "name": "python",
   "nbconvert_exporter": "python",
   "pygments_lexer": "ipython3",
   "version": "3.10.8"
  }
 },
 "nbformat": 4,
 "nbformat_minor": 2
}
