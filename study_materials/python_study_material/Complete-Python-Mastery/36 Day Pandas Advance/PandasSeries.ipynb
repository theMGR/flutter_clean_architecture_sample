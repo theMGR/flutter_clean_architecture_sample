{
  "metadata": {
    "language_info": {
      "codemirror_mode": {
        "name": "python",
        "version": 3
      },
      "file_extension": ".py",
      "mimetype": "text/x-python",
      "name": "python",
      "nbconvert_exporter": "python",
      "pygments_lexer": "ipython3",
      "version": "3.8"
    },
    "kernelspec": {
      "name": "python",
      "display_name": "Python (Pyodide)",
      "language": "python"
    }
  },
  "nbformat_minor": 4,
  "nbformat": 4,
  "cells": [
    {
      "cell_type": "code",
      "source": "# pip install pandas\nimport pandas as pd",
      "metadata": {
        "trusted": true
      },
      "execution_count": 3,
      "outputs": []
    },
    {
      "cell_type": "code",
      "source": "# Checking Pandas Version\nprint(pd.__version__)",
      "metadata": {
        "trusted": true
      },
      "execution_count": 4,
      "outputs": [
        {
          "name": "stdout",
          "text": "1.5.3\n",
          "output_type": "stream"
        }
      ]
    },
    {
      "cell_type": "code",
      "source": "# Python Pandas — Series\n# pandas.Series( data, index, dtype, copy)\n\n# Create an Empty Series\ns = pd.Series()\nprint(s)",
      "metadata": {
        "trusted": true
      },
      "execution_count": 6,
      "outputs": [
        {
          "name": "stderr",
          "text": "<ipython-input-6-41a309d7061b>:5: FutureWarning: The default dtype for empty Series will be 'object' instead of 'float64' in a future version. Specify a dtype explicitly to silence this warning.\n  s = pd.Series()\n",
          "output_type": "stream"
        },
        {
          "name": "stdout",
          "text": "Series([], dtype: float64)\n",
          "output_type": "stream"
        }
      ]
    },
    {
      "cell_type": "code",
      "source": "# Create a Series from dict\n\ndata = {\n    'name':'joy',\n    'city':'mumbai',\n    'age':12,\n    'height':4.5\n}\n\ns = pd.Series(data)\n# print series\nprint(s)",
      "metadata": {
        "trusted": true
      },
      "execution_count": 12,
      "outputs": [
        {
          "name": "stdout",
          "text": "name         joy\ncity      mumbai\nage           12\nheight       4.5\ndtype: object\n",
          "output_type": "stream"
        }
      ]
    },
    {
      "cell_type": "code",
      "source": "# change index \ncourse = ['java','c++','python','pandas']\nindex1 = ['a','b','c','d']\n# s = pd.Series(course,index=['a','b','c','d'])\ns = pd.Series(course,index1)\nprint(s)",
      "metadata": {
        "trusted": true
      },
      "execution_count": 17,
      "outputs": [
        {
          "name": "stdout",
          "text": "a      java\nb       c++\nc    python\nd    pandas\ndtype: object\n",
          "output_type": "stream"
        }
      ]
    },
    {
      "cell_type": "code",
      "source": "# Create a Series from Scalar\ns = pd.Series(5, index=[0, 1, 2, 3])\nprint(s)",
      "metadata": {
        "trusted": true
      },
      "execution_count": 18,
      "outputs": [
        {
          "name": "stdout",
          "text": "0    5\n1    5\n2    5\n3    5\ndtype: int64\n",
          "output_type": "stream"
        }
      ]
    },
    {
      "cell_type": "code",
      "source": "# Accessing Data from Series with Position\ncourse = ['java','c++','python','pandas']\nindex1 = ['a','b','c','d']\ns = pd.Series(course,index1)\n# Retrieve Data Using Index\nprint(s[2]) # output python\n# Retrieve Data Using Label (Index)\nprint(s['b'])\nprint(s[:'b'])\n",
      "metadata": {
        "trusted": true
      },
      "execution_count": 21,
      "outputs": [
        {
          "name": "stdout",
          "text": "python\nc++\na    java\nb     c++\ndtype: object\n",
          "output_type": "stream"
        }
      ]
    },
    {
      "cell_type": "code",
      "source": "# Retrieving Index array and data array of a series object\nx=pd.Series(data=[2,4,6,8])   \ny=pd.Series(data=[11.2,18.6,22.5], index=['a','b','c'])   \nprint(x.index)   \nprint(x.values)   \nprint(y.index)   \nprint(y.values)  ",
      "metadata": {
        "trusted": true
      },
      "execution_count": 22,
      "outputs": [
        {
          "name": "stdout",
          "text": "RangeIndex(start=0, stop=4, step=1)\n[2 4 6 8]\nIndex(['a', 'b', 'c'], dtype='object')\n[11.2 18.6 22.5]\n",
          "output_type": "stream"
        }
      ]
    },
    {
      "cell_type": "code",
      "source": "",
      "metadata": {},
      "execution_count": null,
      "outputs": []
    }
  ]
}