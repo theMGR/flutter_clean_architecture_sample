{
 "cells": [
  {
   "cell_type": "code",
   "execution_count": 12,
   "metadata": {},
   "outputs": [
    {
     "name": "stdout",
     "output_type": "stream",
     "text": [
      "      food\n",
      "0   samosa\n",
      "1  kachori\n",
      "2    fafda\n",
      "3      pav\n"
     ]
    }
   ],
   "source": [
    "import pandas as pd\n",
    "\n",
    "data = ['samosa','kachori','fafda','pav']\n",
    "\n",
    "#s = pd.Series(data)\n",
    "\n",
    "#print(s)\n",
    "\n",
    "df = pd.DataFrame(data, columns=['food'])\n",
    "print(df)"
   ]
  },
  {
   "cell_type": "code",
   "execution_count": 14,
   "metadata": {},
   "outputs": [
    {
     "name": "stdout",
     "output_type": "stream",
     "text": [
      "       Name  Age Country\n",
      "A1    Alice   25     USA\n",
      "A2      Bob   30  Canada\n",
      "A3  Charlie   22      UK\n"
     ]
    }
   ],
   "source": [
    "data = {\n",
    "    'Name': ['Alice', 'Bob', 'Charlie'],\n",
    "    'Age': [25, 30, 22],\n",
    "    'Country': ['USA', 'Canada', 'UK']\n",
    "}\n",
    "\n",
    "indexx = ['A1','A2','A3']\n",
    "\n",
    "df = pd.DataFrame(data, index=indexx)\n",
    "print(df)"
   ]
  },
  {
   "cell_type": "code",
   "execution_count": 16,
   "metadata": {},
   "outputs": [
    {
     "name": "stdout",
     "output_type": "stream",
     "text": [
      "A1      Alice\n",
      "A2        Bob\n",
      "A3    Charlie\n",
      "Name: Name, dtype: object\n",
      "       Name  Age\n",
      "A1    Alice   25\n",
      "A2      Bob   30\n",
      "A3  Charlie   22\n"
     ]
    }
   ],
   "source": [
    "# Select a single column\n",
    "name_column = df['Name']\n",
    "print(name_column)\n",
    "\n",
    "# Select multiple columns\n",
    "name_age_columns = df[['Name', 'Age']]\n",
    "print(name_age_columns)"
   ]
  },
  {
   "cell_type": "code",
   "execution_count": 19,
   "metadata": {},
   "outputs": [
    {
     "name": "stdout",
     "output_type": "stream",
     "text": [
      "Name          Bob\n",
      "Age            30\n",
      "Country    Canada\n",
      "Name: A2, dtype: object\n"
     ]
    }
   ],
   "source": [
    "# Using .loc to select rows by label\n",
    "first_row = df.loc['A2']\n",
    "print(first_row)\n",
    "\n"
   ]
  },
  {
   "cell_type": "code",
   "execution_count": 21,
   "metadata": {},
   "outputs": [
    {
     "name": "stdout",
     "output_type": "stream",
     "text": [
      "Name       Alice\n",
      "Age           25\n",
      "Country      USA\n",
      "Name: A1, dtype: object\n"
     ]
    }
   ],
   "source": [
    "# Using .iloc to select rows by integer index\n",
    "second_row = df.iloc[0]\n",
    "print(second_row)"
   ]
  },
  {
   "cell_type": "code",
   "execution_count": 23,
   "metadata": {},
   "outputs": [
    {
     "name": "stdout",
     "output_type": "stream",
     "text": [
      "Alice\n"
     ]
    }
   ],
   "source": [
    "# Using .loc to select specific rows and columns by label\n",
    "specific_row_col = df.loc['A1', 'Name']\n",
    "print(specific_row_col)"
   ]
  },
  {
   "cell_type": "code",
   "execution_count": 25,
   "metadata": {},
   "outputs": [
    {
     "name": "stdout",
     "output_type": "stream",
     "text": [
      "         Age Country\n",
      "Name                \n",
      "Alice     25     USA\n",
      "Bob       30  Canada\n",
      "Charlie   22      UK\n"
     ]
    }
   ],
   "source": [
    "df_with_index = df.set_index('Name')\n",
    "print(df_with_index)"
   ]
  },
  {
   "cell_type": "code",
   "execution_count": 28,
   "metadata": {},
   "outputs": [
    {
     "name": "stdout",
     "output_type": "stream",
     "text": [
      "DataFrame with Custom Index:\n",
      "         Age Country\n",
      "Name                \n",
      "Alice     25     USA\n",
      "Bob       30  Canada\n",
      "Charlie   22      UK\n"
     ]
    }
   ],
   "source": [
    "# Creating a DataFrame\n",
    "data = {\n",
    "    'Name': ['Alice', 'Bob', 'Charlie'],\n",
    "    'Age': [25, 30, 22],\n",
    "    'Country': ['USA', 'Canada', 'UK']\n",
    "}\n",
    "df = pd.DataFrame(data)\n",
    "\n",
    "# Adding an Index\n",
    "df_with_index = df.set_index('Name')\n",
    "print(\"DataFrame with Custom Index:\")\n",
    "print(df_with_index)\n",
    "\n",
    "\n"
   ]
  },
  {
   "cell_type": "code",
   "execution_count": 33,
   "metadata": {},
   "outputs": [
    {
     "name": "stdout",
     "output_type": "stream",
     "text": [
      "\n",
      "DataFrame with New Column:\n",
      "{'Name': ['Alice', 'Bob', 'Charlie'], 'Age': [25, 30, 22], 'Country': ['USA', 'Canada', 'UK'], 'height': [4.5, 5.6, 6.1]}\n",
      "      Name  Age Country  height\n",
      "0    Alice   25     USA     4.5\n",
      "1      Bob   30  Canada     5.6\n",
      "2  Charlie   22      UK     6.1\n"
     ]
    }
   ],
   "source": [
    "# Adding a Column\n",
    "#df_with_new_column = df_with_new_row.copy()  # Create a copy to avoid modifying the original\n",
    "data['height'] = [4.5, 5.6, 6.1]\n",
    "print(\"\\nDataFrame with New Column:\")\n",
    "print(data)\n",
    "\n",
    "df = pd.DataFrame(data)\n",
    "print(df)"
   ]
  },
  {
   "cell_type": "code",
   "execution_count": 34,
   "metadata": {},
   "outputs": [
    {
     "name": "stdout",
     "output_type": "stream",
     "text": [
      "      Name  Age Country  height\n",
      "0    Alice   25     USA     4.5\n",
      "1      Bob   30  Canada     5.6\n",
      "2  Charlie   22      UK     6.1\n",
      "3      joy   90   india     8.9\n"
     ]
    }
   ],
   "source": [
    "# Adding a Row\n",
    "# Create a dictionary for the new row\n",
    "new_row = {'Name':'joy','Age':90,'Country':'india','height':8.9}\n",
    "\n",
    "# Append the new row to the DataFrame\n",
    "df = pd.concat([df, pd.DataFrame([new_row])], ignore_index=True)\n",
    "\n",
    "print(df)"
   ]
  },
  {
   "cell_type": "code",
   "execution_count": 38,
   "metadata": {},
   "outputs": [],
   "source": [
    "# Write the DataFrame to an Excel file\n",
    "df.to_excel('output.xlsx', index=False)"
   ]
  },
  {
   "cell_type": "code",
   "execution_count": 35,
   "metadata": {},
   "outputs": [
    {
     "name": "stdout",
     "output_type": "stream",
     "text": [
      "Requirement already satisfied: pandas in c:\\users\\comp\\appdata\\local\\programs\\python\\python312\\lib\\site-packages (2.1.3)\n",
      "Collecting openpyxl\n",
      "  Downloading openpyxl-3.1.2-py2.py3-none-any.whl (249 kB)\n",
      "     ---------------------------------------- 0.0/250.0 kB ? eta -:--:--\n",
      "     -------------------------------------- 250.0/250.0 kB 7.7 MB/s eta 0:00:00\n",
      "Requirement already satisfied: numpy<2,>=1.26.0 in c:\\users\\comp\\appdata\\local\\programs\\python\\python312\\lib\\site-packages (from pandas) (1.26.2)\n",
      "Requirement already satisfied: python-dateutil>=2.8.2 in c:\\users\\comp\\appdata\\roaming\\python\\python312\\site-packages (from pandas) (2.8.2)\n",
      "Requirement already satisfied: pytz>=2020.1 in c:\\users\\comp\\appdata\\local\\programs\\python\\python312\\lib\\site-packages (from pandas) (2023.3.post1)\n",
      "Requirement already satisfied: tzdata>=2022.1 in c:\\users\\comp\\appdata\\local\\programs\\python\\python312\\lib\\site-packages (from pandas) (2023.3)\n",
      "Collecting et-xmlfile (from openpyxl)\n",
      "  Downloading et_xmlfile-1.1.0-py3-none-any.whl (4.7 kB)\n",
      "Requirement already satisfied: six>=1.5 in c:\\users\\comp\\appdata\\roaming\\python\\python312\\site-packages (from python-dateutil>=2.8.2->pandas) (1.16.0)\n",
      "Installing collected packages: et-xmlfile, openpyxl\n",
      "Successfully installed et-xmlfile-1.1.0 openpyxl-3.1.2\n",
      "Note: you may need to restart the kernel to use updated packages.\n"
     ]
    },
    {
     "name": "stderr",
     "output_type": "stream",
     "text": [
      "\n",
      "[notice] A new release of pip is available: 23.2.1 -> 23.3.1\n",
      "[notice] To update, run: python.exe -m pip install --upgrade pip\n"
     ]
    }
   ],
   "source": [
    "pip install pandas openpyxl"
   ]
  },
  {
   "cell_type": "code",
   "execution_count": 44,
   "metadata": {},
   "outputs": [
    {
     "name": "stdout",
     "output_type": "stream",
     "text": [
      "   Row ID        Order ID Order Date  Ship Date       Ship Mode Customer ID  \\\n",
      "0       1  CA-2018-152156 2018-11-08 2018-11-11    Second Class    CG-12520   \n",
      "1       2  CA-2018-152156 2018-11-08 2018-11-11    Second Class    CG-12520   \n",
      "2       3  CA-2018-138688 2018-06-12 2018-06-16    Second Class    DV-13045   \n",
      "3       4  US-2017-108966 2017-10-11 2017-10-18  Standard Class    SO-20335   \n",
      "4       5  US-2017-108966 2017-10-11 2017-10-18  Standard Class    SO-20335   \n",
      "\n",
      "     Customer Name    Segment Country/Region             City  ...  \\\n",
      "0      Claire Gute   Consumer  United States        Henderson  ...   \n",
      "1      Claire Gute   Consumer  United States        Henderson  ...   \n",
      "2  Darrin Van Huff  Corporate  United States      Los Angeles  ...   \n",
      "3   Sean O'Donnell   Consumer  United States  Fort Lauderdale  ...   \n",
      "4   Sean O'Donnell   Consumer  United States  Fort Lauderdale  ...   \n",
      "\n",
      "  Postal Code  Region       Product ID         Category Sub-Category  \\\n",
      "0     42420.0   South  FUR-BO-10001798        Furniture    Bookcases   \n",
      "1     42420.0   South  FUR-CH-10000454        Furniture       Chairs   \n",
      "2     90036.0    West  OFF-LA-10000240  Office Supplies       Labels   \n",
      "3     33311.0   South  FUR-TA-10000577        Furniture       Tables   \n",
      "4     33311.0   South  OFF-ST-10000760  Office Supplies      Storage   \n",
      "\n",
      "                                        Product Name     Sales  Quantity  \\\n",
      "0                  Bush Somerset Collection Bookcase  261.9600         2   \n",
      "1  Hon Deluxe Fabric Upholstered Stacking Chairs,...  731.9400         3   \n",
      "2  Self-Adhesive Address Labels for Typewriters b...   14.6200         2   \n",
      "3      Bretford CR4500 Series Slim Rectangular Table  957.5775         5   \n",
      "4                     Eldon Fold 'N Roll Cart System   22.3680         2   \n",
      "\n",
      "   Discount    Profit  \n",
      "0      0.00   41.9136  \n",
      "1      0.00  219.5820  \n",
      "2      0.00    6.8714  \n",
      "3      0.45 -383.0310  \n",
      "4      0.20    2.5164  \n",
      "\n",
      "[5 rows x 21 columns]\n"
     ]
    },
    {
     "name": "stderr",
     "output_type": "stream",
     "text": [
      "c:\\Users\\comp\\AppData\\Local\\Programs\\Python\\Python312\\Lib\\site-packages\\openpyxl\\worksheet\\header_footer.py:48: UserWarning: Cannot parse header or footer so it will be ignored\n",
      "  warn(\"\"\"Cannot parse header or footer so it will be ignored\"\"\")\n"
     ]
    }
   ],
   "source": [
    "# Read an Excel file into a DataFrame\n",
    "df = pd.read_excel('data.xlsx')\n",
    "# Display the first few rows of the DataFrame\n",
    "print(df.head())"
   ]
  },
  {
   "cell_type": "code",
   "execution_count": 45,
   "metadata": {},
   "outputs": [
    {
     "name": "stdout",
     "output_type": "stream",
     "text": [
      "      Row ID        Order ID Order Date  Ship Date       Ship Mode  \\\n",
      "0          1  CA-2018-152156 2018-11-08 2018-11-11    Second Class   \n",
      "1          2  CA-2018-152156 2018-11-08 2018-11-11    Second Class   \n",
      "2          3  CA-2018-138688 2018-06-12 2018-06-16    Second Class   \n",
      "3          4  US-2017-108966 2017-10-11 2017-10-18  Standard Class   \n",
      "4          5  US-2017-108966 2017-10-11 2017-10-18  Standard Class   \n",
      "...      ...             ...        ...        ...             ...   \n",
      "9989    9990  CA-2016-110422 2016-01-21 2016-01-23    Second Class   \n",
      "9990    9991  CA-2019-121258 2019-02-26 2019-03-03  Standard Class   \n",
      "9991    9992  CA-2019-121258 2019-02-26 2019-03-03  Standard Class   \n",
      "9992    9993  CA-2019-121258 2019-02-26 2019-03-03  Standard Class   \n",
      "9993    9994  CA-2019-119914 2019-05-04 2019-05-09    Second Class   \n",
      "\n",
      "     Customer ID     Customer Name    Segment Country/Region             City  \\\n",
      "0       CG-12520       Claire Gute   Consumer  United States        Henderson   \n",
      "1       CG-12520       Claire Gute   Consumer  United States        Henderson   \n",
      "2       DV-13045   Darrin Van Huff  Corporate  United States      Los Angeles   \n",
      "3       SO-20335    Sean O'Donnell   Consumer  United States  Fort Lauderdale   \n",
      "4       SO-20335    Sean O'Donnell   Consumer  United States  Fort Lauderdale   \n",
      "...          ...               ...        ...            ...              ...   \n",
      "9989    TB-21400  Tom Boeckenhauer   Consumer  United States            Miami   \n",
      "9990    DB-13060       Dave Brooks   Consumer  United States       Costa Mesa   \n",
      "9991    DB-13060       Dave Brooks   Consumer  United States       Costa Mesa   \n",
      "9992    DB-13060       Dave Brooks   Consumer  United States       Costa Mesa   \n",
      "9993    CC-12220      Chris Cortes   Consumer  United States      Westminster   \n",
      "\n",
      "      ... Postal Code  Region       Product ID         Category Sub-Category  \\\n",
      "0     ...     42420.0   South  FUR-BO-10001798        Furniture    Bookcases   \n",
      "1     ...     42420.0   South  FUR-CH-10000454        Furniture       Chairs   \n",
      "2     ...     90036.0    West  OFF-LA-10000240  Office Supplies       Labels   \n",
      "3     ...     33311.0   South  FUR-TA-10000577        Furniture       Tables   \n",
      "4     ...     33311.0   South  OFF-ST-10000760  Office Supplies      Storage   \n",
      "...   ...         ...     ...              ...              ...          ...   \n",
      "9989  ...     33180.0   South  FUR-FU-10001889        Furniture  Furnishings   \n",
      "9990  ...     92627.0    West  FUR-FU-10000747        Furniture  Furnishings   \n",
      "9991  ...     92627.0    West  TEC-PH-10003645       Technology       Phones   \n",
      "9992  ...     92627.0    West  OFF-PA-10004041  Office Supplies        Paper   \n",
      "9993  ...     92683.0    West  OFF-AP-10002684  Office Supplies   Appliances   \n",
      "\n",
      "                                           Product Name     Sales  Quantity  \\\n",
      "0                     Bush Somerset Collection Bookcase  261.9600         2   \n",
      "1     Hon Deluxe Fabric Upholstered Stacking Chairs,...  731.9400         3   \n",
      "2     Self-Adhesive Address Labels for Typewriters b...   14.6200         2   \n",
      "3         Bretford CR4500 Series Slim Rectangular Table  957.5775         5   \n",
      "4                        Eldon Fold 'N Roll Cart System   22.3680         2   \n",
      "...                                                 ...       ...       ...   \n",
      "9989                             Ultra Door Pull Handle   25.2480         3   \n",
      "9990  Tenex B1-RE Series Chair Mats for Low Pile Car...   91.9600         2   \n",
      "9991                              Aastra 57i VoIP phone  258.5760         2   \n",
      "9992  It's Hot Message Books with Stickers, 2 3/4\" x 5\"   29.6000         4   \n",
      "9993  Acco 7-Outlet Masterpiece Power Center, Wihtou...  243.1600         2   \n",
      "\n",
      "      Discount    Profit  \n",
      "0         0.00   41.9136  \n",
      "1         0.00  219.5820  \n",
      "2         0.00    6.8714  \n",
      "3         0.45 -383.0310  \n",
      "4         0.20    2.5164  \n",
      "...        ...       ...  \n",
      "9989      0.20    4.1028  \n",
      "9990      0.00   15.6332  \n",
      "9991      0.20   19.3932  \n",
      "9992      0.00   13.3200  \n",
      "9993      0.00   72.9480  \n",
      "\n",
      "[9994 rows x 21 columns]\n"
     ]
    }
   ],
   "source": [
    "df = pd.DataFrame(df)\n",
    "print(df)"
   ]
  },
  {
   "cell_type": "code",
   "execution_count": 52,
   "metadata": {},
   "outputs": [
    {
     "name": "stdout",
     "output_type": "stream",
     "text": [
      "   Row ID        Order ID Order Date  Ship Date       Ship Mode Customer ID  \\\n",
      "0    4102  US-2019-102288 2019-06-19 2019-06-23  Standard Class    ZC-21910   \n",
      "1    9293  CA-2019-124114 2019-03-02 2019-03-02        Same Day    RS-19765   \n",
      "2    8659  CA-2018-168361 2018-06-21 2018-06-25  Standard Class    KB-16600   \n",
      "3    4712  CA-2016-112403 2016-03-31 2016-03-31        Same Day    JO-15280   \n",
      "4    2107  US-2016-152723 2016-09-26 2016-09-26        Same Day    HG-14965   \n",
      "\n",
      "      Customer Name    Segment Country/Region          City  ... Postal Code  \\\n",
      "0  Zuschuss Carroll   Consumer  United States       Houston  ...     77095.0   \n",
      "1    Roland Schwarz  Corporate  United States          Waco  ...     76706.0   \n",
      "2       Ken Brennan  Corporate  United States       Chicago  ...     60623.0   \n",
      "3     Jas O'Carroll   Consumer  United States  Philadelphia  ...     19120.0   \n",
      "4     Henry Goldwyn  Corporate  United States      Mesquite  ...     75150.0   \n",
      "\n",
      "    Region       Product ID         Category Sub-Category  \\\n",
      "0  Central  OFF-AP-10002906  Office Supplies   Appliances   \n",
      "1  Central  OFF-BI-10004022  Office Supplies      Binders   \n",
      "2  Central  OFF-BI-10003727  Office Supplies      Binders   \n",
      "3     East  OFF-BI-10003529  Office Supplies      Binders   \n",
      "4  Central  OFF-BI-10003460  Office Supplies      Binders   \n",
      "\n",
      "                                        Product Name  Sales  Quantity  \\\n",
      "0  Hoover Replacement Belt for Commercial Guardsm...  0.444         1   \n",
      "1           Acco Suede Grain Vinyl Round Ring Binder  0.556         1   \n",
      "2  Avery Durable Slant Ring Binders With Label Ho...  0.836         1   \n",
      "3                      Avery Round Ring Poly Binders  0.852         1   \n",
      "4                                  Acco 3-Hole Punch  0.876         1   \n",
      "\n",
      "   Discount  Profit  \n",
      "0       0.8 -1.1100  \n",
      "1       0.8 -0.9452  \n",
      "2       0.8 -1.3376  \n",
      "3       0.7 -0.5964  \n",
      "4       0.8 -1.4016  \n",
      "\n",
      "[5 rows x 21 columns]\n"
     ]
    }
   ],
   "source": [
    "# Read an Excel file into a DataFrame\n",
    "df = pd.read_excel('output2.xlsx')\n",
    "# Display the first few rows of the DataFrame\n",
    "print(df.head())"
   ]
  },
  {
   "cell_type": "code",
   "execution_count": 53,
   "metadata": {},
   "outputs": [],
   "source": [
    "# Filter data where Column1 is greater than 2\n",
    "filtered_data = df[df['Sales'] > 200]\n",
    "# Display the filtered data\n",
    "# Write the DataFrame to an Excel file\n",
    "filtered_data.to_excel('output11.xlsx', index=False)"
   ]
  },
  {
   "cell_type": "code",
   "execution_count": 54,
   "metadata": {},
   "outputs": [],
   "source": [
    "# Sort the DataFrame by 'Column1' in ascending order\n",
    "sorted_data = df.sort_values(by='Sales')\n",
    "# Write the DataFrame to an Excel file\n",
    "sorted_data.to_excel('output22.xlsx', index=False)\n"
   ]
  },
  {
   "cell_type": "code",
   "execution_count": 56,
   "metadata": {},
   "outputs": [],
   "source": [
    "# Filter data where Column1 is greater than 2\n",
    "filtered_data = df[df['Sales'] == 0.99]\n",
    "# Display the filtered data\n",
    "# Write the DataFrame to an Excel file\n",
    "filtered_data.to_excel('output99.xlsx', index=False)"
   ]
  }
 ],
 "metadata": {
  "kernelspec": {
   "display_name": "Python 3",
   "language": "python",
   "name": "python3"
  },
  "language_info": {
   "codemirror_mode": {
    "name": "ipython",
    "version": 3
   },
   "file_extension": ".py",
   "mimetype": "text/x-python",
   "name": "python",
   "nbconvert_exporter": "python",
   "pygments_lexer": "ipython3",
   "version": "3.12.0"
  }
 },
 "nbformat": 4,
 "nbformat_minor": 2
}
