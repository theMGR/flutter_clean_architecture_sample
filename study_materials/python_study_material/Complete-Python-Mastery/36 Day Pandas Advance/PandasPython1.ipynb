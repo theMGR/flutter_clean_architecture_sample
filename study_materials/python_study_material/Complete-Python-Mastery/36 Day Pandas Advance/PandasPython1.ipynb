{
 "cells": [
  {
   "cell_type": "code",
   "execution_count": 1,
   "metadata": {},
   "outputs": [
    {
     "name": "stdout",
     "output_type": "stream",
     "text": [
      "2.1.1\n"
     ]
    }
   ],
   "source": [
    "# https://codeswithpankaj.medium.com/python-pandas-series-f2df7ddf4720\n",
    "import pandas as pd\n",
    "print(pd.__version__)"
   ]
  },
  {
   "cell_type": "code",
   "execution_count": 2,
   "metadata": {},
   "outputs": [
    {
     "name": "stdout",
     "output_type": "stream",
     "text": [
      "Series([], dtype: object)\n"
     ]
    }
   ],
   "source": [
    "s = pd.Series()\n",
    "print(s)"
   ]
  },
  {
   "cell_type": "code",
   "execution_count": 4,
   "metadata": {},
   "outputs": [
    {
     "name": "stdout",
     "output_type": "stream",
     "text": [
      "0    Mumbai\n",
      "1       Goa\n",
      "2      Pune\n",
      "3    Jaipur\n",
      "4     Surat\n",
      "5      Bhuj\n",
      "dtype: object\n"
     ]
    }
   ],
   "source": [
    "# List Data\n",
    "data = ['Mumbai','Goa','Pune','Jaipur','Surat','Bhuj']\n",
    "s = pd.Series(data)\n",
    "print(s)"
   ]
  },
  {
   "cell_type": "code",
   "execution_count": 5,
   "metadata": {},
   "outputs": [
    {
     "name": "stdout",
     "output_type": "stream",
     "text": [
      "Name      joy\n",
      "age        17\n",
      "height    3.4\n",
      "dtype: object\n"
     ]
    }
   ],
   "source": [
    "# Create a Series from dict\n",
    "data = {'Name':'joy','age':17,'height':3.4}\n",
    "s = pd.Series(data)\n",
    "print(s)"
   ]
  },
  {
   "cell_type": "code",
   "execution_count": 6,
   "metadata": {},
   "outputs": [
    {
     "name": "stdout",
     "output_type": "stream",
     "text": [
      "Name                    Bangur Nagar\n",
      "Description                     null\n",
      "BranchType           Sub Post Office\n",
      "DeliveryStatus          Non-Delivery\n",
      "Circle                   Maharashtra\n",
      "District                      Mumbai\n",
      "Division          Mumbai  North West\n",
      "Region                        Mumbai\n",
      "Block                  Goregaon West\n",
      "State                    Maharashtra\n",
      "Country                        India\n",
      "Pincode                       400104\n",
      "dtype: object\n"
     ]
    }
   ],
   "source": [
    "data = {\n",
    "        \"Name\": \"Bangur Nagar\",\n",
    "        \"Description\": \"null\",\n",
    "        \"BranchType\": \"Sub Post Office\",\n",
    "        \"DeliveryStatus\": \"Non-Delivery\",\n",
    "        \"Circle\": \"Maharashtra\",\n",
    "        \"District\": \"Mumbai\",\n",
    "        \"Division\": \"Mumbai  North West\",\n",
    "        \"Region\": \"Mumbai\",\n",
    "        \"Block\": \"Goregaon West\",\n",
    "        \"State\": \"Maharashtra\",\n",
    "        \"Country\": \"India\",\n",
    "        \"Pincode\": \"400104\"\n",
    "      }\n",
    "\n",
    "s = pd.Series(data)\n",
    "print(s)"
   ]
  },
  {
   "cell_type": "code",
   "execution_count": 16,
   "metadata": {},
   "outputs": [
    {
     "name": "stdout",
     "output_type": "stream",
     "text": [
      "a    Mumbai\n",
      "b       Goa\n",
      "c      Pune\n",
      "d    Jaipur\n",
      "e     Surat\n",
      "f      Bhuj\n",
      "dtype: object\n",
      "Mumbai\n",
      "Mumbai\n",
      "a    Mumbai\n",
      "b       Goa\n",
      "c      Pune\n",
      "dtype: object\n",
      "d    Jaipur\n",
      "e     Surat\n",
      "f      Bhuj\n",
      "dtype: object\n"
     ]
    },
    {
     "name": "stderr",
     "output_type": "stream",
     "text": [
      "C:\\Users\\comp\\AppData\\Local\\Temp\\ipykernel_8804\\735152008.py:7: FutureWarning: Series.__getitem__ treating keys as positions is deprecated. In a future version, integer keys will always be treated as labels (consistent with DataFrame behavior). To access a value by position, use `ser.iloc[pos]`\n",
      "  print(s[0])\n"
     ]
    }
   ],
   "source": [
    "# Accessing Data from Series with Position\n",
    "data = ['Mumbai','Goa','Pune','Jaipur','Surat','Bhuj']\n",
    "s = pd.Series(data,index = ['a','b','c','d','e','f'])\n",
    "print(s)\n",
    "#retrieve the first element\n",
    "print(s['a'])\n",
    "print(s[0])\n",
    "print(s[:3])\n",
    "print(s[3:])"
   ]
  },
  {
   "cell_type": "code",
   "execution_count": 28,
   "metadata": {},
   "outputs": [
    {
     "name": "stdout",
     "output_type": "stream",
     "text": [
      "a    Mumbai\n",
      "b       Goa\n",
      "e     Surat\n",
      "dtype: object\n"
     ]
    }
   ],
   "source": [
    "# multiple elements using a list of index label values\n",
    "print(s[['a','b','e']])"
   ]
  }
 ],
 "metadata": {
  "kernelspec": {
   "display_name": "venv",
   "language": "python",
   "name": "python3"
  },
  "language_info": {
   "codemirror_mode": {
    "name": "ipython",
    "version": 3
   },
   "file_extension": ".py",
   "mimetype": "text/x-python",
   "name": "python",
   "nbconvert_exporter": "python",
   "pygments_lexer": "ipython3",
   "version": "3.11.4"
  },
  "orig_nbformat": 4
 },
 "nbformat": 4,
 "nbformat_minor": 2
}
