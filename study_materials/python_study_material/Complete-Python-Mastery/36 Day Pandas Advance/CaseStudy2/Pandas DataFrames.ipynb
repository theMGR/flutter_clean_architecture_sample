{
 "cells": [
  {
   "cell_type": "code",
   "execution_count": 3,
   "metadata": {},
   "outputs": [
    {
     "name": "stdout",
     "output_type": "stream",
     "text": [
      "      Name  Age           City\n",
      "1    Alice   25       New York\n",
      "2      Bob   30  San Francisco\n",
      "3  Charlie   35    Los Angeles\n"
     ]
    }
   ],
   "source": [
    " # Creating a DataFrame from a Dictionary :\n",
    "import pandas as pd\n",
    "# Create a dictionary\n",
    "data = {\n",
    "    'Name': ['Alice', 'Bob', 'Charlie'],\n",
    "    'Age': [25, 30, 35],\n",
    "    'City': ['New York', 'San Francisco', 'Los Angeles']\n",
    "}\n",
    "indexdata = [1,2,3]\n",
    "df = pd.DataFrame(data , index=indexdata)\n",
    "print(df)"
   ]
  },
  {
   "cell_type": "code",
   "execution_count": 6,
   "metadata": {},
   "outputs": [
    {
     "name": "stdout",
     "output_type": "stream",
     "text": [
      "      Name  Age           City\n",
      "0    Alice   25       New York\n",
      "1      Bob   30  San Francisco\n",
      "2  Charlie   35    Los Angeles\n"
     ]
    }
   ],
   "source": [
    "# Creating a DataFrame from a List of Lists\n",
    "data = [\n",
    "    ['Alice', 25, 'New York'],\n",
    "    ['Bob', 30, 'San Francisco'],\n",
    "    ['Charlie', 35, 'Los Angeles']\n",
    "]\n",
    "column_data = ['Name','Age','City']\n",
    "df = pd.DataFrame(data , columns=column_data)\n",
    "print(df)"
   ]
  },
  {
   "cell_type": "code",
   "execution_count": 7,
   "metadata": {},
   "outputs": [
    {
     "name": "stdout",
     "output_type": "stream",
     "text": [
      "             id                                               name   host_id  \\\n",
      "0          2539                 Clean & quiet apt home by the park      2787   \n",
      "1          2595                              Skylit Midtown Castle      2845   \n",
      "2          3647                THE VILLAGE OF HARLEM....NEW YORK !      4632   \n",
      "3          3831                    Cozy Entire Floor of Brownstone      4869   \n",
      "4          5022   Entire Apt: Spacious Studio/Loft by central park      7192   \n",
      "...         ...                                                ...       ...   \n",
      "48890  36484665    Charming one bedroom - newly renovated rowhouse   8232441   \n",
      "48891  36485057      Affordable room in Bushwick/East Williamsburg   6570630   \n",
      "48892  36485431            Sunny Studio at Historical Neighborhood  23492952   \n",
      "48893  36485609               43rd St. Time Square-cozy single bed  30985759   \n",
      "48894  36487245  Trendy duplex in the very heart of Hell's Kitchen  68119814   \n",
      "\n",
      "           host_name neighbourhood_group       neighbourhood  latitude  \\\n",
      "0               John            Brooklyn          Kensington  40.64749   \n",
      "1           Jennifer           Manhattan             Midtown  40.75362   \n",
      "2          Elisabeth           Manhattan              Harlem  40.80902   \n",
      "3        LisaRoxanne            Brooklyn        Clinton Hill  40.68514   \n",
      "4              Laura           Manhattan         East Harlem  40.79851   \n",
      "...              ...                 ...                 ...       ...   \n",
      "48890        Sabrina            Brooklyn  Bedford-Stuyvesant  40.67853   \n",
      "48891        Marisol            Brooklyn            Bushwick  40.70184   \n",
      "48892  Ilgar & Aysel           Manhattan              Harlem  40.81475   \n",
      "48893            Taz           Manhattan      Hell's Kitchen  40.75751   \n",
      "48894     Christophe           Manhattan      Hell's Kitchen  40.76404   \n",
      "\n",
      "       longitude        room_type  price  minimum_nights  number_of_reviews  \\\n",
      "0      -73.97237     Private room    149               1                  9   \n",
      "1      -73.98377  Entire home/apt    225               1                 45   \n",
      "2      -73.94190     Private room    150               3                  0   \n",
      "3      -73.95976  Entire home/apt     89               1                270   \n",
      "4      -73.94399  Entire home/apt     80              10                  9   \n",
      "...          ...              ...    ...             ...                ...   \n",
      "48890  -73.94995     Private room     70               2                  0   \n",
      "48891  -73.93317     Private room     40               4                  0   \n",
      "48892  -73.94867  Entire home/apt    115              10                  0   \n",
      "48893  -73.99112      Shared room     55               1                  0   \n",
      "48894  -73.98933     Private room     90               7                  0   \n",
      "\n",
      "      last_review  reviews_per_month  calculated_host_listings_count  \\\n",
      "0      2018-10-19               0.21                               6   \n",
      "1      2019-05-21               0.38                               2   \n",
      "2             NaN                NaN                               1   \n",
      "3      2019-07-05               4.64                               1   \n",
      "4      2018-11-19               0.10                               1   \n",
      "...           ...                ...                             ...   \n",
      "48890         NaN                NaN                               2   \n",
      "48891         NaN                NaN                               2   \n",
      "48892         NaN                NaN                               1   \n",
      "48893         NaN                NaN                               6   \n",
      "48894         NaN                NaN                               1   \n",
      "\n",
      "       availability_365  \n",
      "0                   365  \n",
      "1                   355  \n",
      "2                   365  \n",
      "3                   194  \n",
      "4                     0  \n",
      "...                 ...  \n",
      "48890                 9  \n",
      "48891                36  \n",
      "48892                27  \n",
      "48893                 2  \n",
      "48894                23  \n",
      "\n",
      "[48895 rows x 16 columns]\n"
     ]
    }
   ],
   "source": [
    "#  Creating a DataFrame from External Data :\n",
    "# Read data from a CSV file\n",
    "df = pd.read_csv('data.csv')\n",
    "# Display the DataFrame\n",
    "print(df)"
   ]
  },
  {
   "cell_type": "code",
   "execution_count": 9,
   "metadata": {},
   "outputs": [
    {
     "name": "stdout",
     "output_type": "stream",
     "text": [
      "0                 John\n",
      "1             Jennifer\n",
      "2            Elisabeth\n",
      "3          LisaRoxanne\n",
      "4                Laura\n",
      "             ...      \n",
      "48890          Sabrina\n",
      "48891          Marisol\n",
      "48892    Ilgar & Aysel\n",
      "48893              Taz\n",
      "48894       Christophe\n",
      "Name: host_name, Length: 48895, dtype: object\n"
     ]
    }
   ],
   "source": [
    "name_column = df['host_name']\n",
    "print(name_column)"
   ]
  },
  {
   "cell_type": "code",
   "execution_count": 25,
   "metadata": {},
   "outputs": [],
   "source": [
    "# Select multiple columns using a list of column names\n",
    "selected_columns = df[['name', 'neighbourhood']]\n",
    "# name_column = df['host_name']\n",
    "df0 = pd.DataFrame(name_column)\n",
    "# print(selected_columns)\n",
    "selected_columns.to_csv('output1.csv', index=False)\n",
    "\n",
    "# writing to Excel\n",
    "# datatoexcel = pd.ExcelWriter('data1.xlsx')\n",
    " \n",
    "# write DataFrame to excel\n",
    "# selected_columns.to_excel(datatoexcel)\n",
    " \n",
    "# save the excel\n",
    "# datatoexcel.save()\n",
    "# print('DataFrame is written to Excel File successfully.')\n"
   ]
  },
  {
   "cell_type": "code",
   "execution_count": 26,
   "metadata": {},
   "outputs": [
    {
     "name": "stdout",
     "output_type": "stream",
     "text": [
      "id                                                              2539\n",
      "name                              Clean & quiet apt home by the park\n",
      "host_id                                                         2787\n",
      "host_name                                                       John\n",
      "neighbourhood_group                                         Brooklyn\n",
      "neighbourhood                                             Kensington\n",
      "latitude                                                    40.64749\n",
      "longitude                                                  -73.97237\n",
      "room_type                                               Private room\n",
      "price                                                            149\n",
      "minimum_nights                                                     1\n",
      "number_of_reviews                                                  9\n",
      "last_review                                               2018-10-19\n",
      "reviews_per_month                                               0.21\n",
      "calculated_host_listings_count                                     6\n",
      "availability_365                                                 365\n",
      "Name: 0, dtype: object\n"
     ]
    }
   ],
   "source": [
    "data1 = pd.read_csv('data.csv')\n",
    "# Select a single row by label\n",
    "alice_data = data1.loc[0]\n",
    "print(alice_data)"
   ]
  },
  {
   "cell_type": "code",
   "execution_count": 33,
   "metadata": {},
   "outputs": [
    {
     "name": "stdout",
     "output_type": "stream",
     "text": [
      "      id                                              name  host_id  \\\n",
      "4   5022  Entire Apt: Spacious Studio/Loft by central park     7192   \n",
      "5   5099         Large Cozy 1 BR Apartment In Midtown East     7322   \n",
      "6   5121                                   BlissArtsSpace!     7356   \n",
      "7   5178                  Large Furnished Room Near B'way      8967   \n",
      "8   5203                Cozy Clean Guest Room - Family Apt     7490   \n",
      "9   5238                Cute & Cozy Lower East Side 1 bdrm     7549   \n",
      "10  5295                  Beautiful 1br on Upper West Side     7702   \n",
      "\n",
      "    host_name neighbourhood_group       neighbourhood  latitude  longitude  \\\n",
      "4       Laura           Manhattan         East Harlem  40.79851  -73.94399   \n",
      "5       Chris           Manhattan         Murray Hill  40.74767  -73.97500   \n",
      "6       Garon            Brooklyn  Bedford-Stuyvesant  40.68688  -73.95596   \n",
      "7    Shunichi           Manhattan      Hell's Kitchen  40.76489  -73.98493   \n",
      "8   MaryEllen           Manhattan     Upper West Side  40.80178  -73.96723   \n",
      "9         Ben           Manhattan           Chinatown  40.71344  -73.99037   \n",
      "10       Lena           Manhattan     Upper West Side  40.80316  -73.96545   \n",
      "\n",
      "          room_type  price  minimum_nights  number_of_reviews last_review  \\\n",
      "4   Entire home/apt     80              10                  9  2018-11-19   \n",
      "5   Entire home/apt    200               3                 74  2019-06-22   \n",
      "6      Private room     60              45                 49  2017-10-05   \n",
      "7      Private room     79               2                430  2019-06-24   \n",
      "8      Private room     79               2                118  2017-07-21   \n",
      "9   Entire home/apt    150               1                160  2019-06-09   \n",
      "10  Entire home/apt    135               5                 53  2019-06-22   \n",
      "\n",
      "    reviews_per_month  calculated_host_listings_count  availability_365  \n",
      "4                0.10                               1                 0  \n",
      "5                0.59                               1               129  \n",
      "6                0.40                               1                 0  \n",
      "7                3.47                               1               220  \n",
      "8                0.99                               1                 0  \n",
      "9                1.33                               4               188  \n",
      "10               0.43                               1                 6  \n"
     ]
    }
   ],
   "source": [
    "# Select multiple rows by label\n",
    "selected_rows = data1.loc[4:10]\n",
    "print(selected_rows)\n",
    "selected_rows.to_csv('output1.csv', index=False)"
   ]
  },
  {
   "cell_type": "code",
   "execution_count": 34,
   "metadata": {},
   "outputs": [],
   "source": [
    "# Select specific rows and columns\n",
    "subset_data = df.loc[4:10, ['name', 'price','neighbourhood']]\n",
    "subset_data.to_csv('output2.csv')"
   ]
  }
 ],
 "metadata": {
  "kernelspec": {
   "display_name": "venv",
   "language": "python",
   "name": "python3"
  },
  "language_info": {
   "codemirror_mode": {
    "name": "ipython",
    "version": 3
   },
   "file_extension": ".py",
   "mimetype": "text/x-python",
   "name": "python",
   "nbconvert_exporter": "python",
   "pygments_lexer": "ipython3",
   "version": "3.11.4"
  }
 },
 "nbformat": 4,
 "nbformat_minor": 2
}
