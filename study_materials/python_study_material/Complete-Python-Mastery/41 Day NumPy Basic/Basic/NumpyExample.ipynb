{
 "cells": [
  {
   "cell_type": "code",
   "execution_count": 1,
   "metadata": {},
   "outputs": [
    {
     "name": "stdout",
     "output_type": "stream",
     "text": [
      "Collecting numpy\n",
      "  Downloading numpy-2.2.1-cp311-cp311-win_amd64.whl.metadata (60 kB)\n",
      "     ---------------------------------------- 0.0/60.8 kB ? eta -:--:--\n",
      "     ------ --------------------------------- 10.2/60.8 kB ? eta -:--:--\n",
      "     ------------------------- ------------ 41.0/60.8 kB 388.9 kB/s eta 0:00:01\n",
      "     -------------------------------------- 60.8/60.8 kB 538.3 kB/s eta 0:00:00\n",
      "Downloading numpy-2.2.1-cp311-cp311-win_amd64.whl (12.9 MB)\n",
      "   ---------------------------------------- 0.0/12.9 MB ? eta -:--:--\n",
      "    --------------------------------------- 0.3/12.9 MB 8.3 MB/s eta 0:00:02\n",
      "   -- ------------------------------------- 0.8/12.9 MB 10.0 MB/s eta 0:00:02\n",
      "   ---- ----------------------------------- 1.3/12.9 MB 10.6 MB/s eta 0:00:02\n",
      "   ----- ---------------------------------- 1.9/12.9 MB 10.9 MB/s eta 0:00:02\n",
      "   ------- -------------------------------- 2.4/12.9 MB 11.1 MB/s eta 0:00:01\n",
      "   --------- ------------------------------ 3.2/12.9 MB 11.3 MB/s eta 0:00:01\n",
      "   ----------- ---------------------------- 3.7/12.9 MB 11.3 MB/s eta 0:00:01\n",
      "   ------------- -------------------------- 4.3/12.9 MB 11.4 MB/s eta 0:00:01\n",
      "   --------------- ------------------------ 4.9/12.9 MB 11.5 MB/s eta 0:00:01\n",
      "   ---------------- ----------------------- 5.4/12.9 MB 11.5 MB/s eta 0:00:01\n",
      "   ----------------- ---------------------- 5.8/12.9 MB 11.5 MB/s eta 0:00:01\n",
      "   ------------------ --------------------- 6.0/12.9 MB 10.7 MB/s eta 0:00:01\n",
      "   -------------------- ------------------- 6.6/12.9 MB 10.8 MB/s eta 0:00:01\n",
      "   ---------------------- ----------------- 7.1/12.9 MB 10.8 MB/s eta 0:00:01\n",
      "   ----------------------- ---------------- 7.6/12.9 MB 10.9 MB/s eta 0:00:01\n",
      "   ------------------------- -------------- 8.2/12.9 MB 10.9 MB/s eta 0:00:01\n",
      "   -------------------------- ------------- 8.7/12.9 MB 10.9 MB/s eta 0:00:01\n",
      "   ---------------------------- ----------- 9.3/12.9 MB 11.0 MB/s eta 0:00:01\n",
      "   ------------------------------ --------- 9.8/12.9 MB 11.0 MB/s eta 0:00:01\n",
      "   -------------------------------- ------- 10.4/12.9 MB 11.1 MB/s eta 0:00:01\n",
      "   --------------------------------- ------ 10.9/12.9 MB 11.1 MB/s eta 0:00:01\n",
      "   ----------------------------------- ---- 11.5/12.9 MB 11.1 MB/s eta 0:00:01\n",
      "   ------------------------------------- -- 12.0/12.9 MB 11.1 MB/s eta 0:00:01\n",
      "   -------------------------------------- - 12.5/12.9 MB 11.3 MB/s eta 0:00:01\n",
      "   ---------------------------------------  12.9/12.9 MB 11.3 MB/s eta 0:00:01\n",
      "   ---------------------------------------  12.9/12.9 MB 11.3 MB/s eta 0:00:01\n",
      "   ---------------------------------------- 12.9/12.9 MB 10.2 MB/s eta 0:00:00\n",
      "Installing collected packages: numpy\n",
      "Successfully installed numpy-2.2.1\n",
      "Note: you may need to restart the kernel to use updated packages.\n"
     ]
    },
    {
     "name": "stderr",
     "output_type": "stream",
     "text": [
      "\n",
      "[notice] A new release of pip is available: 24.0 -> 24.3.1\n",
      "[notice] To update, run: C:\\Users\\admin\\AppData\\Local\\Microsoft\\WindowsApps\\PythonSoftwareFoundation.Python.3.11_qbz5n2kfra8p0\\python.exe -m pip install --upgrade pip\n"
     ]
    }
   ],
   "source": [
    "%pip install numpy"
   ]
  },
  {
   "cell_type": "code",
   "execution_count": 3,
   "metadata": {},
   "outputs": [
    {
     "name": "stdout",
     "output_type": "stream",
     "text": [
      "2.2.1\n"
     ]
    }
   ],
   "source": [
    "import numpy as np\n",
    "print(np.__version__)"
   ]
  },
  {
   "cell_type": "code",
   "execution_count": 5,
   "metadata": {},
   "outputs": [
    {
     "name": "stdout",
     "output_type": "stream",
     "text": [
      "23\n",
      "<class 'numpy.ndarray'>\n"
     ]
    }
   ],
   "source": [
    "# create a array \n",
    "\n",
    "data = np.array(23)\n",
    "print(data)\n",
    "\n",
    "# check type of array \n",
    "\n",
    "# type()\n",
    "print(type(data))\n"
   ]
  },
  {
   "cell_type": "code",
   "execution_count": 11,
   "metadata": {},
   "outputs": [
    {
     "name": "stdout",
     "output_type": "stream",
     "text": [
      "[21 22 23 24]\n",
      "1\n"
     ]
    }
   ],
   "source": [
    "# 1 D array\n",
    "data = np.array([21,22,23,24])\n",
    "print(data)\n",
    "print(data.ndim)"
   ]
  },
  {
   "cell_type": "code",
   "execution_count": 20,
   "metadata": {},
   "outputs": [
    {
     "name": "stdout",
     "output_type": "stream",
     "text": [
      "[[11 22 33 44]\n",
      " [55 66 77 88]\n",
      " [99 32 34 35]]\n",
      "2\n",
      "77\n"
     ]
    }
   ],
   "source": [
    "# 2d array\n",
    "data = np.array([[11,22,33,44],[55,66,77,88],[99,32,34,35]])\n",
    "print(data)\n",
    "print(data.ndim)\n",
    "print(data[1,2])"
   ]
  },
  {
   "cell_type": "code",
   "execution_count": 13,
   "metadata": {},
   "outputs": [
    {
     "name": "stdout",
     "output_type": "stream",
     "text": [
      "[[[ 1  2  3]\n",
      "  [ 4  5  6]\n",
      "  [ 7  8 10]]\n",
      "\n",
      " [[ 1  2  3]\n",
      "  [ 4  5  6]\n",
      "  [ 7  8 10]]]\n",
      "3\n"
     ]
    }
   ],
   "source": [
    "# 3d array \n",
    "data = np.array([[[1,2,3],[4,5,6],[7,8,10]],[[1,2,3],[4,5,6],[7,8,10]]])\n",
    "print(data)\n",
    "print(data.ndim)"
   ]
  },
  {
   "cell_type": "code",
   "execution_count": 16,
   "metadata": {},
   "outputs": [
    {
     "name": "stdout",
     "output_type": "stream",
     "text": [
      "[[[[ 1  2]\n",
      "   [ 3  4]]\n",
      "\n",
      "  [[ 5  6]\n",
      "   [ 7  8]]]\n",
      "\n",
      "\n",
      " [[[ 9 10]\n",
      "   [11 12]]\n",
      "\n",
      "  [[13 14]\n",
      "   [15 16]]]]\n",
      "4\n"
     ]
    }
   ],
   "source": [
    "arr_nd = np.array([[[[1, 2], [3, 4]], [[5, 6], [7, 8]]], [[[9, 10], [11, 12]], [[13, 14], [15, 16]]]])\n",
    "print(arr_nd)\n",
    "\n",
    "print(arr_nd.ndim)"
   ]
  },
  {
   "cell_type": "code",
   "execution_count": 18,
   "metadata": {},
   "outputs": [
    {
     "name": "stdout",
     "output_type": "stream",
     "text": [
      "1\n",
      "3\n"
     ]
    }
   ],
   "source": [
    "arr = np.array([1, 2, 3, 4, 5])\n",
    "print(arr[0])  # Access the first element (1)\n",
    "print(arr[2])  # Access the third element (3)"
   ]
  }
 ],
 "metadata": {
  "kernelspec": {
   "display_name": "Python 3",
   "language": "python",
   "name": "python3"
  },
  "language_info": {
   "codemirror_mode": {
    "name": "ipython",
    "version": 3
   },
   "file_extension": ".py",
   "mimetype": "text/x-python",
   "name": "python",
   "nbconvert_exporter": "python",
   "pygments_lexer": "ipython3",
   "version": "3.11.9"
  }
 },
 "nbformat": 4,
 "nbformat_minor": 2
}
