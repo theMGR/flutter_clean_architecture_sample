{
 "cells": [
  {
   "cell_type": "code",
   "execution_count": 16,
   "metadata": {},
   "outputs": [
    {
     "name": "stdout",
     "output_type": "stream",
     "text": [
      "Task 1 - Iteration 0\n",
      "Task 2 - Iteration 0\n",
      "Task 1 - Iteration 1\n",
      "Task 2 - Iteration 1\n",
      "Task 1 - Iteration 2\n",
      "Task 2 - Iteration 2\n",
      "Task 1 - IterationTask 2 - Iteration 3\n",
      " 3\n",
      "Task 2 - IterationTask 1 - Iteration 4\n",
      " 4\n",
      "All done!\n"
     ]
    }
   ],
   "source": [
    "import threading\n",
    "import time\n",
    "# Define two functions to be run in separate threads\n",
    "def task1():\n",
    "    for i in range(5):\n",
    "        print(\"Task 1 - Iteration\", i)\n",
    "        time.sleep(1)\n",
    "\n",
    "def task2():\n",
    "    for i in range(5):\n",
    "        print(\"Task 2 - Iteration\", i)\n",
    "        time.sleep(1)\n",
    "\n",
    "# create threads objects\n",
    "t1 = threading.Thread(target=task1)\n",
    "t2 = threading.Thread(target=task2)\n",
    "\n",
    "# start the threads\n",
    "t1.start()\n",
    "t2.start()\n",
    "\n",
    "# wait for the threads to finish\n",
    "t1.join()\n",
    "t2.join()\n",
    "\n",
    "print(\"All done!\")\n"
   ]
  }
 ],
 "metadata": {
  "kernelspec": {
   "display_name": "Python 3",
   "language": "python",
   "name": "python3"
  },
  "language_info": {
   "codemirror_mode": {
    "name": "ipython",
    "version": 3
   },
   "file_extension": ".py",
   "mimetype": "text/x-python",
   "name": "python",
   "nbconvert_exporter": "python",
   "pygments_lexer": "ipython3",
   "version": "3.10.7"
  }
 },
 "nbformat": 4,
 "nbformat_minor": 2
}
