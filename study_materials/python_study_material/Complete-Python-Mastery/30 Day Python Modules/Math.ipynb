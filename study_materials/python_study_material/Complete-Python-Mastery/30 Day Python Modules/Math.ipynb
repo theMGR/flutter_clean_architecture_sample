{
 "cells": [
  {
   "cell_type": "code",
   "execution_count": 11,
   "metadata": {},
   "outputs": [
    {
     "name": "stdout",
     "output_type": "stream",
     "text": [
      "5.0\n",
      "2985984.0\n",
      "961965785544776.4\n",
      "3.5263605246161616\n",
      "1.5314789170422551\n",
      "-0.3048106211022167\n",
      "-0.9524129804151563\n",
      "0.320040389379563\n",
      "10313.240312354817\n",
      "3.141592653589793\n",
      "180\n",
      "18\n",
      "180.0\n",
      "720\n"
     ]
    }
   ],
   "source": [
    "import math\n",
    "# Common Mathematical Functions:\n",
    "\n",
    "# math.sqrt(x): Returns the square root of x.\n",
    "print(math.sqrt(25))\n",
    "# math.pow(x, y): Returns x raised to the power of y.\n",
    "print(math.pow(12,6))\n",
    "# math.exp(x): Returns e raised to the power of x, where e is the base of the natural logarithm (approximately 2.71828).\n",
    "print(math.exp(34.5))\n",
    "# math.log(x): Returns the natural logarithm (base e) of x.\n",
    "print(math.log(34))\n",
    "# math.log10(x): Returns the base-10 logarithm of x.\n",
    "print(math.log10(34))\n",
    "# math.sin(x), math.cos(x), math.tan(x): Trigonometric functions to calculate sine, cosine, and tangent, respectively.\n",
    "print(math.sin(60))\n",
    "print(math.cos(60))\n",
    "print(math.tan(60))\n",
    "# math.degrees(x): Converts radians to degrees.\n",
    "print(math.degrees(180))\n",
    "# math.radians(x): Converts degrees to radians.\n",
    "print(math.radians(180))\n",
    "# math.ceil(x): Returns the smallest integer greater than or equal to x.\n",
    "print(math.ceil(180))\n",
    "# math.floor(x): Returns the largest integer less than or equal to x.\n",
    "print(math.floor(18.0))\n",
    "# math.fabs(x): Returns the absolute value of x.\n",
    "print(math.fabs(180))\n",
    "# math.factorial(x): Returns the factorial of x.\n",
    "print(math.factorial(6))"
   ]
  }
 ],
 "metadata": {
  "kernelspec": {
   "display_name": "Python 3",
   "language": "python",
   "name": "python3"
  },
  "language_info": {
   "codemirror_mode": {
    "name": "ipython",
    "version": 3
   },
   "file_extension": ".py",
   "mimetype": "text/x-python",
   "name": "python",
   "nbconvert_exporter": "python",
   "pygments_lexer": "ipython3",
   "version": "3.10.8"
  },
  "orig_nbformat": 4
 },
 "nbformat": 4,
 "nbformat_minor": 2
}
