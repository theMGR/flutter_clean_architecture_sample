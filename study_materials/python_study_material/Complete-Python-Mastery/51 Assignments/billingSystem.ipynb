{
 "cells": [
  {
   "cell_type": "code",
   "execution_count": 11,
   "metadata": {},
   "outputs": [],
   "source": [
    "class billing:\n",
    "    def getsize():\n",
    "        size = int(input('Enter product size...'))\n",
    "        product = []\n",
    "        price = []\n",
    "        for i in range(size):\n",
    "            i = input(\"enter product name\")\n",
    "            product.append(i)\n",
    "        for i in range(size):\n",
    "            i = int(input(\"enter product price\"))\n",
    "            price.append(i)\n",
    "        \n",
    "        answer =  input('Enter Gst [y/n]')\n",
    "        answer = answer.lower()\n",
    "        if(answer == 'y'):\n",
    "            gst = int(input('enter gst'))\n",
    "            total = 0\n",
    "            for i in range(size):\n",
    "              print(product[i],\" = \",price[i])\n",
    "              total = total + price[i]\n",
    "            print(\"Total : \",total)\n",
    "            gst = (gst*total)/100\n",
    "            print(\"MRP : \",total+gst)\n",
    "        else:\n",
    "            total = 0\n",
    "            for i in range(size):\n",
    "              print(product[i],\" = \",price[i])\n",
    "              total = total + price[i]\n",
    "            print(\"Total : \",total)                                 \n",
    "            "
   ]
  },
  {
   "cell_type": "code",
   "execution_count": 10,
   "metadata": {},
   "outputs": [
    {
     "name": "stdout",
     "output_type": "stream",
     "text": [
      "samosa  =  56\n",
      "kachoiri  =  45\n",
      "Total :  101\n",
      "MRP :  113.12\n"
     ]
    }
   ],
   "source": [
    "obj = billing\n",
    "obj.getsize()"
   ]
  },
  {
   "cell_type": "code",
   "execution_count": 5,
   "metadata": {},
   "outputs": [
    {
     "name": "stdout",
     "output_type": "stream",
     "text": [
      "{'rr': '12', 'tt': '44', 'yy': '67'}\n",
      "-----stock-------\n",
      "--prodcut---price\n",
      "rr  =  12\n",
      "tt  =  44\n",
      "yy  =  67\n",
      "-----bill-------\n",
      "{'tt': '4', 'rr': '5'}\n"
     ]
    },
    {
     "ename": "AttributeError",
     "evalue": "'dict' object has no attribute 'key'",
     "output_type": "error",
     "traceback": [
      "\u001b[0;31m---------------------------------------------------------------------------\u001b[0m",
      "\u001b[0;31mAttributeError\u001b[0m                            Traceback (most recent call last)",
      "Cell \u001b[0;32mIn[5], line 31\u001b[0m\n\u001b[1;32m     29\u001b[0m mrp \u001b[39m=\u001b[39m []\n\u001b[1;32m     30\u001b[0m \u001b[39mfor\u001b[39;00m i \u001b[39min\u001b[39;00m \u001b[39mrange\u001b[39m(\u001b[39m2\u001b[39m):\n\u001b[0;32m---> 31\u001b[0m     \u001b[39mif\u001b[39;00m bill\u001b[39m.\u001b[39;49mkey() \u001b[39m==\u001b[39m food\u001b[39m.\u001b[39mkeys():\n\u001b[1;32m     32\u001b[0m        \u001b[39mprint\u001b[39m(bill[bill\u001b[39m.\u001b[39mkey()] \u001b[39m*\u001b[39m food[bill\u001b[39m.\u001b[39mkeys()])\n",
      "\u001b[0;31mAttributeError\u001b[0m: 'dict' object has no attribute 'key'"
     ]
    }
   ],
   "source": [
    "food = {}\n",
    "\n",
    "for i in range(3):\n",
    "    i = input('enter prodcut name ...')\n",
    "    k = input('enter prodcut price ...')\n",
    "    food[i] = k\n",
    "\n",
    "print(food)    \n",
    "\n",
    "bill = {}\n",
    "product = []\n",
    "qt = []\n",
    "\n",
    "for i in range(2):\n",
    "    i = input(\"enter product to bill...\") \n",
    "    product.append(i)\n",
    "\n",
    "for i in range(2):\n",
    "    i = input(\"enter product to {0}...price \".format(product[i])) \n",
    "    qt.append(i)\n",
    "print('-----stock-------')\n",
    "print('--prodcut---price')\n",
    "for i in food:\n",
    "    print(i,\" = \",food[i])   \n",
    "print('-----bill-------')\n",
    "for i in range(2):\n",
    "    bill[product[i]] = qt[i]\n",
    "print(bill)\n",
    "mrp = []\n",
    "for i in range(i):\n",
    "\n",
    "    \n",
    "\n",
    "    "
   ]
  }
 ],
 "metadata": {
  "kernelspec": {
   "display_name": "Python 3",
   "language": "python",
   "name": "python3"
  },
  "language_info": {
   "codemirror_mode": {
    "name": "ipython",
    "version": 3
   },
   "file_extension": ".py",
   "mimetype": "text/x-python",
   "name": "python",
   "nbconvert_exporter": "python",
   "pygments_lexer": "ipython3",
   "version": "3.10.8"
  },
  "orig_nbformat": 4
 },
 "nbformat": 4,
 "nbformat_minor": 2
}
