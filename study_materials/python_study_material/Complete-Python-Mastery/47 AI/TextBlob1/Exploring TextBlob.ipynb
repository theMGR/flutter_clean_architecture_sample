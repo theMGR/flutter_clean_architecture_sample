{
 "cells": [
  {
   "cell_type": "code",
   "execution_count": 6,
   "metadata": {},
   "outputs": [
    {
     "name": "stdout",
     "output_type": "stream",
     "text": [
      "Requirement already satisfied: textblob in /usr/local/python/3.10.13/lib/python3.10/site-packages (0.18.0.post0)\n",
      "Requirement already satisfied: nltk>=3.8 in /usr/local/python/3.10.13/lib/python3.10/site-packages (from textblob) (3.8.1)\n",
      "Requirement already satisfied: click in /usr/local/python/3.10.13/lib/python3.10/site-packages (from nltk>=3.8->textblob) (8.1.7)\n",
      "Requirement already satisfied: joblib in /home/codespace/.local/lib/python3.10/site-packages (from nltk>=3.8->textblob) (1.4.2)\n",
      "Requirement already satisfied: regex>=2021.8.3 in /usr/local/python/3.10.13/lib/python3.10/site-packages (from nltk>=3.8->textblob) (2024.5.15)\n",
      "Requirement already satisfied: tqdm in /usr/local/python/3.10.13/lib/python3.10/site-packages (from nltk>=3.8->textblob) (4.66.4)\n",
      "Note: you may need to restart the kernel to use updated packages.\n"
     ]
    }
   ],
   "source": [
    "# pip install textblob\n",
    "# python -m textblob.download_corpora\n"
   ]
  },
  {
   "cell_type": "code",
   "execution_count": 8,
   "metadata": {},
   "outputs": [
    {
     "name": "stdout",
     "output_type": "stream",
     "text": [
      "Sentiment(polarity=0.484375, subjectivity=0.55)\n"
     ]
    }
   ],
   "source": [
    "from textblob import TextBlob\n",
    "\n",
    "review = \"I love codeswithpankaj, the tutorial are so friendly!\"\n",
    "blob = TextBlob(review)\n",
    "print(blob.sentiment)\n"
   ]
  },
  {
   "cell_type": "code",
   "execution_count": 9,
   "metadata": {},
   "outputs": [
    {
     "name": "stdout",
     "output_type": "stream",
     "text": [
      "['Hello', 'welcome', 'to', 'codeswithpankaj.com', 'Let', \"'s\", 'explore', 'TextBlob', 'together']\n",
      "[Sentence(\"Hello, welcome to codeswithpankaj.com!\"), Sentence(\"Let's explore TextBlob together.\")]\n"
     ]
    }
   ],
   "source": [
    "from textblob import TextBlob\n",
    "\n",
    "text = \"Hello, welcome to codeswithpankaj.com! Let's explore TextBlob together.\"\n",
    "blob = TextBlob(text)\n",
    "\n",
    "print(blob.words)  # Outputs: ['Hello', 'welcome', 'to', 'codeswithpankaj.com', 'Let', 's', 'explore', 'TextBlob', 'together']\n",
    "print(blob.sentences)  # Outputs the sentences in the blob\n"
   ]
  },
  {
   "cell_type": "code",
   "execution_count": 10,
   "metadata": {},
   "outputs": [
    {
     "name": "stdout",
     "output_type": "stream",
     "text": [
      "['hello', \"'s explore\", 'textblob']\n"
     ]
    }
   ],
   "source": [
    "print(blob.noun_phrases)  # Outputs noun phrases in the text"
   ]
  },
  {
   "cell_type": "code",
   "execution_count": 11,
   "metadata": {},
   "outputs": [
    {
     "name": "stdout",
     "output_type": "stream",
     "text": [
      "Hello: NNP\n",
      "welcome: NN\n",
      "to: TO\n",
      "codeswithpankaj.com: VB\n",
      "Let: VB\n",
      "'s: POS\n",
      "explore: VB\n",
      "TextBlob: NNP\n",
      "together: RB\n"
     ]
    }
   ],
   "source": [
    "for word, pos in blob.tags:\n",
    "    print(f\"{word}: {pos}\")"
   ]
  },
  {
   "cell_type": "code",
   "execution_count": 12,
   "metadata": {},
   "outputs": [
    {
     "name": "stdout",
     "output_type": "stream",
     "text": [
      "Sentence: Hello, welcome to codeswithpankaj.com!\n",
      "Sentiment: Sentiment(polarity=1.0, subjectivity=0.9)\n",
      "Sentence: Let's explore TextBlob together.\n",
      "Sentiment: Sentiment(polarity=0.0, subjectivity=0.0)\n"
     ]
    }
   ],
   "source": [
    "for sentence in blob.sentences:\n",
    "    print(f\"Sentence: {sentence}\")\n",
    "    print(f\"Sentiment: {sentence.sentiment}\")\n"
   ]
  },
  {
   "cell_type": "code",
   "execution_count": 15,
   "metadata": {},
   "outputs": [
    {
     "name": "stdout",
     "output_type": "stream",
     "text": [
      "[Sentence(\"Hello there!\"), Sentence(\"Welcome to codeswithpankaj.com.\"), Sentence(\"We love teaching programming.\")]\n",
      "['Hello', 'there', 'Welcome', 'to', 'codeswithpankaj.com', 'We', 'love', 'teaching', 'programming']\n"
     ]
    }
   ],
   "source": [
    "from textblob import TextBlob\n",
    "\n",
    "text = \"Hello there! Welcome to codeswithpankaj.com. We love teaching programming.\"\n",
    "blob = TextBlob(text)\n",
    "\n",
    "# Get sentences\n",
    "print(blob.sentences)\n",
    "\n",
    "# Get words\n",
    "print(blob.words)"
   ]
  },
  {
   "cell_type": "code",
   "execution_count": 16,
   "metadata": {},
   "outputs": [
    {
     "name": "stdout",
     "output_type": "stream",
     "text": [
      "['hello', 'welcome']\n"
     ]
    }
   ],
   "source": [
    "print(blob.noun_phrases)"
   ]
  },
  {
   "cell_type": "code",
   "execution_count": 17,
   "metadata": {},
   "outputs": [
    {
     "name": "stdout",
     "output_type": "stream",
     "text": [
      "Sentiment(polarity=0.45, subjectivity=0.6285714285714286)\n"
     ]
    }
   ],
   "source": [
    "opinion = TextBlob(\"TextBlob is incredibly helpful for simple NLP tasks.\")\n",
    "print(opinion.sentiment)"
   ]
  },
  {
   "cell_type": "code",
   "execution_count": 18,
   "metadata": {},
   "outputs": [
    {
     "ename": "ModuleNotFoundError",
     "evalue": "No module named 'google'",
     "output_type": "error",
     "traceback": [
      "\u001b[0;31m---------------------------------------------------------------------------\u001b[0m",
      "\u001b[0;31mModuleNotFoundError\u001b[0m                       Traceback (most recent call last)",
      "\u001b[1;32m/workspaces/Complete-Python-Mastery/46 AI/TextBlob1/Exploring TextBlob.ipynb Cell 10\u001b[0m line \u001b[0;36m1\n\u001b[0;32m----> <a href='vscode-notebook-cell://codespaces%2Brefactored-space-palm-tree-j4944w46w6q3pqpx/workspaces/Complete-Python-Mastery/46%20AI/TextBlob1/Exploring%20TextBlob.ipynb#X13sdnNjb2RlLXJlbW90ZQ%3D%3D?line=0'>1</a>\u001b[0m \u001b[39mfrom\u001b[39;00m \u001b[39mgoogle\u001b[39;00m\u001b[39m.\u001b[39;00m\u001b[39mcloud\u001b[39;00m \u001b[39mimport\u001b[39;00m translate_v2 \u001b[39mas\u001b[39;00m translate\n\u001b[1;32m      <a href='vscode-notebook-cell://codespaces%2Brefactored-space-palm-tree-j4944w46w6q3pqpx/workspaces/Complete-Python-Mastery/46%20AI/TextBlob1/Exploring%20TextBlob.ipynb#X13sdnNjb2RlLXJlbW90ZQ%3D%3D?line=2'>3</a>\u001b[0m translate_client \u001b[39m=\u001b[39m translate\u001b[39m.\u001b[39mClient()\n\u001b[1;32m      <a href='vscode-notebook-cell://codespaces%2Brefactored-space-palm-tree-j4944w46w6q3pqpx/workspaces/Complete-Python-Mastery/46%20AI/TextBlob1/Exploring%20TextBlob.ipynb#X13sdnNjb2RlLXJlbW90ZQ%3D%3D?line=4'>5</a>\u001b[0m \u001b[39mdef\u001b[39;00m \u001b[39mtranslate_text\u001b[39m(text, target_language\u001b[39m=\u001b[39m\u001b[39m\"\u001b[39m\u001b[39men\u001b[39m\u001b[39m\"\u001b[39m):\n",
      "\u001b[0;31mModuleNotFoundError\u001b[0m: No module named 'google'"
     ]
    }
   ],
   "source": [
    "from google.cloud import translate_v2 as translate\n",
    "\n",
    "translate_client = translate.Client()\n",
    "\n",
    "def translate_text(text, target_language=\"en\"):\n",
    "    result = translate_client.translate(text, target_language=target_language)\n",
    "    return result['translatedText']\n",
    "\n",
    "# Example: translating from English to Spanish\n",
    "print(translate_text(\"See you later!\", \"es\"))"
   ]
  },
  {
   "cell_type": "code",
   "execution_count": 19,
   "metadata": {},
   "outputs": [
    {
     "name": "stdout",
     "output_type": "stream",
     "text": [
      "positive\n"
     ]
    }
   ],
   "source": [
    "from textblob.classifiers import NaiveBayesClassifier\n",
    "\n",
    "training_data = [\n",
    "    (\"TextBlob is easy to use.\", \"positive\"),\n",
    "    (\"I don't like the cold weather.\", \"negative\"),\n",
    "]\n",
    "\n",
    "classifier = NaiveBayesClassifier(training_data)\n",
    "\n",
    "# Classifying new text\n",
    "print(classifier.classify(\"I love TextBlob!\"))"
   ]
  }
 ],
 "metadata": {
  "language_info": {
   "name": "python"
  }
 },
 "nbformat": 4,
 "nbformat_minor": 2
}
