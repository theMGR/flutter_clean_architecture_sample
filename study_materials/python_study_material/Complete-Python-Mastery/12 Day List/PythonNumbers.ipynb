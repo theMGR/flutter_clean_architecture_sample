{
 "cells": [
  {
   "cell_type": "code",
   "execution_count": 1,
   "metadata": {},
   "outputs": [
    {
     "name": "stdout",
     "output_type": "stream",
     "text": [
      "Addition: 13.5\n",
      "Subtraction: 6.5\n",
      "Multiplication: 35.0\n",
      "Division: 2.857142857142857\n",
      "Exponentiation: 100\n"
     ]
    }
   ],
   "source": [
    "# Integer and Floating-Point Numbers\n",
    "x = 10\n",
    "y = 3.5\n",
    "\n",
    "# Basic Arithmetic Operations\n",
    "addition_result = x + y\n",
    "subtraction_result = x - y\n",
    "multiplication_result = x * y\n",
    "division_result = x / y\n",
    "exponentiation_result = x ** 2\n",
    "\n",
    "# Output the Results\n",
    "print(\"Addition:\", addition_result)\n",
    "print(\"Subtraction:\", subtraction_result)\n",
    "print(\"Multiplication:\", multiplication_result)\n",
    "print(\"Division:\", division_result)\n",
    "print(\"Exponentiation:\", exponentiation_result)\n"
   ]
  },
  {
   "cell_type": "code",
   "execution_count": 2,
   "metadata": {},
   "outputs": [
    {
     "name": "stdout",
     "output_type": "stream",
     "text": [
      "Addition: 13.5\n",
      "Subtraction: 6.5\n",
      "Multiplication: 35.0\n",
      "Division: 2.857142857142857\n",
      "Exponentiation: 100\n",
      "Modulus: 1\n",
      "Floor Division: 3\n",
      "Complex Addition: (3+1j)\n",
      "Complex Subtraction: (1+5j)\n",
      "Complex Multiplication: (8-1j)\n",
      "Complex Conjugate: (2-3j)\n"
     ]
    }
   ],
   "source": [
    "# Integer and Floating-Point Numbers\n",
    "x = 10\n",
    "y = 3.5\n",
    "\n",
    "# Complex Numbers\n",
    "z = 2 + 3j\n",
    "w = 1 - 2j\n",
    "\n",
    "# Basic Arithmetic Operations\n",
    "addition_result = x + y\n",
    "subtraction_result = x - y\n",
    "multiplication_result = x * y\n",
    "division_result = x / y\n",
    "exponentiation_result = x ** 2\n",
    "\n",
    "# Modulus and Floor Division\n",
    "modulus_result = x % 3\n",
    "floor_division_result = x // 3\n",
    "\n",
    "# Complex Number Operations\n",
    "complex_addition_result = z + w\n",
    "complex_subtraction_result = z - w\n",
    "complex_multiplication_result = z * w\n",
    "complex_conjugate = z.conjugate()\n",
    "\n",
    "# Output the Results\n",
    "print(\"Addition:\", addition_result)\n",
    "print(\"Subtraction:\", subtraction_result)\n",
    "print(\"Multiplication:\", multiplication_result)\n",
    "print(\"Division:\", division_result)\n",
    "print(\"Exponentiation:\", exponentiation_result)\n",
    "print(\"Modulus:\", modulus_result)\n",
    "print(\"Floor Division:\", floor_division_result)\n",
    "print(\"Complex Addition:\", complex_addition_result)\n",
    "print(\"Complex Subtraction:\", complex_subtraction_result)\n",
    "print(\"Complex Multiplication:\", complex_multiplication_result)\n",
    "print(\"Complex Conjugate:\", complex_conjugate)\n"
   ]
  }
 ],
 "metadata": {
  "kernelspec": {
   "display_name": "Python 3",
   "language": "python",
   "name": "python3"
  },
  "language_info": {
   "codemirror_mode": {
    "name": "ipython",
    "version": 3
   },
   "file_extension": ".py",
   "mimetype": "text/x-python",
   "name": "python",
   "nbconvert_exporter": "python",
   "pygments_lexer": "ipython3",
   "version": "3.10.8"
  },
  "orig_nbformat": 4
 },
 "nbformat": 4,
 "nbformat_minor": 2
}
