{
 "cells": [
  {
   "cell_type": "code",
   "execution_count": 1,
   "metadata": {},
   "outputs": [
    {
     "name": "stdout",
     "output_type": "stream",
     "text": [
      "[]\n",
      "<class 'list'>\n"
     ]
    }
   ],
   "source": [
    "# List in python \n",
    "# List is a collection which is ordered and changeable. Allows duplicate members.\n",
    "# List is one of 4 built-in data types in Python called sequences\n",
    "\n",
    "# create a empty \n",
    "\n",
    "data = []\n",
    "print(data)\n",
    "\n",
    "# check the type of list \n",
    "print(type(data))\n"
   ]
  },
  {
   "cell_type": "code",
   "execution_count": 2,
   "metadata": {},
   "outputs": [
    {
     "name": "stdout",
     "output_type": "stream",
     "text": [
      "['apple', 'banana', 'cherry', 'date', 'elderberry']\n",
      "[111, 222, 333, 444, 555, 666]\n",
      "[[1, 2, 3], [4, 5, 6], [7, 8, 9]]\n"
     ]
    }
   ],
   "source": [
    "# create a list fruits\n",
    "fruits = ['apple', 'banana', 'cherry', 'date', 'elderberry']\n",
    "\n",
    "# create int list\n",
    "numbers = [111,222,333,444,555,666]\n",
    "\n",
    "# create a list of lists(nested list)\n",
    "list_of_lists = [[1,2,3],[4,5,6],[7,8,9]]\n",
    "\n",
    "# print the list\n",
    "print(fruits)\n",
    "print(numbers)\n",
    "print(list_of_lists)\n",
    "\n"
   ]
  },
  {
   "cell_type": "code",
   "execution_count": 3,
   "metadata": {},
   "outputs": [
    {
     "name": "stdout",
     "output_type": "stream",
     "text": [
      "['apple', 'banana', 'cherry', 'date', 'elderberry']\n",
      "apple\n",
      "date\n",
      "elderberry\n"
     ]
    }
   ],
   "source": [
    "# fruits list\n",
    "fruits = ['apple', 'banana', 'cherry', 'date', 'elderberry']\n",
    "\n",
    "# print the fruits list\n",
    "print(fruits)\n",
    "\n",
    "# access item from the list \n",
    "# index start from 0 zero\n",
    "print(fruits[0]) # prints: apple\n",
    "print(fruits[3]) # prints: banana\n",
    "\n",
    "\n",
    "# -ve index\n",
    "# -1 is the last item\n",
    "print(fruits[-1]) # prints: elderberry\n"
   ]
  },
  {
   "cell_type": "code",
   "execution_count": 4,
   "metadata": {},
   "outputs": [
    {
     "name": "stdout",
     "output_type": "stream",
     "text": [
      "['cherry', 'date', 'elderberry']\n",
      "['cherry', 'date', 'elderberry']\n",
      "['apple', 'banana', 'cherry']\n",
      "['apple', 'banana', 'cherry', 'date', 'elderberry']\n",
      "['banana', 'date']\n"
     ]
    }
   ],
   "source": [
    "# list slicing\n",
    "# start index : end index : step\n",
    "# start index is inclusive\n",
    "# end index is exclusive\n",
    "\n",
    "print(fruits[2:5])\n",
    "print(fruits[2:])\n",
    "print(fruits[:3])\n",
    "print(fruits[:])\n",
    "print(fruits[1:5:2]) # list[start:end:steps]"
   ]
  },
  {
   "cell_type": "code",
   "execution_count": 5,
   "metadata": {},
   "outputs": [],
   "source": [
    "# add item into list \n",
    "programming = [\"Python\", \"Java\", \"C++\"]\n",
    "# append()\n",
    "programming.append(\"JavaScript\")"
   ]
  },
  {
   "cell_type": "code",
   "execution_count": 8,
   "metadata": {},
   "outputs": [
    {
     "name": "stdout",
     "output_type": "stream",
     "text": [
      "['Python', 'Java', 'GO', 'GO', 'C++', 'JavaScript']\n"
     ]
    }
   ],
   "source": [
    "# insert() method \n",
    "# The insert() method inserts a new element at the specified position in the list.\n",
    "# The position is specified by the index.\n",
    "# insert(position , element)\n",
    "programming.insert(2,\"GO\")\n",
    "print(programming)"
   ]
  },
  {
   "cell_type": "code",
   "execution_count": 12,
   "metadata": {},
   "outputs": [
    {
     "name": "stdout",
     "output_type": "stream",
     "text": [
      "['Python', 'Java', 'GO', 'C++', 'JavaScript']\n"
     ]
    }
   ],
   "source": [
    "# remove()\n",
    "programming.remove(\"GO\")\n",
    "print(programming)"
   ]
  },
  {
   "cell_type": "code",
   "execution_count": 13,
   "metadata": {},
   "outputs": [
    {
     "name": "stdout",
     "output_type": "stream",
     "text": [
      "['Python', 'Java', 'GO', 'C++']\n"
     ]
    }
   ],
   "source": [
    "# pop()\n",
    "programming.pop()\n",
    "print(programming)"
   ]
  },
  {
   "cell_type": "code",
   "execution_count": 14,
   "metadata": {},
   "outputs": [
    {
     "name": "stdout",
     "output_type": "stream",
     "text": [
      "Python\n",
      "Java\n",
      "GO\n",
      "C++\n"
     ]
    }
   ],
   "source": [
    "# print list using for loop\n",
    "\n",
    "for i in programming:\n",
    "    print(i)"
   ]
  },
  {
   "cell_type": "code",
   "execution_count": 16,
   "metadata": {},
   "outputs": [
    {
     "name": "stdout",
     "output_type": "stream",
     "text": [
      "222\n",
      "333\n",
      "444\n"
     ]
    }
   ],
   "source": [
    "# how to take userinput into list \n",
    "\n",
    "\n",
    "# create a empty list \n",
    "data = []\n",
    "\n",
    "size = int(input(\"Enter the size of the list: \"))\n",
    "\n",
    "for i in range(size):\n",
    "    num = input(\"Enter the element: \")\n",
    "    data.append(num)\n",
    "\n",
    "\n",
    "# print list using loop\n",
    "\n",
    "for i in range(size):\n",
    "    print(data[i])\n",
    "\n",
    "\n"
   ]
  }
 ],
 "metadata": {
  "language_info": {
   "name": "python"
  }
 },
 "nbformat": 4,
 "nbformat_minor": 2
}
