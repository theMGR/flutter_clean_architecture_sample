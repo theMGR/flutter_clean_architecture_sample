{
 "cells": [
  {
   "cell_type": "code",
   "execution_count": 1,
   "metadata": {},
   "outputs": [
    {
     "name": "stdout",
     "output_type": "stream",
     "text": [
      "[]\n",
      "[1, 2, 3, 4, 5, 6, 7]\n",
      "[10, 'hello', 3.14, True]\n"
     ]
    }
   ],
   "source": [
    "# Create a Python List\n",
    "# https://p4n.in/f/learn-python-list?blogcategory=Python\n",
    "\n",
    "# Empty List \n",
    "emptry_list = []\n",
    "\n",
    "# list of integers\n",
    "numbers = [1,2,3,4,5,6,7]\n",
    "\n",
    "# list of mixed data type\n",
    "mixed_list = [10,\"hello\",3.14,True]\n",
    "\n",
    "\n",
    "print(emptry_list)\n",
    "print(numbers)\n",
    "print(mixed_list)"
   ]
  },
  {
   "cell_type": "code",
   "execution_count": 2,
   "metadata": {},
   "outputs": [
    {
     "name": "stdout",
     "output_type": "stream",
     "text": [
      "codeswithpankaj.com\n",
      "java\n"
     ]
    }
   ],
   "source": [
    "# Accessing Elements \n",
    "\n",
    "#          -4           -3                -2      -1\n",
    "data = ['p4n.in','codeswithpankaj.com','python','java']\n",
    "#          0             1                2        3\n",
    "\n",
    "print(data[1])\n",
    "print(data[-1])\n"
   ]
  },
  {
   "cell_type": "code",
   "execution_count": 2,
   "metadata": {},
   "outputs": [
    {
     "name": "stdout",
     "output_type": "stream",
     "text": [
      "codeswithpankaj.com\n",
      "10\n",
      "30\n",
      "40\n",
      "go\n"
     ]
    }
   ],
   "source": [
    "\n",
    "#           -5.-4.-3.-2.-1\n",
    "numbers =  [10,20,30,40,50]\n",
    "#           0  1  2  3  4 index \n",
    "first_element = numbers[0] #10\n",
    "third_element = numbers[2] #30\n",
    "\n",
    "print(first_element)\n",
    "print(third_element)\n",
    "print(numbers[-2])\n",
    "\n",
    "\n",
    "course = ['java','c++','go','ruby']\n",
    "\n",
    "print(course[2])"
   ]
  },
  {
   "cell_type": "code",
   "execution_count": 3,
   "metadata": {},
   "outputs": [
    {
     "name": "stdout",
     "output_type": "stream",
     "text": [
      "[3, 4, 5, 6]\n",
      "[3, 4, 5, 6, 7, 8, 9, 10]\n",
      "[1, 2, 3, 4]\n",
      "[1, 2, 3, 4, 5, 6, 7]\n",
      "[7, 8, 9, 10]\n",
      "[1, 2, 3, 4, 5, 6, 7, 8, 9, 10]\n"
     ]
    }
   ],
   "source": [
    "# Slicing of a Python List\n",
    "\n",
    "numbers = [1, 2, 3, 4, 5, 6, 7, 8, 9, 10]\n",
    "\n",
    "sub_list = numbers[2:6]   # [3, 4, 5, 6]\n",
    "print(sub_list)\n",
    "\n",
    "print(numbers[2:])\n",
    "print(numbers[:4])\n",
    "print(numbers[:-3])\n",
    "print(numbers[-4:])\n",
    "print(numbers[:])"
   ]
  },
  {
   "cell_type": "code",
   "execution_count": 5,
   "metadata": {},
   "outputs": [
    {
     "name": "stdout",
     "output_type": "stream",
     "text": [
      "44\n",
      "b\n"
     ]
    }
   ],
   "source": [
    "# Access nested list Data \n",
    "data = [34,45,67,89,10,[56,44,33,22]]\n",
    "print(data[5][1])\n",
    "data = [34,45,67,89,10,[56,44,['a','b','c'],33,22]]\n",
    "print(data[5][2][1])"
   ]
  },
  {
   "cell_type": "code",
   "execution_count": 12,
   "metadata": {},
   "outputs": [
    {
     "name": "stdout",
     "output_type": "stream",
     "text": [
      "Before - Modifying  ['python', 'java', 'c', 'c++', 'jsp']\n",
      "After - Modifying  ['python', 'java', 'ruby', 'c++', 'jsp']\n",
      "After add new item -  ['python', 'java', 'ruby', 'c++', 'jsp', 'C#']\n",
      "After Remove item -  ['python', 'ruby', 'c++', 'jsp', 'C#']\n",
      "After Extand ... ['python', 'ruby', 'c++', 'jsp', 'C#', 'GO', 'ML', 'DSA']\n"
     ]
    }
   ],
   "source": [
    "# Modifying Lists:\n",
    "numbers = [1,2,3,4,5,6]\n",
    "\n",
    "numbers[2] = 10 # modify the third elements to 10\n",
    "\n",
    "numbers.append(6) # add 6 at the end of the list\n",
    "\n",
    "numbers.pop(1) # remove the elements at index 1 (removes 2 in this case )\n",
    "\n",
    "# Example 2 \n",
    "Course = ['python','java','c','c++','jsp']\n",
    "print('Before - Modifying ',Course)\n",
    "Course[2] = 'ruby'\n",
    "print('After - Modifying ',Course)\n",
    "\n",
    "Course.append('C#')\n",
    "print('After add new item - ',Course)\n",
    "\n",
    "Course.pop(1) # 1 is index...\n",
    "print('After Remove item - ',Course)\n",
    "\n",
    "data = ['GO','ML','DSA']\n",
    "\n",
    "Course.extend(data)\n",
    "print('After Extand ...',Course)"
   ]
  },
  {
   "cell_type": "code",
   "execution_count": 13,
   "metadata": {},
   "outputs": [
    {
     "name": "stdout",
     "output_type": "stream",
     "text": [
      "Before Append: [21, 34, 54, 12]\n",
      "After Append: [21, 34, 54, 12, 32]\n",
      "After Append: [21, 34, 54, 12, 32, 'two']\n"
     ]
    }
   ],
   "source": [
    "# Add Elements to a Python List\n",
    "\n",
    "# 1. Using append()\n",
    "\n",
    "numbers = [21, 34, 54, 12]\n",
    "\n",
    "print(\"Before Append:\", numbers)\n",
    "\n",
    "\n",
    "# using append method\n",
    "numbers.append(32)\n",
    "\n",
    "print(\"After Append:\", numbers)\n",
    "\n",
    "# using append method\n",
    "numbers.append('two')\n",
    "\n",
    "print(\"After Append:\", numbers)"
   ]
  },
  {
   "cell_type": "code",
   "execution_count": 16,
   "metadata": {},
   "outputs": [
    {
     "name": "stdout",
     "output_type": "stream",
     "text": [
      "List1: [2, 3, 5]\n",
      "List2: [4, 6, 8]\n",
      "List after append: [2, 3, 5, 4, 6, 8]\n",
      "Food -  ['samosa', 'kachori', 'fafda']\n",
      "Update - List :  ['samosa', 'kachori', 'fafda', 100, 200, 300]\n"
     ]
    }
   ],
   "source": [
    "# 2. Using extend() \n",
    "\n",
    "prime_numbers = [2, 3, 5]\n",
    "\n",
    "print(\"List1:\", prime_numbers)\n",
    "\n",
    "\n",
    "even_numbers = [4, 6, 8]\n",
    "print(\"List2:\", even_numbers)\n",
    "\n",
    "\n",
    "# join two lists\n",
    "prime_numbers.extend(even_numbers)\n",
    "\n",
    "print(\"List after append:\", prime_numbers)\n",
    "\n",
    "# Example 2\n",
    "\n",
    "food = ['samosa','kachori','fafda']\n",
    "print('Food - ',food)\n",
    "\n",
    "price = [100,200,300]\n",
    "\n",
    "food.extend(price)\n",
    "print('Update - List : ',food)"
   ]
  },
  {
   "cell_type": "code",
   "execution_count": 19,
   "metadata": {},
   "outputs": [
    {
     "name": "stdout",
     "output_type": "stream",
     "text": [
      "befor update -  ['Python', 'Swift', 'C++']\n",
      "after update -  ['Python', 'Swift', 'C']\n"
     ]
    }
   ],
   "source": [
    "# Change List Items\n",
    "\n",
    "languages = ['Python', 'Swift', 'C++']\n",
    "\n",
    "print('befor update - ',languages)\n",
    "\n",
    "# changing the third item to 'C'\n",
    "\n",
    "languages[2] = 'C'\n",
    "\n",
    "print('after update - ',languages)  # ['Python', 'Swift', 'C']"
   ]
  },
  {
   "cell_type": "code",
   "execution_count": 21,
   "metadata": {},
   "outputs": [
    {
     "name": "stdout",
     "output_type": "stream",
     "text": [
      "befor delete  ['Python', 'Swift', 'C++', 'C', 'Java', 'Rust', 'R']\n",
      "['Python', 'C++', 'C', 'Java', 'Rust', 'R']\n",
      "['Python', 'C++', 'C', 'Java', 'Rust']\n",
      "['C', 'Java', 'Rust']\n"
     ]
    }
   ],
   "source": [
    "# Remove an Item From a List\n",
    "\n",
    "languages = ['Python', 'Swift', 'C++', 'C', 'Java', 'Rust', 'R']\n",
    "\n",
    "print('befor delete ',languages)\n",
    "\n",
    "# deleting the second item\n",
    "\n",
    "del languages[1]\n",
    "\n",
    "print(languages) # ['Python', 'C++', 'C', 'Java', 'Rust', 'R']\n",
    "\n",
    "\n",
    "# deleting the last item\n",
    "\n",
    "del languages[-1]\n",
    "\n",
    "print(languages) # ['Python', 'C++', 'C', 'Java', 'Rust']\n",
    "\n",
    "\n",
    "# delete first two items\n",
    "\n",
    "del languages[0 : 2]  # ['C', 'Java', 'Rust']\n",
    "\n",
    "print(languages)"
   ]
  },
  {
   "cell_type": "code",
   "execution_count": 22,
   "metadata": {},
   "outputs": [
    {
     "name": "stdout",
     "output_type": "stream",
     "text": [
      "['Swift', 'C++', 'C', 'Java', 'Rust', 'R']\n"
     ]
    }
   ],
   "source": [
    "# 2. Using remove()\n",
    "\n",
    "languages = ['Python', 'Swift', 'C++', 'C', 'Java', 'Rust', 'R']\n",
    "\n",
    "\n",
    "# remove 'Python' from the list\n",
    "\n",
    "languages.remove('Python')\n",
    "\n",
    "print(languages) # ['Swift', 'C++', 'C', 'Java', 'Rust', 'R']"
   ]
  },
  {
   "cell_type": "code",
   "execution_count": 13,
   "metadata": {},
   "outputs": [
    {
     "name": "stdout",
     "output_type": "stream",
     "text": [
      "Python\n",
      "Swift\n",
      "C++\n",
      "C\n",
      "Java\n",
      "Rust\n",
      "R\n"
     ]
    }
   ],
   "source": [
    "# Iterating through a List\n",
    "\n",
    "languages = ['Python', 'Swift', 'C++', 'C', 'Java', 'Rust', 'R']\n",
    "\n",
    "for i in languages:\n",
    "    print(i)"
   ]
  },
  {
   "cell_type": "code",
   "execution_count": 24,
   "metadata": {},
   "outputs": [
    {
     "name": "stdout",
     "output_type": "stream",
     "text": [
      "False\n",
      "True\n"
     ]
    }
   ],
   "source": [
    "# Check if an Item Exists in the Python List\n",
    "\n",
    "languages = ['Python', 'Swift', 'C++']\n",
    "\n",
    "\n",
    "print('C' in languages)    # False\n",
    "\n",
    "print('Python' in languages)    # True"
   ]
  },
  {
   "cell_type": "code",
   "execution_count": 14,
   "metadata": {},
   "outputs": [
    {
     "name": "stdout",
     "output_type": "stream",
     "text": [
      "List:  ['Python', 'Swift', 'C++']\n",
      "Total Elements:  3\n"
     ]
    }
   ],
   "source": [
    "# Python List Length len()\n",
    "\n",
    "languages = ['Python', 'Swift', 'C++']\n",
    "\n",
    "\n",
    "print(\"List: \", languages)\n",
    "\n",
    "print(\"Total Elements: \", len(languages))    # 3"
   ]
  },
  {
   "cell_type": "code",
   "execution_count": 15,
   "metadata": {},
   "outputs": [
    {
     "name": "stdout",
     "output_type": "stream",
     "text": [
      "[1, 4, 9, 16, 25]\n"
     ]
    }
   ],
   "source": [
    "# Python List Comprehension\n",
    "\n",
    "numbers = [number*number for number in range(1, 6)]\n",
    "\n",
    "\n",
    "print(numbers)    \n",
    "\n",
    "# Output: [1, 4, 9, 16, 25]"
   ]
  },
  {
   "cell_type": "code",
   "execution_count": 3,
   "metadata": {},
   "outputs": [
    {
     "name": "stdout",
     "output_type": "stream",
     "text": [
      "['apple', 'orange']\n",
      "Remove Item From List : -  banana\n"
     ]
    }
   ],
   "source": [
    "# pop(index): \n",
    "\n",
    "fruits = [\"apple\", \"banana\", \"orange\"]\n",
    "\n",
    "removed_fruit = fruits.pop(1)\n",
    "\n",
    "print(fruits)\n",
    "print('Remove Item From List : - ',removed_fruit)\n",
    "\n",
    "# removed_fruit is \"banana\", fruits is now [\"apple\", \"orange\"]"
   ]
  },
  {
   "cell_type": "code",
   "execution_count": 16,
   "metadata": {},
   "outputs": [
    {
     "name": "stdout",
     "output_type": "stream",
     "text": [
      "1\n"
     ]
    }
   ],
   "source": [
    "# index(item):\n",
    "\n",
    "fruits = [\"apple\", \"banana\", \"orange\"]\n",
    "\n",
    "index = fruits.index(\"banana\")\n",
    "\n",
    "# index is 1\n",
    "\n",
    "print(index) # find index from list ..."
   ]
  },
  {
   "cell_type": "code",
   "execution_count": 7,
   "metadata": {},
   "outputs": [
    {
     "name": "stdout",
     "output_type": "stream",
     "text": [
      "Count :  4\n"
     ]
    }
   ],
   "source": [
    "# count(item) from list \n",
    "\n",
    "# web = 'w w w . c o d e s w i t h p a n k a j . c o m'\n",
    "# print(web.split(' '))\n",
    "\n",
    "web = ['w', 'w', 'w', '.', 'c', 'o', 'd', 'e', 's', 'w', 'i', 't', 'h', 'p', 'a', 'n', 'k', 'a', 'j', '.', 'c', 'o', 'm']\n",
    "\n",
    "count = web.count('w')\n",
    "\n",
    "print('Count : ',count)"
   ]
  },
  {
   "cell_type": "code",
   "execution_count": 19,
   "metadata": {},
   "outputs": [
    {
     "name": "stdout",
     "output_type": "stream",
     "text": [
      "['.', '.', 'a', 'a', 'c', 'c', 'd', 'e', 'h', 'i', 'j', 'k', 'm', 'n', 'o', 'o', 'p', 's', 't', 'w', 'w', 'w', 'w']\n",
      "['w', 'w', 'w', 'w', 't', 's', 'p', 'o', 'o', 'n', 'm', 'k', 'j', 'i', 'h', 'e', 'd', 'c', 'c', 'a', 'a', '.', '.']\n"
     ]
    }
   ],
   "source": [
    "# sort(): Sorts the list in ascending order.\n",
    "web.sort()\n",
    "\n",
    "print(web)\n",
    "\n",
    "\n",
    "web.sort(reverse=True)\n",
    "\n",
    "print(web)"
   ]
  },
  {
   "cell_type": "code",
   "execution_count": 21,
   "metadata": {},
   "outputs": [
    {
     "name": "stdout",
     "output_type": "stream",
     "text": [
      "['orange', 'banana', 'apple']\n"
     ]
    }
   ],
   "source": [
    "# reverse()\n",
    "fruits = [\"apple\", \"banana\", \"orange\"]\n",
    "fruits.reverse()\n",
    "# fruits is now [\"orange\", \"banana\", \"apple\"]\n",
    "print(fruits)"
   ]
  },
  {
   "cell_type": "code",
   "execution_count": 22,
   "metadata": {},
   "outputs": [
    {
     "name": "stdout",
     "output_type": "stream",
     "text": [
      "Banana is in the list\n",
      "Grape is not in the list\n"
     ]
    }
   ],
   "source": [
    "# Check if an Element Exists in a List\n",
    "fruits = [\"apple\", \"banana\", \"orange\", \"kiwi\"]\n",
    "\n",
    "# Using the \"in\" operator\n",
    "if \"banana\" in fruits:\n",
    "    print(\"Banana is in the list\")\n",
    "\n",
    "# Using the \"not in\" operator\n",
    "if \"grape\" not in fruits:\n",
    "    print(\"Grape is not in the list\")"
   ]
  },
  {
   "cell_type": "code",
   "execution_count": 25,
   "metadata": {},
   "outputs": [
    {
     "name": "stdout",
     "output_type": "stream",
     "text": [
      "1 = samosa\n",
      "2 = fafda\n",
      "3 = jalebi\n"
     ]
    }
   ],
   "source": [
    "# how to take user input into list ....\n",
    "\n",
    "size = int(input('Enter List Size ....'))\n",
    "food = []\n",
    "\n",
    "for i in range(size):\n",
    "    i = input('Enter Food ... ')\n",
    "    food.append(i)\n",
    "\n",
    "\n",
    "for i in range(size):\n",
    "   print(i+1,'=',food[i])"
   ]
  },
  {
   "cell_type": "code",
   "execution_count": 2,
   "metadata": {},
   "outputs": [
    {
     "name": "stdout",
     "output_type": "stream",
     "text": [
      "1 .  python = 800 ₹\n",
      "2 .  java = 6790 ₹\n",
      "3 .  c++ = 450 ₹\n",
      "4 .  ruby = 3450 ₹\n"
     ]
    }
   ],
   "source": [
    "# concatenate list python\n",
    "# create a two list\n",
    "course = ['python','java','c++','ruby']\n",
    "price = [800,6790,450,3450]\n",
    "\n",
    "# size of list \n",
    "size = len(price)\n",
    "\n",
    "# Iterating through a List\n",
    "\n",
    "for i in range(size):\n",
    "    print((i+1),'. ',course[i] ,'=', price[i],'₹')\n"
   ]
  },
  {
   "cell_type": "code",
   "execution_count": 2,
   "metadata": {},
   "outputs": [
    {
     "name": "stdout",
     "output_type": "stream",
     "text": [
      "python\n",
      "java\n",
      "c++\n",
      "ruby\n"
     ]
    }
   ],
   "source": [
    "# using for loop into list ...\n",
    "course = ['python','java','c++','ruby']\n",
    "for i in course:\n",
    "    print(i)\n"
   ]
  },
  {
   "cell_type": "code",
   "execution_count": 7,
   "metadata": {},
   "outputs": [
    {
     "name": "stdout",
     "output_type": "stream",
     "text": [
      "['toys', 'books']\n"
     ]
    }
   ],
   "source": [
    "# user input into list - \n",
    "\n",
    "size = int(input('Enter Food List Size - '))\n",
    "\n",
    "# create a empty list \n",
    "food = []\n",
    "\n",
    "for i in range(size):\n",
    "    i = input('Enter Food Product Name - ')\n",
    "    food.append(i)\n",
    "\n",
    "print(food)    "
   ]
  }
 ],
 "metadata": {
  "kernelspec": {
   "display_name": "Python 3",
   "language": "python",
   "name": "python3"
  },
  "language_info": {
   "codemirror_mode": {
    "name": "ipython",
    "version": 3
   },
   "file_extension": ".py",
   "mimetype": "text/x-python",
   "name": "python",
   "nbconvert_exporter": "python",
   "pygments_lexer": "ipython3",
   "version": "3.10.8"
  },
  "orig_nbformat": 4
 },
 "nbformat": 4,
 "nbformat_minor": 2
}
