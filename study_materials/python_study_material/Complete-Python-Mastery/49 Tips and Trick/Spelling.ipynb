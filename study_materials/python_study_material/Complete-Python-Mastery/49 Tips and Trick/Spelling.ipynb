{
 "cells": [
  {
   "cell_type": "code",
   "execution_count": 2,
   "metadata": {},
   "outputs": [
    {
     "name": "stdout",
     "output_type": "stream",
     "text": [
      "Original Query: my  name is eleptant\n",
      "Corrected Query: Thank you for your query: my  name is elephant\n"
     ]
    }
   ],
   "source": [
    "from autocorrect import Speller\n",
    "\n",
    "class SpellingCorrector:\n",
    "    def __init__(self):\n",
    "        self.spell = Speller(lang='en')\n",
    "\n",
    "    def correct_spelling(self, query):\n",
    "        corrected_query = self.spell(query)\n",
    "        return corrected_query\n",
    "\n",
    "class CustomerSupport:\n",
    "    def __init__(self):\n",
    "        self.spelling_corrector = SpellingCorrector()\n",
    "\n",
    "    def process_query(self, query):\n",
    "        corrected_query = self.spelling_corrector.correct_spelling(query)\n",
    "        \n",
    "        response = self.generate_response(corrected_query)\n",
    "        return response\n",
    "\n",
    "    def generate_response(self, query):\n",
    "        \n",
    "        return \"Thank you for your query: \" + query\n",
    "\n",
    "\n",
    "def take_user_input():\n",
    "    return input(\"Please enter your query: \")\n",
    "\n",
    "\n",
    "if __name__ == \"__main__\":\n",
    "    support = CustomerSupport()\n",
    "    query = take_user_input()\n",
    "    response = support.process_query(query)\n",
    "    print(\"Original Query:\", query)\n",
    "    print(\"Corrected Query:\", response)\n"
   ]
  },
  {
   "cell_type": "code",
   "execution_count": 8,
   "metadata": {},
   "outputs": [
    {
     "name": "stdout",
     "output_type": "stream",
     "text": [
      "Collecting textblob\n",
      "  Downloading textblob-0.18.0.post0-py3-none-any.whl.metadata (4.5 kB)\n",
      "Collecting nltk>=3.8 (from textblob)\n",
      "  Downloading nltk-3.8.1-py3-none-any.whl.metadata (2.8 kB)\n",
      "Collecting click (from nltk>=3.8->textblob)\n",
      "  Downloading click-8.1.7-py3-none-any.whl.metadata (3.0 kB)\n",
      "Collecting joblib (from nltk>=3.8->textblob)\n",
      "  Downloading joblib-1.4.2-py3-none-any.whl.metadata (5.4 kB)\n",
      "Collecting regex>=2021.8.3 (from nltk>=3.8->textblob)\n",
      "  Downloading regex-2024.5.15-cp312-cp312-win_amd64.whl.metadata (41 kB)\n",
      "     ---------------------------------------- 0.0/42.0 kB ? eta -:--:--\n",
      "     ------------------ ------------------- 20.5/42.0 kB 640.0 kB/s eta 0:00:01\n",
      "     ---------------------------------------- 42.0/42.0 kB 1.0 MB/s eta 0:00:00\n",
      "Collecting tqdm (from nltk>=3.8->textblob)\n",
      "  Downloading tqdm-4.66.4-py3-none-any.whl.metadata (57 kB)\n",
      "     ---------------------------------------- 0.0/57.6 kB ? eta -:--:--\n",
      "     ---------------------------------------- 57.6/57.6 kB 1.5 MB/s eta 0:00:00\n",
      "Requirement already satisfied: colorama in c:\\users\\comp\\appdata\\roaming\\python\\python312\\site-packages (from click->nltk>=3.8->textblob) (0.4.6)\n",
      "Downloading textblob-0.18.0.post0-py3-none-any.whl (626 kB)\n",
      "   ---------------------------------------- 0.0/626.3 kB ? eta -:--:--\n",
      "   ------------------ --------------------- 286.7/626.3 kB 6.0 MB/s eta 0:00:01\n",
      "   --------------------------------- ------ 522.2/626.3 kB 6.6 MB/s eta 0:00:01\n",
      "   ---------------------------------------- 626.3/626.3 kB 5.7 MB/s eta 0:00:00\n",
      "Downloading nltk-3.8.1-py3-none-any.whl (1.5 MB)\n",
      "   ---------------------------------------- 0.0/1.5 MB ? eta -:--:--\n",
      "   -------- ------------------------------- 0.3/1.5 MB 7.0 MB/s eta 0:00:01\n",
      "   --------------- ------------------------ 0.6/1.5 MB 6.2 MB/s eta 0:00:01\n",
      "   ------------------------ --------------- 0.9/1.5 MB 6.6 MB/s eta 0:00:01\n",
      "   ---------------------------------- ----- 1.3/1.5 MB 6.9 MB/s eta 0:00:01\n",
      "   ---------------------------------------  1.5/1.5 MB 7.4 MB/s eta 0:00:01\n",
      "   ---------------------------------------- 1.5/1.5 MB 6.9 MB/s eta 0:00:00\n",
      "Downloading regex-2024.5.15-cp312-cp312-win_amd64.whl (268 kB)\n",
      "   ---------------------------------------- 0.0/268.5 kB ? eta -:--:--\n",
      "   ---------------------------------------- 268.5/268.5 kB 5.5 MB/s eta 0:00:00\n",
      "Downloading click-8.1.7-py3-none-any.whl (97 kB)\n",
      "   ---------------------------------------- 0.0/97.9 kB ? eta -:--:--\n",
      "   ---------------------------------------- 97.9/97.9 kB 5.5 MB/s eta 0:00:00\n",
      "Downloading joblib-1.4.2-py3-none-any.whl (301 kB)\n",
      "   ---------------------------------------- 0.0/301.8 kB ? eta -:--:--\n",
      "   ---------------------------------------  297.0/301.8 kB 9.2 MB/s eta 0:00:01\n",
      "   ---------------------------------------- 301.8/301.8 kB 6.3 MB/s eta 0:00:00\n",
      "Downloading tqdm-4.66.4-py3-none-any.whl (78 kB)\n",
      "   ---------------------------------------- 0.0/78.3 kB ? eta -:--:--\n",
      "   ---------------------------------------- 78.3/78.3 kB 4.5 MB/s eta 0:00:00\n",
      "Installing collected packages: tqdm, regex, joblib, click, nltk, textblob\n",
      "Successfully installed click-8.1.7 joblib-1.4.2 nltk-3.8.1 regex-2024.5.15 textblob-0.18.0.post0 tqdm-4.66.4\n",
      "Note: you may need to restart the kernel to use updated packages.\n"
     ]
    }
   ],
   "source": [
    "pip install textblob"
   ]
  },
  {
   "cell_type": "code",
   "execution_count": 3,
   "metadata": {},
   "outputs": [
    {
     "name": "stdout",
     "output_type": "stream",
     "text": [
      "Original message: I am havng truble wth my accunt.\n",
      "Corrected message: I am having trouble with my account.\n"
     ]
    }
   ],
   "source": [
    "from textblob import TextBlob\n",
    "\n",
    "def correct_spelling(message):\n",
    "    \n",
    "    blob = TextBlob(message)\n",
    "    \n",
    "   \n",
    "    corrected_message = blob.correct()\n",
    "    \n",
    "    return str(corrected_message)\n",
    "\n",
    "# Example usage\n",
    "customer_message = \"I am havng truble wth my accunt.\"\n",
    "corrected_message = correct_spelling(customer_message)\n",
    "print(\"Original message:\", customer_message)\n",
    "print(\"Corrected message:\", corrected_message)"
   ]
  },
  {
   "cell_type": "code",
   "execution_count": 10,
   "metadata": {},
   "outputs": [
    {
     "name": "stdout",
     "output_type": "stream",
     "text": [
      "Collecting pyspellchecker\n",
      "  Downloading pyspellchecker-0.8.1-py3-none-any.whl.metadata (9.4 kB)\n",
      "Downloading pyspellchecker-0.8.1-py3-none-any.whl (6.8 MB)\n",
      "   ---------------------------------------- 0.0/6.8 MB ? eta -:--:--\n",
      "   ---------------------------------------- 0.0/6.8 MB ? eta -:--:--\n",
      "   ---------------------------------------- 0.0/6.8 MB 653.6 kB/s eta 0:00:11\n",
      "   - -------------------------------------- 0.3/6.8 MB 2.6 MB/s eta 0:00:03\n",
      "   -- ------------------------------------- 0.5/6.8 MB 3.5 MB/s eta 0:00:02\n",
      "   --- ------------------------------------ 0.7/6.8 MB 3.5 MB/s eta 0:00:02\n",
      "   --------- ------------------------------ 1.5/6.8 MB 6.5 MB/s eta 0:00:01\n",
      "   ----------- ---------------------------- 2.0/6.8 MB 7.2 MB/s eta 0:00:01\n",
      "   -------------- ------------------------- 2.5/6.8 MB 7.9 MB/s eta 0:00:01\n",
      "   ------------------ --------------------- 3.1/6.8 MB 8.2 MB/s eta 0:00:01\n",
      "   --------------------- ------------------ 3.7/6.8 MB 8.7 MB/s eta 0:00:01\n",
      "   ------------------------ --------------- 4.2/6.8 MB 8.8 MB/s eta 0:00:01\n",
      "   ---------------------------- ----------- 4.8/6.8 MB 9.2 MB/s eta 0:00:01\n",
      "   ------------------------------- -------- 5.3/6.8 MB 9.2 MB/s eta 0:00:01\n",
      "   ---------------------------------- ----- 5.9/6.8 MB 9.4 MB/s eta 0:00:01\n",
      "   ------------------------------------- -- 6.4/6.8 MB 9.5 MB/s eta 0:00:01\n",
      "   ---------------------------------------  6.8/6.8 MB 9.6 MB/s eta 0:00:01\n",
      "   ---------------------------------------- 6.8/6.8 MB 9.0 MB/s eta 0:00:00\n",
      "Installing collected packages: pyspellchecker\n",
      "Successfully installed pyspellchecker-0.8.1\n",
      "Note: you may need to restart the kernel to use updated packages.\n"
     ]
    }
   ],
   "source": [
    "pip install pyspellchecker"
   ]
  },
  {
   "cell_type": "code",
   "execution_count": 11,
   "metadata": {},
   "outputs": [
    {
     "name": "stdout",
     "output_type": "stream",
     "text": [
      "Original message: I am havng truble wth my oraneg accunt.\n",
      "Corrected message: I am having trouble with my orange account\n"
     ]
    }
   ],
   "source": [
    "from spellchecker import SpellChecker\n",
    "\n",
    "def correct_spelling(message):\n",
    "    # Create a SpellChecker object\n",
    "    spell = SpellChecker()\n",
    "    \n",
    "    # Find and correct the spelling\n",
    "    corrected_message = []\n",
    "    words = message.split()\n",
    "    for word in words:\n",
    "        corrected_word = spell.correction(word)\n",
    "        corrected_message.append(corrected_word)\n",
    "    \n",
    "    return ' '.join(corrected_message)\n",
    "\n",
    "# Example usage\n",
    "customer_message = \"I am havng truble wth my oraneg accunt.\"\n",
    "corrected_message = correct_spelling(customer_message)\n",
    "print(\"Original message:\", customer_message)\n",
    "print(\"Corrected message:\", corrected_message)\n"
   ]
  }
 ],
 "metadata": {
  "kernelspec": {
   "display_name": "Python 3",
   "language": "python",
   "name": "python3"
  },
  "language_info": {
   "codemirror_mode": {
    "name": "ipython",
    "version": 3
   },
   "file_extension": ".py",
   "mimetype": "text/x-python",
   "name": "python",
   "nbconvert_exporter": "python",
   "pygments_lexer": "ipython3",
   "version": "3.12.3"
  }
 },
 "nbformat": 4,
 "nbformat_minor": 2
}
