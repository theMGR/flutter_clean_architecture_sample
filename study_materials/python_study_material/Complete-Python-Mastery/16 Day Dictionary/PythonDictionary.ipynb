{
  "cells": [
    {
      "cell_type": "code",
      "execution_count": 1,
      "metadata": {
        "trusted": true
      },
      "outputs": [
        {
          "name": "stdout",
          "output_type": "stream",
          "text": [
            "{'key1': 'value1', 'key2': 'value2', 'key3': 'value3'}\n"
          ]
        }
      ],
      "source": [
        "# basic syntax of a dictionary \n",
        "my_dict = {\n",
        "    \"key1\": \"value1\",\n",
        "    \"key2\": \"value2\",\n",
        "    \"key3\": \"value3\"\n",
        "}\n",
        "\n",
        "print(my_dict)"
      ]
    },
    {
      "cell_type": "code",
      "execution_count": 5,
      "metadata": {
        "trusted": true
      },
      "outputs": [
        {
          "name": "stdout",
          "output_type": "stream",
          "text": [
            "<class 'dict'>\n",
            "{'name': 'joy', 'age': 12}\n"
          ]
        }
      ],
      "source": [
        "# empty dictionary\n",
        "data = {}\n",
        "print(type(data))\n",
        "# dictionary with data \n",
        "\n",
        "data = {'name':'joy','age':12}\n",
        "print(data)"
      ]
    },
    {
      "cell_type": "code",
      "execution_count": 1,
      "metadata": {
        "trusted": true
      },
      "outputs": [
        {
          "name": "stdout",
          "output_type": "stream",
          "text": [
            "John\n",
            "20\n"
          ]
        }
      ],
      "source": [
        "student = {\n",
        "    \"name\": \"John\",\n",
        "    \"age\": 20,\n",
        "    \"grade\": \"A\"\n",
        "}\n",
        "# Accessing Values:\n",
        "print(student[\"name\"])\n",
        "print(student[\"age\"])"
      ]
    },
    {
      "cell_type": "code",
      "execution_count": 2,
      "metadata": {
        "trusted": true
      },
      "outputs": [
        {
          "name": "stdout",
          "output_type": "stream",
          "text": [
            "{'name': 'John', 'age': 12, 'grade': 'A'}\n"
          ]
        }
      ],
      "source": [
        "# Modifying\n",
        "student['age'] = 12\n",
        "print(student)"
      ]
    },
    {
      "cell_type": "code",
      "execution_count": 3,
      "metadata": {
        "trusted": true
      },
      "outputs": [
        {
          "name": "stdout",
          "output_type": "stream",
          "text": [
            "{'name': 'John', 'age': 12, 'grade': 'A', 'height': 4.5}\n"
          ]
        }
      ],
      "source": [
        "# Adding Items\n",
        "student['height'] = 4.5\n",
        "print(student)"
      ]
    },
    {
      "cell_type": "code",
      "execution_count": 4,
      "metadata": {
        "trusted": true
      },
      "outputs": [
        {
          "name": "stdout",
          "output_type": "stream",
          "text": [
            "Grade exists: A\n"
          ]
        }
      ],
      "source": [
        "# Checking Key Existence: \n",
        "if \"grade\" in student:\n",
        "    print(\"Grade exists:\", student[\"grade\"])"
      ]
    },
    {
      "cell_type": "code",
      "execution_count": 6,
      "metadata": {
        "trusted": true
      },
      "outputs": [
        {
          "name": "stdout",
          "output_type": "stream",
          "text": [
            "dict_keys(['name', 'age', 'grade'])\n",
            "dict_values(['John', 20, 'A'])\n",
            "dict_items([('name', 'John'), ('age', 20), ('grade', 'A')])\n",
            "John\n",
            "dictionary before pop()  {'name': 'John', 'age': 20, 'grade': 'A'}\n",
            "John\n",
            "dictionary after pop()  {'age': 20, 'grade': 'A'}\n"
          ]
        }
      ],
      "source": [
        "# Dictionary Methods:\n",
        "student = {\n",
        "    \"name\": \"John\",\n",
        "    \"age\": 20,\n",
        "    \"grade\": \"A\"\n",
        "}\n",
        "# keys(): Returns a list of all keys in the dictionary.\n",
        "print(student.keys())\n",
        "# values(): Returns a list of all values in the dictionary.\n",
        "print(student.values())\n",
        "# items(): Returns a list of key-value pairs as tuples.\n",
        "print(student.items())\n",
        "# get(key, default): Returns the value for a key if it exists, else returns a default value. //# Accessing Values:\n",
        "print(student.get('name'))\n",
        "# pop(key, default): Removes and returns the value associated with the key.\n",
        "print('dictionary before pop() ',student)\n",
        "print(student.pop('name'))\n",
        "print('dictionary after pop() ',student)\n"
      ]
    },
    {
      "cell_type": "code",
      "execution_count": 21,
      "metadata": {
        "trusted": true
      },
      "outputs": [
        {
          "name": "stdout",
          "output_type": "stream",
          "text": [
            "{1: 1, 2: 4, 3: 9, 4: 16, 5: 25}\n"
          ]
        }
      ],
      "source": [
        "# Dictionary Comprehension\n",
        "squared_numbers = {x: x ** 2 for x in range(1, 6)}\n",
        "# Output: {1: 1, 2: 4, 3: 9, 4: 16, 5: 25}\n",
        "print(squared_numbers)"
      ]
    },
    {
      "cell_type": "code",
      "execution_count": 8,
      "metadata": {
        "trusted": true
      },
      "outputs": [
        {
          "name": "stdout",
          "output_type": "stream",
          "text": [
            "{'employee1': {'name': 'Alice', 'age': 30}, 'employee2': {'name': 'Bob', 'age': 25}}\n"
          ]
        }
      ],
      "source": [
        "employees = {\n",
        "    \"employee1\": {\n",
        "        \"name\": \"Alice\",\n",
        "        \"age\": 30\n",
        "    },\n",
        "    \"employee2\": {\n",
        "        \"name\": \"Bob\",\n",
        "        \"age\": 25\n",
        "    }\n",
        "}\n",
        "# Accessing Values:\n",
        "print(employees)"
      ]
    },
    {
      "cell_type": "code",
      "execution_count": 9,
      "metadata": {
        "trusted": true
      },
      "outputs": [
        {
          "name": "stdout",
          "output_type": "stream",
          "text": [
            "Bob\n"
          ]
        }
      ],
      "source": [
        "print(employees['employee2']['name'])"
      ]
    },
    {
      "cell_type": "code",
      "execution_count": 33,
      "metadata": {
        "trusted": true
      },
      "outputs": [
        {
          "name": "stdout",
          "output_type": "stream",
          "text": [
            "Name = Bangur Nagar\n",
            "Description = null\n",
            "BranchType = Sub Post Office\n",
            "DeliveryStatus = Non-Delivery\n",
            "Circle = Maharashtra\n",
            "District = Mumbai\n",
            "Division = Mumbai  North West\n",
            "Region = Mumbai\n",
            "Block = Goregaon West\n",
            "State = Maharashtra\n",
            "Country = India\n",
            "Pincode = 400104\n"
          ]
        }
      ],
      "source": [
        "# Iterating Through Keys and Values:\n",
        "data = {\n",
        "        \"Name\": \"Bangur Nagar\",\n",
        "        \"Description\": \"null\",\n",
        "        \"BranchType\": \"Sub Post Office\",\n",
        "        \"DeliveryStatus\": \"Non-Delivery\",\n",
        "        \"Circle\": \"Maharashtra\",\n",
        "        \"District\": \"Mumbai\",\n",
        "        \"Division\": \"Mumbai  North West\",\n",
        "        \"Region\": \"Mumbai\",\n",
        "        \"Block\": \"Goregaon West\",\n",
        "        \"State\": \"Maharashtra\",\n",
        "        \"Country\": \"India\",\n",
        "        \"Pincode\": \"400104\"\n",
        "      }\n",
        "\n",
        "for i in data:\n",
        "    print(i,'=',data[i])"
      ]
    }
  ],
  "metadata": {
    "kernelspec": {
      "display_name": "Python 3",
      "language": "python",
      "name": "python3"
    },
    "language_info": {
      "codemirror_mode": {
        "name": "ipython",
        "version": 3
      },
      "file_extension": ".py",
      "mimetype": "text/x-python",
      "name": "python",
      "nbconvert_exporter": "python",
      "pygments_lexer": "ipython3",
      "version": "3.10.8"
    }
  },
  "nbformat": 4,
  "nbformat_minor": 4
}
