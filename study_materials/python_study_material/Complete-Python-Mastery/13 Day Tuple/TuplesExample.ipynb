{
 "cells": [
  {
   "cell_type": "code",
   "execution_count": 7,
   "metadata": {},
   "outputs": [
    {
     "name": "stdout",
     "output_type": "stream",
     "text": [
      "('apple', 'banana', 'cherry', 'Mango', 'pineapple')\n"
     ]
    }
   ],
   "source": [
    "# Tuple in python\n",
    "# Tuple is a collection of items which is ordered and unchangeable. Allows duplicate members.\n",
    "# Tuple is defined by values separated by commas, enclosed in parentheses.\n",
    "# Create a Tuple:\n",
    "tuple1 = (\"apple\", \"banana\", \"cherry\",\"Mango\",\"pineapple\")\n",
    "print(tuple1)"
   ]
  },
  {
   "cell_type": "code",
   "execution_count": 8,
   "metadata": {},
   "outputs": [
    {
     "name": "stdout",
     "output_type": "stream",
     "text": [
      "banana\n",
      "pineapple\n"
     ]
    }
   ],
   "source": [
    "# Access Tuple Items:\n",
    "# You can access tuple items by referring to the index number, inside square brackets.\n",
    "# Negative indexing means beginning from the end, -1 refers to the last item, -2 refers to the second last item etc.\n",
    "\n",
    "print(tuple1[1])\n",
    "print(tuple1[-1])"
   ]
  },
  {
   "cell_type": "code",
   "execution_count": 14,
   "metadata": {},
   "outputs": [
    {
     "name": "stdout",
     "output_type": "stream",
     "text": [
      "('apple', 'banana')\n",
      "('apple', 'banana', 'cherry')\n",
      "('cherry', 'Mango', 'pineapple')\n"
     ]
    }
   ],
   "source": [
    "#  Range of Indexes:\n",
    "# You can specify a range of indexes by specifying where to start and where to end the range.\n",
    "# When specifying a range, the return value will be a new tuple with the specified items.\n",
    "# The start index defaults to 0 and the end index defaults to the last item in the list\n",
    "print(tuple1[0:2])\n",
    "print(tuple1[:3])\n",
    "print(tuple1[2:])"
   ]
  },
  {
   "cell_type": "code",
   "execution_count": 17,
   "metadata": {},
   "outputs": [
    {
     "name": "stdout",
     "output_type": "stream",
     "text": [
      "('apple', 'kiwi', 'cherry', 'Mango', 'pineapple')\n"
     ]
    }
   ],
   "source": [
    "# Change Tuple Values:\n",
    "# Once a tuple is created, you cannot change its values. Tuples are unchangeable, or immutable as it also is called.\n",
    "# But there is a workaround. You can convert the tuple into a list, change the list, and convert the list back into a tuple.\n",
    "\n",
    "x = list(tuple1)\n",
    "x[1] = \"kiwi\"\n",
    "tuple1 = tuple(x)\n",
    "print(tuple1)"
   ]
  },
  {
   "cell_type": "code",
   "execution_count": 18,
   "metadata": {},
   "outputs": [
    {
     "name": "stdout",
     "output_type": "stream",
     "text": [
      "apple\n",
      "kiwi\n",
      "cherry\n",
      "Mango\n",
      "pineapple\n"
     ]
    }
   ],
   "source": [
    "# Loop Through a Tuple:\n",
    "# You can loop through the tuple items by using a for loop.\n",
    "for x in tuple1:\n",
    "    print(x)"
   ]
  },
  {
   "cell_type": "code",
   "execution_count": 22,
   "metadata": {},
   "outputs": [
    {
     "name": "stdout",
     "output_type": "stream",
     "text": [
      "4\n"
     ]
    }
   ],
   "source": [
    "# count() Method:\n",
    "# count() method returns the number of times a specified value occurs in a tuple.\n",
    "\n",
    "data = (11, 22, 33, 44, 55, 66, 22, 88, 99, 22, 33, 44, 55, 22, 77, 88, 99)\n",
    "print(data.count(22))"
   ]
  },
  {
   "cell_type": "code",
   "execution_count": 23,
   "metadata": {},
   "outputs": [
    {
     "name": "stdout",
     "output_type": "stream",
     "text": [
      "1\n"
     ]
    }
   ],
   "source": [
    "# index() Method:\n",
    "# index() method finds the first occurrence of the specified value.\n",
    "# index() method raises an exception if the value is not found.\n",
    "print(data.index(22))"
   ]
  }
 ],
 "metadata": {
  "kernelspec": {
   "display_name": "Python 3",
   "language": "python",
   "name": "python3"
  },
  "language_info": {
   "codemirror_mode": {
    "name": "ipython",
    "version": 3
   },
   "file_extension": ".py",
   "mimetype": "text/x-python",
   "name": "python",
   "nbconvert_exporter": "python",
   "pygments_lexer": "ipython3",
   "version": "3.12.1"
  }
 },
 "nbformat": 4,
 "nbformat_minor": 2
}
