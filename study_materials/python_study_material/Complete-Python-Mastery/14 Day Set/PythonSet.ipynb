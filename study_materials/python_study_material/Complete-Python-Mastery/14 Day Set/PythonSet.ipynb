{
  "metadata": {
    "language_info": {
      "codemirror_mode": {
        "name": "python",
        "version": 3
      },
      "file_extension": ".py",
      "mimetype": "text/x-python",
      "name": "python",
      "nbconvert_exporter": "python",
      "pygments_lexer": "ipython3",
      "version": "3.8"
    },
    "kernelspec": {
      "name": "python",
      "display_name": "Python (Pyodide)",
      "language": "python"
    }
  },
  "nbformat_minor": 4,
  "nbformat": 4,
  "cells": [
    {
      "cell_type": "code",
      "source": "# create a set of integer type\nstudent_id = {112,112,114, 116, 118, 115}\nprint('Student ID:', student_id)\n\n# create a set of string type\nvowel_letters = {'a', 'e', 'i', 'o', 'u'}\nprint('Vowel Letters:', vowel_letters)\n\n# create a set of mixed data types\nmixed_set = {'Hello', 101, -2, 'Bye'}\nprint('Set of mixed data types:', mixed_set)",
      "metadata": {
        "trusted": true
      },
      "execution_count": 2,
      "outputs": [
        {
          "name": "stdout",
          "text": "Student ID: {112, 114, 115, 116, 118}\nVowel Letters: {'i', 'o', 'a', 'e', 'u'}\nSet of mixed data types: {'Hello', 101, -2, 'Bye'}\n",
          "output_type": "stream"
        }
      ]
    },
    {
      "cell_type": "code",
      "source": "# create an empty set using set() function \nempty_set = set() \n\n# create an empty dictionary\nempty_dictionary = { }\n\n# check data type of empty_set\nprint('Data type of empty_set:', type(empty_set))\n\n# check data type of dictionary_set\nprint('Data type of empty_dictionary', type(empty_dictionary))",
      "metadata": {
        "trusted": true
      },
      "execution_count": 3,
      "outputs": [
        {
          "name": "stdout",
          "text": "Data type of empty_set: <class 'set'>\nData type of empty_dictionary <class 'dict'>\n",
          "output_type": "stream"
        }
      ]
    },
    {
      "cell_type": "code",
      "source": "# Duplicate Items in a Set\ndata = {11,11,11,22,33,44,33,22,33,44,55,99}\nprint(data)",
      "metadata": {
        "trusted": true
      },
      "execution_count": 4,
      "outputs": [
        {
          "name": "stdout",
          "text": "{33, 99, 22, 55, 11, 44}\n",
          "output_type": "stream"
        }
      ]
    },
    {
      "cell_type": "code",
      "source": "# using add() method\ndata.add(77)\nprint('after adding new item : ',data)",
      "metadata": {
        "trusted": true
      },
      "execution_count": 5,
      "outputs": [
        {
          "name": "stdout",
          "text": "after adding new item :  {33, 99, 22, 55, 11, 44, 77}\n",
          "output_type": "stream"
        }
      ]
    },
    {
      "cell_type": "code",
      "source": "# Update Python Set\ncompanies = {'Lacoste', 'Ralph Lauren'}\ntech_companies = ['apple', 'google', 'apple']\n\ncompanies.update(tech_companies)\n\nprint(companies)\n\n# Output: {'google', 'apple', 'Lacoste', 'Ralph Lauren'}\n\ncompanies.update(['p4n'])\n\nprint(companies)",
      "metadata": {
        "trusted": true
      },
      "execution_count": 8,
      "outputs": [
        {
          "name": "stdout",
          "text": "{'google', 'apple', 'Lacoste', 'Ralph Lauren'}\n{'google', 'apple', 'Lacoste', 'l', 'm', 'Ralph Lauren', 'o', 'c', 'e', 'w'}\n",
          "output_type": "stream"
        }
      ]
    },
    {
      "cell_type": "code",
      "source": "# discard() method to remove the specified element from a set\nlanguages = {'Swift', 'Java', 'Python'}\n\nprint('Initial Set:',languages)\n\n# remove 'Java' from a set\nremovedValue = languages.discard('Java')\n\nprint('Set after remove():', languages)\n",
      "metadata": {
        "trusted": true
      },
      "execution_count": 12,
      "outputs": [
        {
          "name": "stdout",
          "text": "Initial Set: {'Python', 'Swift', 'Java'}\nSet after remove(): {'Python', 'Swift'}\nRemove Item From Set ..  None\n",
          "output_type": "stream"
        }
      ]
    },
    {
      "cell_type": "code",
      "source": "# Iterate Over a Set in Python\nfor i in languages:\n    print(i)",
      "metadata": {
        "trusted": true
      },
      "execution_count": 13,
      "outputs": [
        {
          "name": "stdout",
          "text": "Python\nSwift\n",
          "output_type": "stream"
        }
      ]
    },
    {
      "cell_type": "code",
      "source": "# Find Number of Set Elements\neven_numbers = {2,4,6,8,6,4,2}\nprint('Set:',even_numbers)\n\n# find number of elements\nprint('Total Elements:', len(even_numbers))",
      "metadata": {
        "trusted": true
      },
      "execution_count": 14,
      "outputs": [
        {
          "name": "stdout",
          "text": "Set: {8, 2, 4, 6}\nTotal Elements: 4\n",
          "output_type": "stream"
        }
      ]
    },
    {
      "cell_type": "code",
      "source": "#clear() – Remove elements from a set\n# Remove all elements from set\nlanguages = {'Python', 'C++', 'Java'}\nlanguages.clear()\nprint(languages)  \n\n# Output: \n# set()",
      "metadata": {
        "trusted": true
      },
      "execution_count": 15,
      "outputs": [
        {
          "name": "stdout",
          "text": "set()\n",
          "output_type": "stream"
        }
      ]
    },
    {
      "cell_type": "code",
      "source": "# copy() – Create a copy of a set\n# Create set\noriginal_set = {'Python', 'C++', 'Java'}\n\n# Create a copy of the set\nnew_set = original_set.copy()\nprint(new_set) \n ",
      "metadata": {
        "trusted": true
      },
      "execution_count": 18,
      "outputs": [
        {
          "name": "stdout",
          "text": "{'Python', 'Java', 'C++'}\n",
          "output_type": "stream"
        }
      ]
    },
    {
      "cell_type": "code",
      "source": "# union() – Union of Two Sets\n\n# Find the union of three sets\nset1 = {1, 2, 3}\nset2 = {3, 4, 5}\nset3 = {5, 6, 7}\nunion = set1.union(set2, set3)\nprint(union) \n \n# Output: \n# {1, 2, 3, 4, 5, 6, 7}\nunion = set1|set3|set2\nprint(union) \n",
      "metadata": {
        "trusted": true
      },
      "execution_count": 21,
      "outputs": [
        {
          "name": "stdout",
          "text": "{1, 2, 3, 4, 5, 6, 7}\n{1, 2, 3, 4, 5, 6, 7}\n",
          "output_type": "stream"
        }
      ]
    },
    {
      "cell_type": "code",
      "source": "# intersection() – Get Intersection of Two Sets\n# Find the intersection of two sets\nset1 = {'Python', 'Java', 'C++'}\nset2 = {'Java', 'C++', 'Go'}\nintersection = set1.intersection(set2)\nprint(intersection)\n  \n# Output: \n# {'Java', 'C++'}\nintersection = set1 & set2\nprint(intersection)",
      "metadata": {
        "trusted": true
      },
      "execution_count": 23,
      "outputs": [
        {
          "name": "stdout",
          "text": "{'Java', 'C++'}\n{'Java', 'C++'}\n",
          "output_type": "stream"
        }
      ]
    },
    {
      "cell_type": "code",
      "source": "# difference() method \ndata1 = {1,3,3,2,4,6}\ndata2 = {4,5,6,2,2,2}\n\nprint(data1.difference(data2))\nprint(data2.difference(data1))\n\nprint(data1 - data2)\n",
      "metadata": {
        "trusted": true
      },
      "execution_count": 28,
      "outputs": [
        {
          "name": "stdout",
          "text": "{1, 3}\n{5}\n{1, 3}\n",
          "output_type": "stream"
        }
      ]
    },
    {
      "cell_type": "code",
      "source": "# symmetric_difference() \nprint(data1.symmetric_difference(data2))\nprint(data1^data2)",
      "metadata": {
        "trusted": true
      },
      "execution_count": 30,
      "outputs": [
        {
          "name": "stdout",
          "text": "{1, 3, 5}\n{1, 3, 5}\n",
          "output_type": "stream"
        }
      ]
    },
    {
      "cell_type": "code",
      "source": "",
      "metadata": {},
      "execution_count": null,
      "outputs": []
    }
  ]
}