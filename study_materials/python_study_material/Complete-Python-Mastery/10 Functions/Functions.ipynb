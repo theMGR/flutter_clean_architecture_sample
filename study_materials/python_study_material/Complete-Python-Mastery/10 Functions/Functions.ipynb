{
 "cells": [
  {
   "cell_type": "code",
   "execution_count": 3,
   "metadata": {},
   "outputs": [],
   "source": [
    "# Example 1 basic\n",
    "# --> https://www.p4n.store/python/python-functions/python-functions\n",
    "\n",
    "#def function_name():\n",
    "    # Function body - code that defines what the function does\n",
    "\n",
    "def website():\n",
    "    print('www.p4n.in')"
   ]
  },
  {
   "cell_type": "code",
   "execution_count": 5,
   "metadata": {},
   "outputs": [
    {
     "name": "stdout",
     "output_type": "stream",
     "text": [
      "www.p4n.in\n",
      "www.p4n.in\n",
      "www.p4n.in\n",
      "www.p4n.in\n"
     ]
    }
   ],
   "source": [
    "# calling function\n",
    "website()\n",
    "# calling multipal time \n",
    "website()\n",
    "website()\n",
    "website()\n"
   ]
  },
  {
   "cell_type": "code",
   "execution_count": 7,
   "metadata": {},
   "outputs": [],
   "source": [
    "# Function Argument\n",
    "\n",
    "#def function_name(parameter1, parameter2, ...):\n",
    "    # Function body - code that defines what the function does\n",
    "    # You can use the parameters inside the function to perform operations\n",
    "\n",
    "def WebsiteName(website):\n",
    "    print('Your Website is : ',website)"
   ]
  },
  {
   "cell_type": "code",
   "execution_count": 10,
   "metadata": {},
   "outputs": [
    {
     "name": "stdout",
     "output_type": "stream",
     "text": [
      "Your Website is :  www.p4n.in\n",
      "Your Website is :  www.codeswithpankaj.com\n",
      "Your Website is :  www.p4n.store\n",
      "Your Website is :  www.pn2.in\n",
      "Your Website is :  www.khojo24.com\n"
     ]
    }
   ],
   "source": [
    "# calling function \n",
    "\n",
    "WebsiteName('www.p4n.in')\n",
    "WebsiteName('www.codeswithpankaj.com')\n",
    "WebsiteName('www.p4n.store')\n",
    "WebsiteName('www.pn2.in')\n",
    "WebsiteName('www.khojo24.com')\n"
   ]
  },
  {
   "cell_type": "code",
   "execution_count": 4,
   "metadata": {},
   "outputs": [],
   "source": [
    "def mrp(price,gst):\n",
    "    GstAmount = price*gst/100\n",
    "    finalPrice = GstAmount+price\n",
    "    print('GST : ',gst,'%')\n",
    "    print('GST Amount - ',GstAmount,'₹')\n",
    "    print('final Price : ',finalPrice,'₹')"
   ]
  },
  {
   "cell_type": "code",
   "execution_count": 7,
   "metadata": {},
   "outputs": [
    {
     "name": "stdout",
     "output_type": "stream",
     "text": [
      "GST :  18 %\n",
      "GST Amount -  216.0 ₹\n",
      "final Price :  1416.0 ₹\n",
      "GST :  9 %\n",
      "GST Amount -  4110.3 ₹\n",
      "final Price :  49780.3 ₹\n"
     ]
    }
   ],
   "source": [
    "mrp(1200,18)\n",
    "mrp(45670,9)"
   ]
  },
  {
   "cell_type": "code",
   "execution_count": 12,
   "metadata": {},
   "outputs": [],
   "source": [
    "# Example 2\n",
    "\n",
    "def info(name,height,age):\n",
    "    print('Your Name is : ',name)\n",
    "    print('Your Age is : ',age)\n",
    "    print('Your height is : ',height)"
   ]
  },
  {
   "cell_type": "code",
   "execution_count": 13,
   "metadata": {},
   "outputs": [
    {
     "name": "stdout",
     "output_type": "stream",
     "text": [
      "Your Name is :  joy\n",
      "Your Age is :  12\n",
      "Your height is :  4.5\n"
     ]
    }
   ],
   "source": [
    "info('joy',4.5,12)"
   ]
  },
  {
   "cell_type": "code",
   "execution_count": 14,
   "metadata": {},
   "outputs": [],
   "source": [
    "# Write a Program to Check Whether a Number is Even or Odd (using function)\n",
    "\n",
    "def CheckEvenOdd(Number):\n",
    "    if Number%2 == 0 :\n",
    "        print(Number, \"--- is Even\")\n",
    "    else:\n",
    "        print(Number, \"--- is Odd\")    \n",
    "    "
   ]
  },
  {
   "cell_type": "code",
   "execution_count": 17,
   "metadata": {},
   "outputs": [
    {
     "name": "stdout",
     "output_type": "stream",
     "text": [
      "23 --- is Odd\n",
      "2334324 --- is Even\n",
      "2311 --- is Odd\n"
     ]
    }
   ],
   "source": [
    "CheckEvenOdd(23)\n",
    "CheckEvenOdd(2334324)\n",
    "CheckEvenOdd(2311)"
   ]
  },
  {
   "cell_type": "code",
   "execution_count": 2,
   "metadata": {},
   "outputs": [],
   "source": [
    "# return type \n",
    "def SetName():\n",
    "    return 'www.p4n.in' # return value ..."
   ]
  },
  {
   "cell_type": "code",
   "execution_count": 3,
   "metadata": {},
   "outputs": [
    {
     "name": "stdout",
     "output_type": "stream",
     "text": [
      "www.p4n.in\n"
     ]
    }
   ],
   "source": [
    "web = SetName()\n",
    "print(web)"
   ]
  },
  {
   "cell_type": "code",
   "execution_count": 3,
   "metadata": {},
   "outputs": [],
   "source": [
    "# how to use arg...(parameter1) and Return type \n",
    "\n",
    "def tax(price,tax): #parameter price, tax\n",
    "    tax = price*tax/100\n",
    "    price = tax+price\n",
    "    # Return Value \n",
    "    return price"
   ]
  },
  {
   "cell_type": "code",
   "execution_count": 4,
   "metadata": {},
   "outputs": [
    {
     "name": "stdout",
     "output_type": "stream",
     "text": [
      "1406.0\n"
     ]
    }
   ],
   "source": [
    "mrp = tax(1200,18)\n",
    "\n",
    "print(mrp-10)"
   ]
  },
  {
   "cell_type": "code",
   "execution_count": 5,
   "metadata": {},
   "outputs": [
    {
     "name": "stdout",
     "output_type": "stream",
     "text": [
      "25\n"
     ]
    }
   ],
   "source": [
    "# Anonymous Function\n",
    "\n",
    "#lambda arguments: expression\n",
    "\n",
    "square = lambda x: x ** 2\n",
    "result = square(5)\n",
    "\n",
    "print(result)  # Output: 25"
   ]
  },
  {
   "cell_type": "code",
   "execution_count": 6,
   "metadata": {},
   "outputs": [],
   "source": [
    "# lambda using without arguments\n",
    "\n",
    "info = lambda : print(\"www.codeswithpankaj.com\")"
   ]
  },
  {
   "cell_type": "code",
   "execution_count": 7,
   "metadata": {},
   "outputs": [
    {
     "name": "stdout",
     "output_type": "stream",
     "text": [
      "www.codeswithpankaj.com\n"
     ]
    }
   ],
   "source": [
    "info()"
   ]
  },
  {
   "cell_type": "code",
   "execution_count": 6,
   "metadata": {},
   "outputs": [],
   "source": [
    "course = lambda web : print(\"Python Development - \",web)"
   ]
  },
  {
   "cell_type": "code",
   "execution_count": 7,
   "metadata": {},
   "outputs": [
    {
     "name": "stdout",
     "output_type": "stream",
     "text": [
      "Python Development -  www.p4n.in\n"
     ]
    }
   ],
   "source": [
    "# calling Lambda Function \n",
    "course(\"www.p4n.in\");"
   ]
  },
  {
   "cell_type": "code",
   "execution_count": 8,
   "metadata": {},
   "outputs": [],
   "source": [
    "# lambda using with single arguments\n",
    "\n",
    "web = lambda w : print('website - ',w)"
   ]
  },
  {
   "cell_type": "code",
   "execution_count": 9,
   "metadata": {},
   "outputs": [
    {
     "name": "stdout",
     "output_type": "stream",
     "text": [
      "website -  p4n.in\n"
     ]
    }
   ],
   "source": [
    "web(\"p4n.in\")"
   ]
  },
  {
   "cell_type": "code",
   "execution_count": 9,
   "metadata": {},
   "outputs": [],
   "source": [
    "# lambda using with multipal arguments\n",
    "\n",
    "Numbers = lambda num1,num2 : print(\"Result is : \",num1**num2)"
   ]
  },
  {
   "cell_type": "code",
   "execution_count": 10,
   "metadata": {},
   "outputs": [
    {
     "name": "stdout",
     "output_type": "stream",
     "text": [
      "Result is :  1728\n"
     ]
    }
   ],
   "source": [
    "# calling Lambda Function ---\n",
    "Numbers(12,3)"
   ]
  },
  {
   "cell_type": "code",
   "execution_count": 13,
   "metadata": {},
   "outputs": [],
   "source": [
    "#Python Recursion\n",
    "\n",
    "def factorial(n):\n",
    "\n",
    "    # Base case: factorial of 0 and 1 is 1\n",
    "\n",
    "    if n == 0 or n == 1:\n",
    "\n",
    "        return 1\n",
    "\n",
    "    else:\n",
    "\n",
    "        # Recursive case: multiply n by factorial of (n-1)\n",
    "\n",
    "        return n * factorial(n - 1)"
   ]
  },
  {
   "cell_type": "code",
   "execution_count": 14,
   "metadata": {},
   "outputs": [
    {
     "data": {
      "text/plain": [
       "720"
      ]
     },
     "execution_count": 14,
     "metadata": {},
     "output_type": "execute_result"
    }
   ],
   "source": [
    "factorial(6)"
   ]
  },
  {
   "cell_type": "code",
   "execution_count": 12,
   "metadata": {},
   "outputs": [
    {
     "name": "stdout",
     "output_type": "stream",
     "text": [
      "10\n"
     ]
    }
   ],
   "source": [
    "# Global Variables\n",
    "global_var = 10\n",
    "\n",
    "def my_function():\n",
    "    # Access the global variable\n",
    "    print(global_var)\n",
    "\n",
    "my_function()   # Output: 10"
   ]
  },
  {
   "cell_type": "code",
   "execution_count": 13,
   "metadata": {},
   "outputs": [
    {
     "name": "stdout",
     "output_type": "stream",
     "text": [
      "5\n"
     ]
    }
   ],
   "source": [
    "# Local Variables:\n",
    "\n",
    "def my_function():\n",
    "    local_var = 5\n",
    "    print(local_var)\n",
    "\n",
    "my_function()   # Output: 5"
   ]
  },
  {
   "cell_type": "code",
   "execution_count": 15,
   "metadata": {},
   "outputs": [
    {
     "name": "stdout",
     "output_type": "stream",
     "text": [
      "20\n"
     ]
    }
   ],
   "source": [
    "# Nonlocal Variables:\n",
    "\n",
    "def outer_function():\n",
    "    outer_var = 10\n",
    "\n",
    "    def inner_function():\n",
    "        nonlocal outer_var\n",
    "        outer_var = 20\n",
    "\n",
    "    inner_function()\n",
    "    print(outer_var)   # Output: 20\n",
    "\n",
    "outer_function()"
   ]
  },
  {
   "cell_type": "code",
   "execution_count": 24,
   "metadata": {},
   "outputs": [],
   "source": [
    "# Global, Local and Nonlocal\n",
    "\n",
    "# food = \"samosa\"\n",
    "# price = 300\n",
    "\n",
    "def setProduct(product):\n",
    "    global Product\n",
    "    Product = product\n",
    "def setPrice(price):\n",
    "    global Price\n",
    "    Price = price\n",
    "    \n",
    "def bill():\n",
    "    print(\"Product Name : \",Product)\n",
    "    print(\"Product Price : \",Price)\n",
    "    "
   ]
  },
  {
   "cell_type": "code",
   "execution_count": 25,
   "metadata": {},
   "outputs": [
    {
     "name": "stdout",
     "output_type": "stream",
     "text": [
      "Product Name :  fafda\n",
      "Product Price :  450\n"
     ]
    }
   ],
   "source": [
    "setProduct(\"fafda\")\n",
    "setPrice(450)\n",
    "bill()"
   ]
  }
 ],
 "metadata": {
  "kernelspec": {
   "display_name": "Python 3",
   "language": "python",
   "name": "python3"
  },
  "language_info": {
   "codemirror_mode": {
    "name": "ipython",
    "version": 3
   },
   "file_extension": ".py",
   "mimetype": "text/x-python",
   "name": "python",
   "nbconvert_exporter": "python",
   "pygments_lexer": "ipython3",
   "version": "3.10.8"
  },
  "orig_nbformat": 4
 },
 "nbformat": 4,
 "nbformat_minor": 2
}
