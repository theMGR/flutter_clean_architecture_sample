{
 "cells": [
  {
   "cell_type": "code",
   "execution_count": 1,
   "metadata": {},
   "outputs": [
    {
     "name": "stdout",
     "output_type": "stream",
     "text": [
      "codeswithpankaj\n"
     ]
    }
   ],
   "source": [
    "print('codeswithpankaj')"
   ]
  },
  {
   "cell_type": "code",
   "execution_count": 3,
   "metadata": {},
   "outputs": [
    {
     "name": "stdout",
     "output_type": "stream",
     "text": [
      "My Name is :  Nishant\n",
      "My age is :  12\n",
      "My Height is :  3.4\n"
     ]
    }
   ],
   "source": [
    "name = 'Nishant'\n",
    "age = 12\n",
    "height = 3.4\n",
    "\n",
    "print('My Name is : ',name)\n",
    "print('My age is : ',age)\n",
    "print('My Height is : ',height)"
   ]
  },
  {
   "cell_type": "code",
   "execution_count": 4,
   "metadata": {},
   "outputs": [
    {
     "name": "stdout",
     "output_type": "stream",
     "text": [
      "My Name is :  codeswith\n",
      "My age is :  23\n",
      "My Height is :  4.5\n"
     ]
    }
   ],
   "source": [
    "# user input \n",
    "\n",
    "name = input('Enter Your Name - ')\n",
    "age = int(input('Enter your Age - '))\n",
    "height = float(input('Enter your height - '))\n",
    "\n",
    "print('My Name is : ',name)\n",
    "print('My age is : ',age)\n",
    "print('My Height is : ',height)"
   ]
  },
  {
   "cell_type": "code",
   "execution_count": 6,
   "metadata": {},
   "outputs": [
    {
     "name": "stdout",
     "output_type": "stream",
     "text": [
      "The Result is : -  68\n"
     ]
    }
   ],
   "source": [
    "# Example 2nd\n",
    "\n",
    "number1 = int(input('Enter Number 1 ... '))\n",
    "number2 = int(input('Enter Number 2 ... '))\n",
    "\n",
    "result = number1 + number2\n",
    "\n",
    "print('The Result is : - ',result)\n"
   ]
  },
  {
   "cell_type": "code",
   "execution_count": null,
   "metadata": {},
   "outputs": [],
   "source": [
    "# Data type in Python\n",
    "\n",
    "# 1. int\n",
    "# 2. float\n",
    "# 3. str\n",
    "# 4. bool\n",
    "# 5. list\n",
    "# 6. tuple\n",
    "# 7. set\n",
    "# 8. dict\n",
    "# 9. None\n",
    "# 10. complex\n",
    "# 11. range\n",
    "# 12. bytes\n",
    "# 13. bytearray"
   ]
  },
  {
   "cell_type": "code",
   "execution_count": null,
   "metadata": {},
   "outputs": [],
   "source": [
    "# Examples of each data type in Python\n",
    "\n",
    "# 1. int\n",
    "example_int = 10\n",
    "print(\"int:\", example_int)\n",
    "\n",
    "# 2. float\n",
    "example_float = 10.5\n",
    "print(\"float:\", example_float)\n",
    "\n",
    "# 3. str\n",
    "example_str = \"Hello, World!\"\n",
    "print(\"str:\", example_str)\n",
    "\n",
    "# 4. bool\n",
    "example_bool = True\n",
    "print(\"bool:\", example_bool)\n",
    "\n",
    "# 5. list\n",
    "example_list = [1, 2, 3, 4, 5]\n",
    "print(\"list:\", example_list)\n",
    "\n",
    "# 6. tuple\n",
    "example_tuple = (1, 2, 3, 4, 5)\n",
    "print(\"tuple:\", example_tuple)\n",
    "\n",
    "# 7. set\n",
    "example_set = {1, 2, 3, 4, 5}\n",
    "print(\"set:\", example_set)\n",
    "\n",
    "# 8. dict\n",
    "example_dict = {\"name\": \"Alice\", \"age\": 25}\n",
    "print(\"dict:\", example_dict)\n",
    "\n",
    "# 9. None\n",
    "example_none = None\n",
    "print(\"None:\", example_none)\n",
    "\n",
    "# 10. complex\n",
    "example_complex = 1 + 2j\n",
    "print(\"complex:\", example_complex)\n",
    "\n",
    "# 11. range\n",
    "example_range = range(5)\n",
    "print(\"range:\", list(example_range))\n",
    "\n",
    "# 12. bytes\n",
    "example_bytes = b\"Hello\"\n",
    "print(\"bytes:\", example_bytes)\n",
    "\n",
    "# 13. bytearray\n",
    "example_bytearray = bytearray(5)\n",
    "print(\"bytearray:\", example_bytearray)"
   ]
  }
 ],
 "metadata": {
  "kernelspec": {
   "display_name": "Python 3",
   "language": "python",
   "name": "python3"
  },
  "language_info": {
   "codemirror_mode": {
    "name": "ipython",
    "version": 3
   },
   "file_extension": ".py",
   "mimetype": "text/x-python",
   "name": "python",
   "nbconvert_exporter": "python",
   "pygments_lexer": "ipython3",
   "version": "3.12.0"
  }
 },
 "nbformat": 4,
 "nbformat_minor": 2
}
